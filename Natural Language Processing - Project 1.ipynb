{
 "cells": [
  {
   "cell_type": "code",
   "execution_count": 1,
   "id": "2066e849",
   "metadata": {},
   "outputs": [],
   "source": [
    "import zipfile\n",
    "import os\n",
    "import pandas as pd\n",
    "import numpy as np\n",
    "import seaborn as sns\n",
    "import matplotlib.pyplot as plt\n",
    "import re\n",
    "import nltk\n",
    "from nltk.corpus import stopwords\n",
    "from string import punctuation\n",
    "from nltk import word_tokenize\n",
    "from keras.preprocessing.text import Tokenizer\n",
    "from sklearn.model_selection import train_test_split\n",
    "from sklearn.feature_extraction.text import TfidfVectorizer\n",
    "from nltk.stem.wordnet import WordNetLemmatizer\n",
    "from gensim.models import Word2Vec\n",
    "from sklearn.feature_extraction.text import CountVectorizer\n",
    "from sklearn.preprocessing import MultiLabelBinarizer\n",
    "from sklearn.multiclass import OneVsRestClassifier\n",
    "from sklearn.linear_model import LogisticRegression\n",
    "from sklearn.naive_bayes import MultinomialNB\n",
    "import sklearn.metrics as metrics\n",
    "from sklearn.metrics import confusion_matrix, classification_report,f1_score, accuracy_score, recall_score, precision_score\n",
    "from sklearn.metrics import roc_curve, auc, roc_auc_score\n",
    "from sklearn.preprocessing import LabelEncoder\n",
    "from scipy import spatial\n",
    "import keras\n",
    "from keras_preprocessing.sequence import pad_sequences\n",
    "#!pip install pad_sequences\n",
    "from keras.models import Sequential\n",
    "from keras.layers import Dense, Flatten, LSTM, Bidirectional,Conv1D, MaxPooling1D, Dropout, Activation\n",
    "from tensorflow.keras.layers import Embedding\n",
    "import re\n",
    "import string\n",
    "import json\n",
    "import random\n",
    "import tensorflow as tf"
   ]
  },
  {
   "cell_type": "markdown",
   "id": "a412510f",
   "metadata": {},
   "source": [
    "# Part A"
   ]
  },
  {
   "cell_type": "markdown",
   "id": "9846c499",
   "metadata": {},
   "source": [
    "• **DOMAIN**: Digital content management\n",
    "\n",
    "• **CONTEXT**: Classification is probably the most popular task that you would deal with in real life. Text in the form of blogs, posts, articles, etc. are written every second. It is a challenge to predict the information about the writer without knowing about him/her. We are going to create a classifier that predicts multiple features of the author of a given text. We have designed it as a Multi label classification problem.\n",
    "\n",
    "• **DATA DESCRIPTION**: Over 600,000 posts from more than 19 thousand bloggers The Blog Authorship Corpus consists of the collected posts of 19,320 bloggers gathered from blogger.com in August 2004. The corpus incorporates a total of 681,288 posts and over 140 million words - or approximately 35 posts and 7250 words per person. Each blog is presented as a separate file, the name of which indicates a blogger id# and the blogger’s self-provided gender, age, industry, and astrological sign. (All are labelled for gender and age but for many, industry and/or sign is marked as unknown.) All bloggers included in the corpus fall into one of three age groups:\n",
    "• 8240 \"10s\" blogs (ages 13-17),\n",
    "• 8086 \"20s\" blogs(ages 23-27) and\n",
    "• 2994 \"30s\" blogs (ages 33-47)\n",
    "• For each age group, there is an equal number of male and female bloggers. Each blog in the corpus includes at least 200 occurrences of common English words. All formatting has been stripped with two exceptions. Individual posts within a single blogger are separated by the date of the following post and links within a post are denoted by the label url link.\n",
    "\n",
    "• **PROJECT OBJECTIVE**: To build a NLP classifier which can use input text parameters to determine the label/s of the blog. Specific to this case study, you can consider the text of the blog: ‘text’ feature as independent variable and ‘topic’ as dependent variable.\n",
    "\n",
    "**Steps and tasks**:"
   ]
  },
  {
   "cell_type": "markdown",
   "id": "32e84cf2",
   "metadata": {},
   "source": [
    "#### 1. Read and Analyse Dataset."
   ]
  },
  {
   "cell_type": "markdown",
   "id": "127a0204",
   "metadata": {},
   "source": [
    "##### A. Clearly write outcome of data analysis(Minimum 2 points)"
   ]
  },
  {
   "cell_type": "code",
   "execution_count": 2,
   "id": "dfd635d7",
   "metadata": {},
   "outputs": [],
   "source": [
    "with zipfile.ZipFile(\"D:/Nikhila/PGP - AIML/2. Projects/9. Natural Language Processing/Project 1/blogs.zip\",\"r\") as zip_ref:\n",
    "    zip_ref.extractall(\"D:/Nikhila/PGP - AIML/2. Projects/9. Natural Language Processing/Project 1\")"
   ]
  },
  {
   "cell_type": "code",
   "execution_count": 3,
   "id": "a4836070",
   "metadata": {},
   "outputs": [
    {
     "data": {
      "text/html": [
       "<div>\n",
       "<style scoped>\n",
       "    .dataframe tbody tr th:only-of-type {\n",
       "        vertical-align: middle;\n",
       "    }\n",
       "\n",
       "    .dataframe tbody tr th {\n",
       "        vertical-align: top;\n",
       "    }\n",
       "\n",
       "    .dataframe thead th {\n",
       "        text-align: right;\n",
       "    }\n",
       "</style>\n",
       "<table border=\"1\" class=\"dataframe\">\n",
       "  <thead>\n",
       "    <tr style=\"text-align: right;\">\n",
       "      <th></th>\n",
       "      <th>id</th>\n",
       "      <th>gender</th>\n",
       "      <th>age</th>\n",
       "      <th>topic</th>\n",
       "      <th>sign</th>\n",
       "      <th>date</th>\n",
       "      <th>text</th>\n",
       "    </tr>\n",
       "  </thead>\n",
       "  <tbody>\n",
       "    <tr>\n",
       "      <th>0</th>\n",
       "      <td>2059027</td>\n",
       "      <td>male</td>\n",
       "      <td>15</td>\n",
       "      <td>Student</td>\n",
       "      <td>Leo</td>\n",
       "      <td>14,May,2004</td>\n",
       "      <td>Info has been found (+/- 100 pages,...</td>\n",
       "    </tr>\n",
       "    <tr>\n",
       "      <th>1</th>\n",
       "      <td>2059027</td>\n",
       "      <td>male</td>\n",
       "      <td>15</td>\n",
       "      <td>Student</td>\n",
       "      <td>Leo</td>\n",
       "      <td>13,May,2004</td>\n",
       "      <td>These are the team members:   Drewe...</td>\n",
       "    </tr>\n",
       "    <tr>\n",
       "      <th>2</th>\n",
       "      <td>2059027</td>\n",
       "      <td>male</td>\n",
       "      <td>15</td>\n",
       "      <td>Student</td>\n",
       "      <td>Leo</td>\n",
       "      <td>12,May,2004</td>\n",
       "      <td>In het kader van kernfusie op aarde...</td>\n",
       "    </tr>\n",
       "    <tr>\n",
       "      <th>3</th>\n",
       "      <td>2059027</td>\n",
       "      <td>male</td>\n",
       "      <td>15</td>\n",
       "      <td>Student</td>\n",
       "      <td>Leo</td>\n",
       "      <td>12,May,2004</td>\n",
       "      <td>testing!!!  testing!!!</td>\n",
       "    </tr>\n",
       "    <tr>\n",
       "      <th>4</th>\n",
       "      <td>3581210</td>\n",
       "      <td>male</td>\n",
       "      <td>33</td>\n",
       "      <td>InvestmentBanking</td>\n",
       "      <td>Aquarius</td>\n",
       "      <td>11,June,2004</td>\n",
       "      <td>Thanks to Yahoo!'s Toolbar I can ...</td>\n",
       "    </tr>\n",
       "    <tr>\n",
       "      <th>5</th>\n",
       "      <td>3581210</td>\n",
       "      <td>male</td>\n",
       "      <td>33</td>\n",
       "      <td>InvestmentBanking</td>\n",
       "      <td>Aquarius</td>\n",
       "      <td>10,June,2004</td>\n",
       "      <td>I had an interesting conversation...</td>\n",
       "    </tr>\n",
       "    <tr>\n",
       "      <th>6</th>\n",
       "      <td>3581210</td>\n",
       "      <td>male</td>\n",
       "      <td>33</td>\n",
       "      <td>InvestmentBanking</td>\n",
       "      <td>Aquarius</td>\n",
       "      <td>10,June,2004</td>\n",
       "      <td>Somehow Coca-Cola has a way of su...</td>\n",
       "    </tr>\n",
       "    <tr>\n",
       "      <th>7</th>\n",
       "      <td>3581210</td>\n",
       "      <td>male</td>\n",
       "      <td>33</td>\n",
       "      <td>InvestmentBanking</td>\n",
       "      <td>Aquarius</td>\n",
       "      <td>10,June,2004</td>\n",
       "      <td>If anything, Korea is a country o...</td>\n",
       "    </tr>\n",
       "    <tr>\n",
       "      <th>8</th>\n",
       "      <td>3581210</td>\n",
       "      <td>male</td>\n",
       "      <td>33</td>\n",
       "      <td>InvestmentBanking</td>\n",
       "      <td>Aquarius</td>\n",
       "      <td>10,June,2004</td>\n",
       "      <td>Take a read of this news article ...</td>\n",
       "    </tr>\n",
       "    <tr>\n",
       "      <th>9</th>\n",
       "      <td>3581210</td>\n",
       "      <td>male</td>\n",
       "      <td>33</td>\n",
       "      <td>InvestmentBanking</td>\n",
       "      <td>Aquarius</td>\n",
       "      <td>09,June,2004</td>\n",
       "      <td>I surf the English news sites a l...</td>\n",
       "    </tr>\n",
       "  </tbody>\n",
       "</table>\n",
       "</div>"
      ],
      "text/plain": [
       "        id gender  age              topic      sign          date  \\\n",
       "0  2059027   male   15            Student       Leo   14,May,2004   \n",
       "1  2059027   male   15            Student       Leo   13,May,2004   \n",
       "2  2059027   male   15            Student       Leo   12,May,2004   \n",
       "3  2059027   male   15            Student       Leo   12,May,2004   \n",
       "4  3581210   male   33  InvestmentBanking  Aquarius  11,June,2004   \n",
       "5  3581210   male   33  InvestmentBanking  Aquarius  10,June,2004   \n",
       "6  3581210   male   33  InvestmentBanking  Aquarius  10,June,2004   \n",
       "7  3581210   male   33  InvestmentBanking  Aquarius  10,June,2004   \n",
       "8  3581210   male   33  InvestmentBanking  Aquarius  10,June,2004   \n",
       "9  3581210   male   33  InvestmentBanking  Aquarius  09,June,2004   \n",
       "\n",
       "                                                text  \n",
       "0             Info has been found (+/- 100 pages,...  \n",
       "1             These are the team members:   Drewe...  \n",
       "2             In het kader van kernfusie op aarde...  \n",
       "3                   testing!!!  testing!!!            \n",
       "4               Thanks to Yahoo!'s Toolbar I can ...  \n",
       "5               I had an interesting conversation...  \n",
       "6               Somehow Coca-Cola has a way of su...  \n",
       "7               If anything, Korea is a country o...  \n",
       "8               Take a read of this news article ...  \n",
       "9               I surf the English news sites a l...  "
      ]
     },
     "execution_count": 3,
     "metadata": {},
     "output_type": "execute_result"
    }
   ],
   "source": [
    "# Reading the data \n",
    "df = pd.read_csv(\"D:/Nikhila/PGP - AIML/2. Projects/9. Natural Language Processing/Project 1/blogtext.csv\")\n",
    "df.head(10)"
   ]
  },
  {
   "cell_type": "code",
   "execution_count": 4,
   "id": "3950e1c6",
   "metadata": {},
   "outputs": [
    {
     "data": {
      "text/plain": [
       "(681284, 7)"
      ]
     },
     "execution_count": 4,
     "metadata": {},
     "output_type": "execute_result"
    }
   ],
   "source": [
    "df.shape"
   ]
  },
  {
   "cell_type": "code",
   "execution_count": 5,
   "id": "7b86c102",
   "metadata": {},
   "outputs": [
    {
     "data": {
      "text/plain": [
       "'           Info has been found (+/- 100 pages, and 4.5 MB of .pdf files) Now i have to wait untill our team leader has processed it and learns html.         '"
      ]
     },
     "execution_count": 5,
     "metadata": {},
     "output_type": "execute_result"
    }
   ],
   "source": [
    "df['text'][0]"
   ]
  },
  {
   "cell_type": "code",
   "execution_count": 6,
   "id": "2b6e862e",
   "metadata": {},
   "outputs": [
    {
     "name": "stdout",
     "output_type": "stream",
     "text": [
      "Unique values in the column gender are 2 \n",
      "\n",
      "Unique values in the column age are 26 \n",
      "\n",
      "Unique values in the column topic are 40 \n",
      "\n",
      "Unique values in the column sign are 12\n"
     ]
    }
   ],
   "source": [
    "print('Unique values in the column gender are',df['gender'].nunique(),'\\n')\n",
    "print('Unique values in the column age are',df['age'].nunique(),'\\n')\n",
    "print('Unique values in the column topic are',df['topic'].nunique(),'\\n')\n",
    "print('Unique values in the column sign are',df['sign'].nunique())"
   ]
  },
  {
   "cell_type": "code",
   "execution_count": 7,
   "id": "600ae9a7",
   "metadata": {
    "scrolled": false
   },
   "outputs": [
    {
     "name": "stdout",
     "output_type": "stream",
     "text": [
      "['Student' 'InvestmentBanking' 'indUnk' 'Non-Profit' 'Banking' 'Education'\n",
      " 'Engineering' 'Science' 'Communications-Media' 'BusinessServices'\n",
      " 'Sports-Recreation' 'Arts' 'Internet' 'Museums-Libraries' 'Accounting'\n",
      " 'Technology' 'Law' 'Consulting' 'Automotive' 'Religion' 'Fashion'\n",
      " 'Publishing' 'Marketing' 'LawEnforcement-Security' 'HumanResources'\n",
      " 'Telecommunications' 'Military' 'Government' 'Transportation'\n",
      " 'Architecture' 'Advertising' 'Agriculture' 'Biotech' 'RealEstate'\n",
      " 'Manufacturing' 'Construction' 'Chemicals' 'Maritime' 'Tourism'\n",
      " 'Environment']\n"
     ]
    }
   ],
   "source": [
    "print(df.topic.unique())"
   ]
  },
  {
   "cell_type": "code",
   "execution_count": 8,
   "id": "0a9157c5",
   "metadata": {},
   "outputs": [
    {
     "data": {
      "text/plain": [
       "indUnk                     251015\n",
       "Student                    153903\n",
       "Technology                  42055\n",
       "Arts                        32449\n",
       "Education                   29633\n",
       "Communications-Media        20140\n",
       "Internet                    16006\n",
       "Non-Profit                  14700\n",
       "Engineering                 11653\n",
       "Law                          9040\n",
       "Publishing                   7753\n",
       "Science                      7269\n",
       "Government                   6907\n",
       "Consulting                   5862\n",
       "Religion                     5235\n",
       "Fashion                      4851\n",
       "Marketing                    4769\n",
       "Advertising                  4676\n",
       "BusinessServices             4500\n",
       "Banking                      4049\n",
       "Chemicals                    3928\n",
       "Telecommunications           3891\n",
       "Accounting                   3832\n",
       "Military                     3128\n",
       "Museums-Libraries            3096\n",
       "Sports-Recreation            3038\n",
       "HumanResources               3010\n",
       "RealEstate                   2870\n",
       "Transportation               2326\n",
       "Manufacturing                2272\n",
       "Biotech                      2234\n",
       "Tourism                      1942\n",
       "LawEnforcement-Security      1878\n",
       "Architecture                 1638\n",
       "InvestmentBanking            1292\n",
       "Automotive                   1244\n",
       "Agriculture                  1235\n",
       "Construction                 1093\n",
       "Environment                   592\n",
       "Maritime                      280\n",
       "Name: topic, dtype: int64"
      ]
     },
     "execution_count": 8,
     "metadata": {},
     "output_type": "execute_result"
    }
   ],
   "source": [
    "df.topic.value_counts()"
   ]
  },
  {
   "cell_type": "markdown",
   "id": "fd6f0c70",
   "metadata": {},
   "source": [
    "**Observation** - We have 681284 records with 40 different topics. The dataframe also has information about gender, age, sign and date."
   ]
  },
  {
   "cell_type": "code",
   "execution_count": 9,
   "id": "73719b12",
   "metadata": {},
   "outputs": [
    {
     "name": "stdout",
     "output_type": "stream",
     "text": [
      "The shape of the dataframe is (611652, 7)\n"
     ]
    }
   ],
   "source": [
    "# dropping duplicates and resetting index\n",
    "\n",
    "df.drop_duplicates(subset=\"text\",inplace=True)\n",
    "df.reset_index(inplace = True,drop=True)\n",
    "\n",
    "print('The shape of the dataframe is',df.shape)"
   ]
  },
  {
   "cell_type": "code",
   "execution_count": 10,
   "id": "b44c5e9c",
   "metadata": {},
   "outputs": [],
   "source": [
    "# dropping unnecessary columns\n",
    "\n",
    "df.drop(['id','date'], axis=1, inplace=True)"
   ]
  },
  {
   "cell_type": "markdown",
   "id": "ec2f815a",
   "metadata": {},
   "source": [
    "#### EDA"
   ]
  },
  {
   "cell_type": "code",
   "execution_count": 11,
   "id": "da43a623",
   "metadata": {},
   "outputs": [
    {
     "data": {
      "text/plain": [
       "<AxesSubplot:xlabel='gender', ylabel='count'>"
      ]
     },
     "execution_count": 11,
     "metadata": {},
     "output_type": "execute_result"
    },
    {
     "data": {
      "image/png": "[encoded data removed]",
      "text/plain": [
       "<Figure size 432x288 with 1 Axes>"
      ]
     },
     "metadata": {
      "needs_background": "light"
     },
     "output_type": "display_data"
    }
   ],
   "source": [
    "sns.countplot(x='gender',data=df)"
   ]
  },
  {
   "cell_type": "markdown",
   "id": "9d5ecfa5",
   "metadata": {},
   "source": [
    "**Observation**: We have approximately same number of records for male and female."
   ]
  },
  {
   "cell_type": "code",
   "execution_count": 12,
   "id": "629f81aa",
   "metadata": {},
   "outputs": [
    {
     "data": {
      "text/plain": [
       "<AxesSubplot:xlabel='age', ylabel='count'>"
      ]
     },
     "execution_count": 12,
     "metadata": {},
     "output_type": "execute_result"
    },
    {
     "data": {
      "image/png": "[encoded data removed]",
      "text/plain": [
       "<Figure size 1440x576 with 1 Axes>"
      ]
     },
     "metadata": {
      "needs_background": "light"
     },
     "output_type": "display_data"
    }
   ],
   "source": [
    "fig, ax = plt.subplots(figsize=(20, 8))\n",
    "sns.countplot(x='age',data=df)"
   ]
  },
  {
   "cell_type": "markdown",
   "id": "5af558ec",
   "metadata": {},
   "source": [
    "**Observation**:Lot of the data falls under age group of 10's and 20's."
   ]
  },
  {
   "cell_type": "code",
   "execution_count": 13,
   "id": "d3cd5bb0",
   "metadata": {},
   "outputs": [
    {
     "data": {
      "text/plain": [
       "(array([ 0,  1,  2,  3,  4,  5,  6,  7,  8,  9, 10, 11, 12, 13, 14, 15, 16,\n",
       "        17, 18, 19, 20, 21, 22, 23, 24, 25, 26, 27, 28, 29, 30, 31, 32, 33,\n",
       "        34, 35, 36, 37, 38, 39]),\n",
       " [Text(0, 0, 'Student'),\n",
       "  Text(1, 0, 'InvestmentBanking'),\n",
       "  Text(2, 0, 'indUnk'),\n",
       "  Text(3, 0, 'Non-Profit'),\n",
       "  Text(4, 0, 'Banking'),\n",
       "  Text(5, 0, 'Education'),\n",
       "  Text(6, 0, 'Engineering'),\n",
       "  Text(7, 0, 'Science'),\n",
       "  Text(8, 0, 'Communications-Media'),\n",
       "  Text(9, 0, 'BusinessServices'),\n",
       "  Text(10, 0, 'Sports-Recreation'),\n",
       "  Text(11, 0, 'Arts'),\n",
       "  Text(12, 0, 'Internet'),\n",
       "  Text(13, 0, 'Museums-Libraries'),\n",
       "  Text(14, 0, 'Accounting'),\n",
       "  Text(15, 0, 'Technology'),\n",
       "  Text(16, 0, 'Law'),\n",
       "  Text(17, 0, 'Consulting'),\n",
       "  Text(18, 0, 'Automotive'),\n",
       "  Text(19, 0, 'Religion'),\n",
       "  Text(20, 0, 'Fashion'),\n",
       "  Text(21, 0, 'Publishing'),\n",
       "  Text(22, 0, 'Marketing'),\n",
       "  Text(23, 0, 'LawEnforcement-Security'),\n",
       "  Text(24, 0, 'HumanResources'),\n",
       "  Text(25, 0, 'Telecommunications'),\n",
       "  Text(26, 0, 'Military'),\n",
       "  Text(27, 0, 'Government'),\n",
       "  Text(28, 0, 'Transportation'),\n",
       "  Text(29, 0, 'Architecture'),\n",
       "  Text(30, 0, 'Advertising'),\n",
       "  Text(31, 0, 'Agriculture'),\n",
       "  Text(32, 0, 'Biotech'),\n",
       "  Text(33, 0, 'RealEstate'),\n",
       "  Text(34, 0, 'Manufacturing'),\n",
       "  Text(35, 0, 'Construction'),\n",
       "  Text(36, 0, 'Chemicals'),\n",
       "  Text(37, 0, 'Maritime'),\n",
       "  Text(38, 0, 'Tourism'),\n",
       "  Text(39, 0, 'Environment')])"
      ]
     },
     "execution_count": 13,
     "metadata": {},
     "output_type": "execute_result"
    },
    {
     "data": {
      "image/png": "[encoded data removed]",
      "text/plain": [
       "<Figure size 1440x576 with 1 Axes>"
      ]
     },
     "metadata": {
      "needs_background": "light"
     },
     "output_type": "display_data"
    }
   ],
   "source": [
    "# sns.set(rc={'figure.figsize':(15,8.27)})\n",
    "fig, ax = plt.subplots(figsize=(20, 8))\n",
    "sns.countplot(x='topic',data=df)\n",
    "plt.xticks(rotation=90)"
   ]
  },
  {
   "cell_type": "markdown",
   "id": "b93766e3",
   "metadata": {},
   "source": [
    "**Observation**: here, *indUnk* means unknown topic. Lot of the blogs are about Student."
   ]
  },
  {
   "cell_type": "code",
   "execution_count": 14,
   "id": "135370e8",
   "metadata": {},
   "outputs": [
    {
     "data": {
      "text/plain": [
       "(array([ 0,  1,  2,  3,  4,  5,  6,  7,  8,  9, 10, 11]),\n",
       " [Text(0, 0, 'Leo'),\n",
       "  Text(1, 0, 'Aquarius'),\n",
       "  Text(2, 0, 'Aries'),\n",
       "  Text(3, 0, 'Capricorn'),\n",
       "  Text(4, 0, 'Gemini'),\n",
       "  Text(5, 0, 'Cancer'),\n",
       "  Text(6, 0, 'Sagittarius'),\n",
       "  Text(7, 0, 'Scorpio'),\n",
       "  Text(8, 0, 'Libra'),\n",
       "  Text(9, 0, 'Virgo'),\n",
       "  Text(10, 0, 'Taurus'),\n",
       "  Text(11, 0, 'Pisces')])"
      ]
     },
     "execution_count": 14,
     "metadata": {},
     "output_type": "execute_result"
    },
    {
     "data": {
      "image/png": "[encoded data removed]",
      "text/plain": [
       "<Figure size 432x288 with 1 Axes>"
      ]
     },
     "metadata": {
      "needs_background": "light"
     },
     "output_type": "display_data"
    }
   ],
   "source": [
    "sns.countplot(x='sign',data=df)\n",
    "plt.xticks(rotation=45)"
   ]
  },
  {
   "cell_type": "markdown",
   "id": "1aec643f",
   "metadata": {},
   "source": [
    "#### Data Pre-Processing"
   ]
  },
  {
   "cell_type": "code",
   "execution_count": 15,
   "id": "1d2d0f52",
   "metadata": {},
   "outputs": [],
   "source": [
    "# replacing indUnk with Unknown_industry in the topic column\n",
    "\n",
    "df['topic'].replace('indUnk','Unknown_industry', inplace= True)"
   ]
  },
  {
   "cell_type": "code",
   "execution_count": 16,
   "id": "108101bb",
   "metadata": {},
   "outputs": [],
   "source": [
    "#Stratified sampling functions\n",
    "def stratified_sample(df, strata, size=None, seed=None, keep_index= True):\n",
    "    population = len(df)\n",
    "    size = __smpl_size(population, size)\n",
    "    tmp = df[strata]\n",
    "    tmp['size'] = 1\n",
    "    tmp_grpd = tmp.groupby(strata).count().reset_index()\n",
    "    tmp_grpd['samp_size'] = round(size/population * tmp_grpd['size']).astype(int)\n",
    "    \n",
    "    # controlling variable to create the dataframe or append to it\n",
    "    first = True \n",
    "    for i in range(len(tmp_grpd)):\n",
    "        # query generator for each iteration\n",
    "        qry=''\n",
    "        for s in range(len(strata)):\n",
    "            stratum = strata[s]\n",
    "            value = tmp_grpd.iloc[i][stratum]\n",
    "            n = tmp_grpd.iloc[i]['samp_size']\n",
    "\n",
    "            if type(value) == str:\n",
    "                value = \"'\" + str(value) + \"'\"\n",
    "            \n",
    "            if s != len(strata)-1:\n",
    "                qry = qry + stratum + ' == ' + str(value) +' & '\n",
    "            else:\n",
    "                qry = qry + stratum + ' == ' + str(value)\n",
    "                \n",
    "            # final dataframe\n",
    "        if first:\n",
    "            stratified_df = df.query(qry).sample(n=n, random_state=seed).reset_index(drop=(not keep_index))\n",
    "            first = False\n",
    "        else:\n",
    "            tmp_df = df.query(qry).sample(n=n, random_state=seed).reset_index(drop=(not keep_index))\n",
    "            stratified_df = pd.concat([stratified_df,tmp_df], ignore_index=True)\n",
    "    \n",
    "    return stratified_df\n",
    "\n",
    "def stratified_sample_report(df, strata, size=None):\n",
    "    population = len(df)\n",
    "    size = __smpl_size(population, size)\n",
    "    tmp = df[strata]\n",
    "    tmp['size'] = 1\n",
    "    tmp_grpd = tmp.groupby(strata).count().reset_index()\n",
    "    tmp_grpd['samp_size'] = round(size/population * tmp_grpd['size']).astype(int)\n",
    "    return tmp_grpd\n",
    "\n",
    "\n",
    "def __smpl_size(population, size):\n",
    "    if size is None:\n",
    "        cochran_n = round(((1.96)**2 * 0.5 * 0.5)/ 0.02**2)\n",
    "        n = round(cochran_n/(1+((cochran_n -1) /population)))\n",
    "    elif size >= 0 and size < 1:\n",
    "        n = round(population * size)\n",
    "    elif size < 0:\n",
    "        raise ValueError('Parameter \"size\" must be an integer or a proportion between 0 and 0.99.')\n",
    "    elif size >= 1:\n",
    "        n = size\n",
    "    return n"
   ]
  },
  {
   "cell_type": "code",
   "execution_count": 17,
   "id": "64f1e593",
   "metadata": {},
   "outputs": [
    {
     "data": {
      "text/html": [
       "<div>\n",
       "<style scoped>\n",
       "    .dataframe tbody tr th:only-of-type {\n",
       "        vertical-align: middle;\n",
       "    }\n",
       "\n",
       "    .dataframe tbody tr th {\n",
       "        vertical-align: top;\n",
       "    }\n",
       "\n",
       "    .dataframe thead th {\n",
       "        text-align: right;\n",
       "    }\n",
       "</style>\n",
       "<table border=\"1\" class=\"dataframe\">\n",
       "  <thead>\n",
       "    <tr style=\"text-align: right;\">\n",
       "      <th></th>\n",
       "      <th>sign</th>\n",
       "      <th>gender</th>\n",
       "      <th>topic</th>\n",
       "      <th>age</th>\n",
       "      <th>size</th>\n",
       "      <th>samp_size</th>\n",
       "    </tr>\n",
       "  </thead>\n",
       "  <tbody>\n",
       "    <tr>\n",
       "      <th>0</th>\n",
       "      <td>Aquarius</td>\n",
       "      <td>female</td>\n",
       "      <td>Accounting</td>\n",
       "      <td>16</td>\n",
       "      <td>23</td>\n",
       "      <td>0</td>\n",
       "    </tr>\n",
       "    <tr>\n",
       "      <th>1</th>\n",
       "      <td>Aquarius</td>\n",
       "      <td>female</td>\n",
       "      <td>Accounting</td>\n",
       "      <td>23</td>\n",
       "      <td>8</td>\n",
       "      <td>0</td>\n",
       "    </tr>\n",
       "    <tr>\n",
       "      <th>2</th>\n",
       "      <td>Aquarius</td>\n",
       "      <td>female</td>\n",
       "      <td>Accounting</td>\n",
       "      <td>24</td>\n",
       "      <td>299</td>\n",
       "      <td>5</td>\n",
       "    </tr>\n",
       "    <tr>\n",
       "      <th>3</th>\n",
       "      <td>Aquarius</td>\n",
       "      <td>female</td>\n",
       "      <td>Accounting</td>\n",
       "      <td>25</td>\n",
       "      <td>3</td>\n",
       "      <td>0</td>\n",
       "    </tr>\n",
       "    <tr>\n",
       "      <th>4</th>\n",
       "      <td>Aquarius</td>\n",
       "      <td>female</td>\n",
       "      <td>Accounting</td>\n",
       "      <td>26</td>\n",
       "      <td>20</td>\n",
       "      <td>0</td>\n",
       "    </tr>\n",
       "    <tr>\n",
       "      <th>...</th>\n",
       "      <td>...</td>\n",
       "      <td>...</td>\n",
       "      <td>...</td>\n",
       "      <td>...</td>\n",
       "      <td>...</td>\n",
       "      <td>...</td>\n",
       "    </tr>\n",
       "    <tr>\n",
       "      <th>5161</th>\n",
       "      <td>Virgo</td>\n",
       "      <td>male</td>\n",
       "      <td>Unknown_industry</td>\n",
       "      <td>42</td>\n",
       "      <td>45</td>\n",
       "      <td>1</td>\n",
       "    </tr>\n",
       "    <tr>\n",
       "      <th>5162</th>\n",
       "      <td>Virgo</td>\n",
       "      <td>male</td>\n",
       "      <td>Unknown_industry</td>\n",
       "      <td>43</td>\n",
       "      <td>25</td>\n",
       "      <td>0</td>\n",
       "    </tr>\n",
       "    <tr>\n",
       "      <th>5163</th>\n",
       "      <td>Virgo</td>\n",
       "      <td>male</td>\n",
       "      <td>Unknown_industry</td>\n",
       "      <td>44</td>\n",
       "      <td>6</td>\n",
       "      <td>0</td>\n",
       "    </tr>\n",
       "    <tr>\n",
       "      <th>5164</th>\n",
       "      <td>Virgo</td>\n",
       "      <td>male</td>\n",
       "      <td>Unknown_industry</td>\n",
       "      <td>46</td>\n",
       "      <td>49</td>\n",
       "      <td>1</td>\n",
       "    </tr>\n",
       "    <tr>\n",
       "      <th>5165</th>\n",
       "      <td>Virgo</td>\n",
       "      <td>male</td>\n",
       "      <td>Unknown_industry</td>\n",
       "      <td>48</td>\n",
       "      <td>3</td>\n",
       "      <td>0</td>\n",
       "    </tr>\n",
       "  </tbody>\n",
       "</table>\n",
       "<p>5166 rows × 6 columns</p>\n",
       "</div>"
      ],
      "text/plain": [
       "          sign  gender             topic  age  size  samp_size\n",
       "0     Aquarius  female        Accounting   16    23          0\n",
       "1     Aquarius  female        Accounting   23     8          0\n",
       "2     Aquarius  female        Accounting   24   299          5\n",
       "3     Aquarius  female        Accounting   25     3          0\n",
       "4     Aquarius  female        Accounting   26    20          0\n",
       "...        ...     ...               ...  ...   ...        ...\n",
       "5161     Virgo    male  Unknown_industry   42    45          1\n",
       "5162     Virgo    male  Unknown_industry   43    25          0\n",
       "5163     Virgo    male  Unknown_industry   44     6          0\n",
       "5164     Virgo    male  Unknown_industry   46    49          1\n",
       "5165     Virgo    male  Unknown_industry   48     3          0\n",
       "\n",
       "[5166 rows x 6 columns]"
      ]
     },
     "execution_count": 17,
     "metadata": {},
     "output_type": "execute_result"
    }
   ],
   "source": [
    "stratified_sample_report(df, ['sign', 'gender','topic', 'age'], 10000)"
   ]
  },
  {
   "cell_type": "markdown",
   "id": "beb6a70d",
   "metadata": {},
   "source": [
    "**Observation**: Stratifiying the sample data based on \"Gender\", \"Sign\", \"Topic\" and \"age\" to maintain the distribution of the population dataset. "
   ]
  },
  {
   "cell_type": "markdown",
   "id": "1d721f05",
   "metadata": {},
   "source": [
    "**NOTE**- Using the limited sample of the dataset due to huge size and memory error."
   ]
  },
  {
   "cell_type": "code",
   "execution_count": 18,
   "id": "6d833684",
   "metadata": {
    "scrolled": false
   },
   "outputs": [],
   "source": [
    "corpus_df = stratified_sample(df, ['sign', 'gender', 'topic', 'age'], size=10000, seed=123, keep_index= True)"
   ]
  },
  {
   "cell_type": "code",
   "execution_count": 19,
   "id": "b2d28a56",
   "metadata": {},
   "outputs": [
    {
     "name": "stderr",
     "output_type": "stream",
     "text": [
      "C:\\Users\\Nikhila KG\\AppData\\Local\\Temp\\ipykernel_14000\\310110044.py:1: FutureWarning: The frame.append method is deprecated and will be removed from pandas in a future version. Use pandas.concat instead.\n",
      "  corpus_df.head().append(corpus_df.tail())\n"
     ]
    },
    {
     "data": {
      "text/html": [
       "<div>\n",
       "<style scoped>\n",
       "    .dataframe tbody tr th:only-of-type {\n",
       "        vertical-align: middle;\n",
       "    }\n",
       "\n",
       "    .dataframe tbody tr th {\n",
       "        vertical-align: top;\n",
       "    }\n",
       "\n",
       "    .dataframe thead th {\n",
       "        text-align: right;\n",
       "    }\n",
       "</style>\n",
       "<table border=\"1\" class=\"dataframe\">\n",
       "  <thead>\n",
       "    <tr style=\"text-align: right;\">\n",
       "      <th></th>\n",
       "      <th>index</th>\n",
       "      <th>gender</th>\n",
       "      <th>age</th>\n",
       "      <th>topic</th>\n",
       "      <th>sign</th>\n",
       "      <th>text</th>\n",
       "    </tr>\n",
       "  </thead>\n",
       "  <tbody>\n",
       "    <tr>\n",
       "      <th>0</th>\n",
       "      <td>553235</td>\n",
       "      <td>female</td>\n",
       "      <td>24</td>\n",
       "      <td>Accounting</td>\n",
       "      <td>Aquarius</td>\n",
       "      <td>Friday for all and all for a Friday..  ...</td>\n",
       "    </tr>\n",
       "    <tr>\n",
       "      <th>1</th>\n",
       "      <td>553147</td>\n",
       "      <td>female</td>\n",
       "      <td>24</td>\n",
       "      <td>Accounting</td>\n",
       "      <td>Aquarius</td>\n",
       "      <td>I actually have started about three blo...</td>\n",
       "    </tr>\n",
       "    <tr>\n",
       "      <th>2</th>\n",
       "      <td>553197</td>\n",
       "      <td>female</td>\n",
       "      <td>24</td>\n",
       "      <td>Accounting</td>\n",
       "      <td>Aquarius</td>\n",
       "      <td>The holidays are just about over and i ...</td>\n",
       "    </tr>\n",
       "    <tr>\n",
       "      <th>3</th>\n",
       "      <td>553310</td>\n",
       "      <td>female</td>\n",
       "      <td>24</td>\n",
       "      <td>Accounting</td>\n",
       "      <td>Aquarius</td>\n",
       "      <td>What to say what a day... Its just been...</td>\n",
       "    </tr>\n",
       "    <tr>\n",
       "      <th>4</th>\n",
       "      <td>553325</td>\n",
       "      <td>female</td>\n",
       "      <td>24</td>\n",
       "      <td>Accounting</td>\n",
       "      <td>Aquarius</td>\n",
       "      <td>urlLink    STILL DREAMING&amp;nbsp; urlLin...</td>\n",
       "    </tr>\n",
       "    <tr>\n",
       "      <th>9602</th>\n",
       "      <td>434698</td>\n",
       "      <td>male</td>\n",
       "      <td>41</td>\n",
       "      <td>Unknown_industry</td>\n",
       "      <td>Virgo</td>\n",
       "      <td>A Fag Grows In Brooklyn  It's of...</td>\n",
       "    </tr>\n",
       "    <tr>\n",
       "      <th>9603</th>\n",
       "      <td>434718</td>\n",
       "      <td>male</td>\n",
       "      <td>41</td>\n",
       "      <td>Unknown_industry</td>\n",
       "      <td>Virgo</td>\n",
       "      <td>urlLink My Favorite Seer  says: ...</td>\n",
       "    </tr>\n",
       "    <tr>\n",
       "      <th>9604</th>\n",
       "      <td>434595</td>\n",
       "      <td>male</td>\n",
       "      <td>41</td>\n",
       "      <td>Unknown_industry</td>\n",
       "      <td>Virgo</td>\n",
       "      <td>Ghost In The Machine  God.  I sh...</td>\n",
       "    </tr>\n",
       "    <tr>\n",
       "      <th>9605</th>\n",
       "      <td>181229</td>\n",
       "      <td>male</td>\n",
       "      <td>42</td>\n",
       "      <td>Unknown_industry</td>\n",
       "      <td>Virgo</td>\n",
       "      <td>urlLink    This is my bestest friend i...</td>\n",
       "    </tr>\n",
       "    <tr>\n",
       "      <th>9606</th>\n",
       "      <td>81932</td>\n",
       "      <td>male</td>\n",
       "      <td>46</td>\n",
       "      <td>Unknown_industry</td>\n",
       "      <td>Virgo</td>\n",
       "      <td>urlLink    Street view 2003&amp;nbsp; urlLink</td>\n",
       "    </tr>\n",
       "  </tbody>\n",
       "</table>\n",
       "</div>"
      ],
      "text/plain": [
       "       index  gender  age             topic      sign  \\\n",
       "0     553235  female   24        Accounting  Aquarius   \n",
       "1     553147  female   24        Accounting  Aquarius   \n",
       "2     553197  female   24        Accounting  Aquarius   \n",
       "3     553310  female   24        Accounting  Aquarius   \n",
       "4     553325  female   24        Accounting  Aquarius   \n",
       "9602  434698    male   41  Unknown_industry     Virgo   \n",
       "9603  434718    male   41  Unknown_industry     Virgo   \n",
       "9604  434595    male   41  Unknown_industry     Virgo   \n",
       "9605  181229    male   42  Unknown_industry     Virgo   \n",
       "9606   81932    male   46  Unknown_industry     Virgo   \n",
       "\n",
       "                                                   text  \n",
       "0            Friday for all and all for a Friday..  ...  \n",
       "1            I actually have started about three blo...  \n",
       "2            The holidays are just about over and i ...  \n",
       "3            What to say what a day... Its just been...  \n",
       "4             urlLink    STILL DREAMING&nbsp; urlLin...  \n",
       "9602                A Fag Grows In Brooklyn  It's of...  \n",
       "9603                urlLink My Favorite Seer  says: ...  \n",
       "9604                Ghost In The Machine  God.  I sh...  \n",
       "9605          urlLink    This is my bestest friend i...  \n",
       "9606      urlLink    Street view 2003&nbsp; urlLink      "
      ]
     },
     "execution_count": 19,
     "metadata": {},
     "output_type": "execute_result"
    }
   ],
   "source": [
    "corpus_df.head().append(corpus_df.tail())"
   ]
  },
  {
   "cell_type": "markdown",
   "id": "0da955ce",
   "metadata": {},
   "source": [
    "#### We will check if Stratified data has maintained the topic distribution from the population data."
   ]
  },
  {
   "cell_type": "code",
   "execution_count": 20,
   "id": "3e0ea56e",
   "metadata": {},
   "outputs": [
    {
     "name": "stderr",
     "output_type": "stream",
     "text": [
      "C:\\Users\\Nikhila KG\\AppData\\Local\\Temp\\ipykernel_14000\\2206519354.py:10: UserWarning: Matplotlib is currently using module://matplotlib_inline.backend_inline, which is a non-GUI backend, so cannot show the figure.\n",
      "  fig.show()\n"
     ]
    },
    {
     "data": {
      "image/png": "[encoded data removed]",
      "text/plain": [
       "<Figure size 2160x1080 with 2 Axes>"
      ]
     },
     "metadata": {
      "needs_background": "light"
     },
     "output_type": "display_data"
    }
   ],
   "source": [
    "fig, ax = plt.subplots(1, 2, figsize=(30, 15))\n",
    "fig.autofmt_xdate(rotation=90)\n",
    "\n",
    "sns.countplot(x='topic', data=df, order = df['topic'].value_counts().index, ax=ax[0])\n",
    "ax[0].set_title(\"Population Data\")\n",
    "\n",
    "sns.countplot(x='topic', data=corpus_df,order = corpus_df['topic'].value_counts().index, ax=ax[1])\n",
    "ax[1].set_title(\"Stratified Data\")\n",
    "\n",
    "fig.show()"
   ]
  },
  {
   "cell_type": "markdown",
   "id": "64b3536d",
   "metadata": {},
   "source": [
    "###### B. Clean the Structured Data"
   ]
  },
  {
   "cell_type": "markdown",
   "id": "6ea6c01c",
   "metadata": {},
   "source": [
    "###### i. Missing value analysis and imputation."
   ]
  },
  {
   "cell_type": "code",
   "execution_count": 21,
   "id": "61263725",
   "metadata": {
    "scrolled": true
   },
   "outputs": [
    {
     "data": {
      "text/plain": [
       "index     0\n",
       "gender    0\n",
       "age       0\n",
       "topic     0\n",
       "sign      0\n",
       "text      0\n",
       "dtype: int64"
      ]
     },
     "execution_count": 21,
     "metadata": {},
     "output_type": "execute_result"
    }
   ],
   "source": [
    "corpus_df.isna().sum()"
   ]
  },
  {
   "cell_type": "markdown",
   "id": "ea29b6e1",
   "metadata": {},
   "source": [
    "**Observation** - We dont have any missing values"
   ]
  },
  {
   "cell_type": "markdown",
   "id": "963e4c12",
   "metadata": {},
   "source": [
    "###### ii. Eliminate Non-English textual data."
   ]
  },
  {
   "cell_type": "code",
   "execution_count": 22,
   "id": "45899019",
   "metadata": {},
   "outputs": [
    {
     "name": "stdout",
     "output_type": "stream",
     "text": [
      "Before eliminating Non-English textual data\n",
      "(9607, 6)\n"
     ]
    }
   ],
   "source": [
    "print(\"Before eliminating Non-English textual data\")\n",
    "print(corpus_df.shape)"
   ]
  },
  {
   "cell_type": "code",
   "execution_count": 23,
   "id": "d774c925",
   "metadata": {},
   "outputs": [],
   "source": [
    "#!pip install langdetect"
   ]
  },
  {
   "cell_type": "code",
   "execution_count": 24,
   "id": "b7a86d91",
   "metadata": {},
   "outputs": [],
   "source": [
    "from langdetect import detect\n",
    "\n",
    "def detect_english(text):\n",
    " try:\n",
    "    return detect(text) == 'en'\n",
    " except:\n",
    "    return False"
   ]
  },
  {
   "cell_type": "code",
   "execution_count": 25,
   "id": "16115526",
   "metadata": {},
   "outputs": [],
   "source": [
    "corpus_df = corpus_df[corpus_df['text'].apply(detect_english)]"
   ]
  },
  {
   "cell_type": "code",
   "execution_count": 26,
   "id": "4f9957f5",
   "metadata": {},
   "outputs": [
    {
     "name": "stdout",
     "output_type": "stream",
     "text": [
      "After eliminating Non-English textual data\n",
      "(9235, 6)\n"
     ]
    }
   ],
   "source": [
    "print(\"After eliminating Non-English textual data\")\n",
    "print(corpus_df.shape)"
   ]
  },
  {
   "cell_type": "markdown",
   "id": "fea59ea3",
   "metadata": {},
   "source": [
    "**NOTE**: We have reduced the number of records"
   ]
  },
  {
   "cell_type": "markdown",
   "id": "691b630c",
   "metadata": {},
   "source": [
    "**Before Pre-Process steps, let us remove other columns from the dataframe**"
   ]
  },
  {
   "cell_type": "code",
   "execution_count": 27,
   "id": "48ff03d1",
   "metadata": {},
   "outputs": [],
   "source": [
    "corpus_df.drop(labels=['index','gender','age','sign'], axis=1,inplace=True)"
   ]
  },
  {
   "cell_type": "markdown",
   "id": "3a2c1681",
   "metadata": {},
   "source": [
    "#### 2. Preprocess unstructured data to make it consumable for model training."
   ]
  },
  {
   "cell_type": "markdown",
   "id": "fffcc8da",
   "metadata": {},
   "source": [
    "##### A. Eliminate All special Characters and Numbers\n",
    "##### B. Lowercase all textual data\n",
    "##### C. Remove all Stopwords\n",
    "##### D. Remove all extra white spaces"
   ]
  },
  {
   "cell_type": "code",
   "execution_count": 28,
   "id": "e234b2d4",
   "metadata": {},
   "outputs": [],
   "source": [
    "# remove all the places where the string urllink comes\n",
    "corpus_df['text_new']=corpus_df['text'].apply(lambda x: re.sub(r'urlLink|urllink','',x)) \n",
    "\n",
    "# remove all the places where any url comes that starts with http or https\n",
    "corpus_df['text_new']=corpus_df['text'].apply(lambda x: re.sub(r'https?\\S+','',x))"
   ]
  },
  {
   "cell_type": "code",
   "execution_count": 29,
   "id": "2c6c9a56",
   "metadata": {},
   "outputs": [],
   "source": [
    "#Eliminate All special Characters and Numbers\n",
    "def remove_punctuation(text):\n",
    "    return re.sub('[^a-zA-Z]', ' ', str(text))\n",
    "\n",
    "#Lowercase all textual data\n",
    "def lower_case(text):\n",
    "    return text.lower()    \n",
    "\n",
    "#Eliminate All special Characters and Numbers\n",
    "def remove_tags(text):    \n",
    "    return re.sub(\"&lt;/?.*?&gt;\",\" &lt;&gt; \", text)\n",
    "\n",
    "#Eliminate All special Characters and Numbers\n",
    "def remove_special_chars_and_digits(text):\n",
    "    return re.sub(\"(\\\\d|\\\\W)+\",\" \", text)\n",
    "\n",
    "#def remove_stop_words(tokenized_text):\n",
    "#    return [w for w in tokenized_text if not w in set(stopwords.words('english'))]\n",
    "\n",
    "#Remove all Stopwords and lemmatize\n",
    "def stopword_lemma(text):\n",
    "    token = nltk.word_tokenize(text)\n",
    "    text_stop = [x for x in token if x not in set(stopwords.words('english'))]\n",
    "    lemmatizer = WordNetLemmatizer()\n",
    "    text_lemma = [lemmatizer.lemmatize(word) for word in text_stop]\n",
    "    text_lemma = ' '.join(text_lemma)\n",
    "    return text_lemma\n",
    "\n",
    "\n",
    "\n",
    "def normalize_text(text: str) -> str:\n",
    "    text = remove_punctuation(text)\n",
    "    text = lower_case(text)\n",
    "    text = remove_tags(text)\n",
    "    text = remove_special_chars_and_digits(text)\n",
    "    text = stopword_lemma(text)\n",
    "    \n",
    "    return text"
   ]
  },
  {
   "cell_type": "code",
   "execution_count": 30,
   "id": "7b31c618",
   "metadata": {},
   "outputs": [],
   "source": [
    "corpus_df['text_new'] = corpus_df['text_new'].apply(normalize_text)"
   ]
  },
  {
   "cell_type": "code",
   "execution_count": 31,
   "id": "033c3f0b",
   "metadata": {},
   "outputs": [
    {
     "name": "stdout",
     "output_type": "stream",
     "text": [
      "       What to say what a day... Its just been one of those, yup you know the ones. Work tonight was fast and pissy. My housewarming party is this weekend, yeah for me and people who will now have a reason to drink.  Talked to Ben today, oh yeah the English guy. Whoa, his accent was strong, but quite nice i must admit. I wish it didnt cost an arm and a leg to talk to him, or i would more, most def. He seems intresting and i would love to see some of the buildings in his town, or london. Paris is another place, ah yes, in dream mode.  Not that i didnt know it already but just telling myself again that Damien Rice is so badass. (The blowers daughter) is nice to start with, as its what is playing now.  God i want a Black and Mild.  I have a headache I have a strong will to flip the bird Im tired I have alot of work to do I have calls to make, and im not making them I have books to read and they are growing dust bunnies I have a dog that laughs at the word no, and pisses on contact touch I have sexual needs that need to be met, for fucks sake I want to have a Mix Cd war I want you to touch me from the back of the neck to my lower arch  Tiff liked what i did to her hair, and i will soon put more red in it. As for me i always like some purple, oh yeah.I am out, light a motha-fuc*ing-light. *click*          \n",
      "\n",
      "say day one yup know one work tonight fast pissy housewarming party weekend yeah people reason drink talked ben today oh yeah english guy whoa accent strong quite nice must admit wish didnt cost arm leg talk would def seems intresting would love see building town london paris another place ah yes dream mode didnt know already telling damien rice badass blower daughter nice start playing god want black mild headache strong flip bird im tired alot work call make im making book read growing dust bunny dog laugh word piss contact touch sexual need need met fuck sake want mix cd war want touch back neck lower arch tiff liked hair soon put red always like purple oh yeah light motha fuc ing light click\n"
     ]
    }
   ],
   "source": [
    "#Example\n",
    "print(corpus_df['text'][3])\n",
    "print()\n",
    "print(corpus_df['text_new'][3])"
   ]
  },
  {
   "cell_type": "code",
   "execution_count": 32,
   "id": "a9c7c757",
   "metadata": {},
   "outputs": [
    {
     "data": {
      "text/html": [
       "<div>\n",
       "<style scoped>\n",
       "    .dataframe tbody tr th:only-of-type {\n",
       "        vertical-align: middle;\n",
       "    }\n",
       "\n",
       "    .dataframe tbody tr th {\n",
       "        vertical-align: top;\n",
       "    }\n",
       "\n",
       "    .dataframe thead th {\n",
       "        text-align: right;\n",
       "    }\n",
       "</style>\n",
       "<table border=\"1\" class=\"dataframe\">\n",
       "  <thead>\n",
       "    <tr style=\"text-align: right;\">\n",
       "      <th></th>\n",
       "      <th>topic</th>\n",
       "      <th>text</th>\n",
       "      <th>text_new</th>\n",
       "    </tr>\n",
       "  </thead>\n",
       "  <tbody>\n",
       "    <tr>\n",
       "      <th>0</th>\n",
       "      <td>Accounting</td>\n",
       "      <td>Friday for all and all for a Friday..  ...</td>\n",
       "      <td>friday friday currant event know little happen...</td>\n",
       "    </tr>\n",
       "    <tr>\n",
       "      <th>1</th>\n",
       "      <td>Accounting</td>\n",
       "      <td>I actually have started about three blo...</td>\n",
       "      <td>actually started three blog one stuck link var...</td>\n",
       "    </tr>\n",
       "    <tr>\n",
       "      <th>2</th>\n",
       "      <td>Accounting</td>\n",
       "      <td>The holidays are just about over and i ...</td>\n",
       "      <td>holiday one stop go really iowa come day iowa ...</td>\n",
       "    </tr>\n",
       "    <tr>\n",
       "      <th>3</th>\n",
       "      <td>Accounting</td>\n",
       "      <td>What to say what a day... Its just been...</td>\n",
       "      <td>say day one yup know one work tonight fast pis...</td>\n",
       "    </tr>\n",
       "    <tr>\n",
       "      <th>5</th>\n",
       "      <td>Advertising</td>\n",
       "      <td>I am in love with Beyonce's '...</td>\n",
       "      <td>love beyonce crazy love shake as backing horn ...</td>\n",
       "    </tr>\n",
       "  </tbody>\n",
       "</table>\n",
       "</div>"
      ],
      "text/plain": [
       "         topic                                               text  \\\n",
       "0   Accounting         Friday for all and all for a Friday..  ...   \n",
       "1   Accounting         I actually have started about three blo...   \n",
       "2   Accounting         The holidays are just about over and i ...   \n",
       "3   Accounting         What to say what a day... Its just been...   \n",
       "5  Advertising                   I am in love with Beyonce's '...   \n",
       "\n",
       "                                            text_new  \n",
       "0  friday friday currant event know little happen...  \n",
       "1  actually started three blog one stuck link var...  \n",
       "2  holiday one stop go really iowa come day iowa ...  \n",
       "3  say day one yup know one work tonight fast pis...  \n",
       "5  love beyonce crazy love shake as backing horn ...  "
      ]
     },
     "execution_count": 32,
     "metadata": {},
     "output_type": "execute_result"
    }
   ],
   "source": [
    "corpus_df.head()"
   ]
  },
  {
   "cell_type": "markdown",
   "id": "234911bb",
   "metadata": {},
   "source": [
    "#### 3. Build a base Classification model"
   ]
  },
  {
   "cell_type": "markdown",
   "id": "91633648",
   "metadata": {},
   "source": [
    "##### A. Create dependent and independent variables"
   ]
  },
  {
   "cell_type": "code",
   "execution_count": 33,
   "id": "5971aaf0",
   "metadata": {},
   "outputs": [
    {
     "data": {
      "text/html": [
       "<div>\n",
       "<style scoped>\n",
       "    .dataframe tbody tr th:only-of-type {\n",
       "        vertical-align: middle;\n",
       "    }\n",
       "\n",
       "    .dataframe tbody tr th {\n",
       "        vertical-align: top;\n",
       "    }\n",
       "\n",
       "    .dataframe thead th {\n",
       "        text-align: right;\n",
       "    }\n",
       "</style>\n",
       "<table border=\"1\" class=\"dataframe\">\n",
       "  <thead>\n",
       "    <tr style=\"text-align: right;\">\n",
       "      <th></th>\n",
       "      <th>text</th>\n",
       "      <th>text_new</th>\n",
       "      <th>labels</th>\n",
       "    </tr>\n",
       "  </thead>\n",
       "  <tbody>\n",
       "    <tr>\n",
       "      <th>0</th>\n",
       "      <td>Friday for all and all for a Friday..  ...</td>\n",
       "      <td>friday friday currant event know little happen...</td>\n",
       "      <td>accounting</td>\n",
       "    </tr>\n",
       "    <tr>\n",
       "      <th>1</th>\n",
       "      <td>I actually have started about three blo...</td>\n",
       "      <td>actually started three blog one stuck link var...</td>\n",
       "      <td>accounting</td>\n",
       "    </tr>\n",
       "    <tr>\n",
       "      <th>2</th>\n",
       "      <td>The holidays are just about over and i ...</td>\n",
       "      <td>holiday one stop go really iowa come day iowa ...</td>\n",
       "      <td>accounting</td>\n",
       "    </tr>\n",
       "    <tr>\n",
       "      <th>3</th>\n",
       "      <td>What to say what a day... Its just been...</td>\n",
       "      <td>say day one yup know one work tonight fast pis...</td>\n",
       "      <td>accounting</td>\n",
       "    </tr>\n",
       "    <tr>\n",
       "      <th>5</th>\n",
       "      <td>I am in love with Beyonce's '...</td>\n",
       "      <td>love beyonce crazy love shake as backing horn ...</td>\n",
       "      <td>advertising</td>\n",
       "    </tr>\n",
       "  </tbody>\n",
       "</table>\n",
       "</div>"
      ],
      "text/plain": [
       "                                                text  \\\n",
       "0         Friday for all and all for a Friday..  ...   \n",
       "1         I actually have started about three blo...   \n",
       "2         The holidays are just about over and i ...   \n",
       "3         What to say what a day... Its just been...   \n",
       "5                   I am in love with Beyonce's '...   \n",
       "\n",
       "                                            text_new       labels  \n",
       "0  friday friday currant event know little happen...   accounting  \n",
       "1  actually started three blog one stuck link var...   accounting  \n",
       "2  holiday one stop go really iowa come day iowa ...   accounting  \n",
       "3  say day one yup know one work tonight fast pis...   accounting  \n",
       "5  love beyonce crazy love shake as backing horn ...  advertising  "
      ]
     },
     "execution_count": 33,
     "metadata": {},
     "output_type": "execute_result"
    }
   ],
   "source": [
    "#text_new\n",
    "feature = corpus_df['text_new']\n",
    "\n",
    "#topic\n",
    "corpus_df['labels'] = corpus_df['topic'].str.lower()\n",
    "labels = corpus_df['labels']\n",
    "\n",
    "corpus_df.drop(columns=['topic'], axis=1, inplace=True)\n",
    "\n",
    "corpus_df.head()"
   ]
  },
  {
   "cell_type": "markdown",
   "id": "1094f54c",
   "metadata": {},
   "source": [
    "##### B. Split data into train and test."
   ]
  },
  {
   "cell_type": "code",
   "execution_count": 34,
   "id": "c10f6c51",
   "metadata": {},
   "outputs": [
    {
     "name": "stdout",
     "output_type": "stream",
     "text": [
      "(7388,)\n",
      "(1847,)\n",
      "(7388,)\n",
      "(1847,)\n"
     ]
    }
   ],
   "source": [
    "X_train, X_test, Y_train, Y_test = train_test_split(feature,labels, test_size = 0.20, random_state = 42)\n",
    "\n",
    "print(X_train.shape)\n",
    "print(X_test.shape)\n",
    "print(Y_train.shape)\n",
    "print(Y_test.shape)"
   ]
  },
  {
   "cell_type": "markdown",
   "id": "42624b08",
   "metadata": {},
   "source": [
    "##### C. Vectorize data using any one vectorizer."
   ]
  },
  {
   "cell_type": "code",
   "execution_count": 35,
   "id": "73aebe3f",
   "metadata": {},
   "outputs": [
    {
     "name": "stdout",
     "output_type": "stream",
     "text": [
      "X_train shape & sample (7388, 75086)\n"
     ]
    },
    {
     "data": {
      "text/plain": [
       "<1x75086 sparse matrix of type '<class 'numpy.int64'>'\n",
       "\twith 12 stored elements in Compressed Sparse Row format>"
      ]
     },
     "execution_count": 35,
     "metadata": {},
     "output_type": "execute_result"
    }
   ],
   "source": [
    "# Creating Bag of words\n",
    "vectorizer = CountVectorizer(min_df = 2,ngram_range = (1,2),stop_words = \"english\")\n",
    "X_train = vectorizer.fit_transform(X_train)\n",
    "X_test = vectorizer.transform(X_test)\n",
    "print(\"X_train shape & sample\",X_train.shape)\n",
    "X_train[0]"
   ]
  },
  {
   "cell_type": "code",
   "execution_count": 36,
   "id": "d0dca9ff",
   "metadata": {},
   "outputs": [
    {
     "name": "stdout",
     "output_type": "stream",
     "text": [
      "   aa  aaa  aaaah  aaaargh  aaah  aaargh  aah  aaliyah  aaron  ab  ...  zoo  \\\n",
      "0   0    0      0        0     0       0    0        0      0   0  ...    0   \n",
      "1   0    0      0        0     0       0    0        0      0   0  ...    0   \n",
      "2   0    0      0        0     0       0    0        0      0   0  ...    0   \n",
      "3   0    0      0        0     0       0    0        0      0   0  ...    0   \n",
      "4   0    0      0        0     0       0    0        0      0   0  ...    0   \n",
      "\n",
      "   zoo saw  zoolander  zoom  zooming  zucchini  zul  zumiez  zzz  zzzz  \n",
      "0        0          0     0        0         0    0       0    0     0  \n",
      "1        0          0     0        0         0    0       0    0     0  \n",
      "2        0          0     0        0         0    0       0    0     0  \n",
      "3        0          0     0        0         0    0       0    0     0  \n",
      "4        0          0     0        0         0    0       0    0     0  \n",
      "\n",
      "[5 rows x 75086 columns]\n"
     ]
    },
    {
     "name": "stderr",
     "output_type": "stream",
     "text": [
      "C:\\Users\\Nikhila KG\\anaconda3\\lib\\site-packages\\sklearn\\utils\\deprecation.py:87: FutureWarning: Function get_feature_names is deprecated; get_feature_names is deprecated in 1.0 and will be removed in 1.2. Please use get_feature_names_out instead.\n",
      "  warnings.warn(msg, category=FutureWarning)\n"
     ]
    }
   ],
   "source": [
    "# Document term matrix \n",
    "dtm_x_train = pd.DataFrame(X_train.toarray(), columns=vectorizer.get_feature_names())\n",
    "print(dtm_x_train.head())"
   ]
  },
  {
   "cell_type": "code",
   "execution_count": 37,
   "id": "63b09a6b",
   "metadata": {},
   "outputs": [
    {
     "name": "stderr",
     "output_type": "stream",
     "text": [
      "C:\\Users\\Nikhila KG\\anaconda3\\lib\\site-packages\\sklearn\\utils\\deprecation.py:87: FutureWarning: Function get_feature_names is deprecated; get_feature_names is deprecated in 1.0 and will be removed in 1.2. Please use get_feature_names_out instead.\n",
      "  warnings.warn(msg, category=FutureWarning)\n"
     ]
    },
    {
     "name": "stdout",
     "output_type": "stream",
     "text": [
      "   aa  aaa  aaaah  aaaargh  aaah  aaargh  aah  aaliyah  aaron  ab  ...  zoo  \\\n",
      "0   0    0      0        0     0       0    0        0      0   0  ...    0   \n",
      "1   0    0      0        0     0       0    0        0      0   0  ...    0   \n",
      "2   0    0      0        0     0       0    0        0      0   0  ...    0   \n",
      "3   0    0      0        0     0       0    0        0      0   0  ...    0   \n",
      "4   0    0      0        0     0       0    0        0      0   0  ...    0   \n",
      "\n",
      "   zoo saw  zoolander  zoom  zooming  zucchini  zul  zumiez  zzz  zzzz  \n",
      "0        0          0     0        0         0    0       0    0     0  \n",
      "1        0          0     0        0         0    0       0    0     0  \n",
      "2        0          0     0        0         0    0       0    0     0  \n",
      "3        0          0     0        0         0    0       0    0     0  \n",
      "4        0          0     0        0         0    0       0    0     0  \n",
      "\n",
      "[5 rows x 75086 columns]\n"
     ]
    }
   ],
   "source": [
    "dtm_x_test = pd.DataFrame(X_test.toarray(), columns=vectorizer.get_feature_names())\n",
    "print(dtm_x_test.head())"
   ]
  },
  {
   "cell_type": "markdown",
   "id": "bba739f2",
   "metadata": {},
   "source": [
    "**Create a dictionary to get the count of every label i.e. the key will be label name and value will be the total count of the label.**"
   ]
  },
  {
   "cell_type": "code",
   "execution_count": 38,
   "id": "d598f891",
   "metadata": {},
   "outputs": [
    {
     "data": {
      "text/plain": [
       "{'accounting': 0,\n",
       " 'advertising': 1,\n",
       " 'arts': 4,\n",
       " 'banking': 6,\n",
       " 'biotech': 7,\n",
       " 'businessservices': 8,\n",
       " 'communications': 10,\n",
       " 'media': 27,\n",
       " 'consulting': 12,\n",
       " 'education': 13,\n",
       " 'environment': 15,\n",
       " 'fashion': 16,\n",
       " 'government': 17,\n",
       " 'humanresources': 18,\n",
       " 'internet': 19,\n",
       " 'law': 21,\n",
       " 'manufacturing': 24,\n",
       " 'marketing': 26,\n",
       " 'non': 30,\n",
       " 'profit': 31,\n",
       " 'publishing': 32,\n",
       " 'religion': 35,\n",
       " 'science': 36,\n",
       " 'sports': 38,\n",
       " 'recreation': 34,\n",
       " 'student': 39,\n",
       " 'technology': 40,\n",
       " 'transportation': 43,\n",
       " 'unknown_industry': 44,\n",
       " 'chemicals': 9,\n",
       " 'construction': 11,\n",
       " 'engineering': 14,\n",
       " 'investmentbanking': 20,\n",
       " 'military': 28,\n",
       " 'museums': 29,\n",
       " 'libraries': 23,\n",
       " 'tourism': 42,\n",
       " 'architecture': 3,\n",
       " 'lawenforcement': 22,\n",
       " 'security': 37,\n",
       " 'realestate': 33,\n",
       " 'telecommunications': 41,\n",
       " 'agriculture': 2,\n",
       " 'automotive': 5,\n",
       " 'maritime': 25}"
      ]
     },
     "execution_count": 38,
     "metadata": {},
     "output_type": "execute_result"
    }
   ],
   "source": [
    "vectorizer_labels = CountVectorizer(min_df = 1,ngram_range = (1,1),stop_words = \"english\")\n",
    "labels_vector = vectorizer_labels.fit_transform(labels)\n",
    "vectorizer_labels.vocabulary_"
   ]
  },
  {
   "cell_type": "code",
   "execution_count": 39,
   "id": "55ba502b",
   "metadata": {},
   "outputs": [
    {
     "name": "stdout",
     "output_type": "stream",
     "text": [
      "['accounting', 'advertising', 'agriculture', 'architecture', 'arts', 'automotive', 'banking', 'biotech', 'businessservices', 'chemicals', 'communications', 'construction', 'consulting', 'education', 'engineering', 'environment', 'fashion', 'government', 'humanresources', 'internet', 'investmentbanking', 'law', 'lawenforcement', 'libraries', 'manufacturing', 'maritime', 'marketing', 'media', 'military', 'museums', 'non', 'profit', 'publishing', 'realestate', 'recreation', 'religion', 'science', 'security', 'sports', 'student', 'technology', 'telecommunications', 'tourism', 'transportation', 'unknown_industry']\n"
     ]
    }
   ],
   "source": [
    "# Extracing only key value from above dictionary, which contains unique labels. These set of labels will be used as classes in multilabelbinariser further.\n",
    "label_classes = []  \n",
    "for key in vectorizer_labels.vocabulary_.keys():\n",
    "    label_classes.append(key)\n",
    "    \n",
    "print(sorted(label_classes))"
   ]
  },
  {
   "cell_type": "code",
   "execution_count": 40,
   "id": "1c45c6e5",
   "metadata": {},
   "outputs": [],
   "source": [
    "# initialising multilabelbinariser with all unique possible classes\n",
    "mlb = MultiLabelBinarizer(classes = label_classes) "
   ]
  },
  {
   "cell_type": "code",
   "execution_count": 41,
   "id": "aa384520",
   "metadata": {},
   "outputs": [
    {
     "data": {
      "text/plain": [
       "['arts']"
      ]
     },
     "execution_count": 41,
     "metadata": {},
     "output_type": "execute_result"
    }
   ],
   "source": [
    "# Converting entire se of labels into format required by mlb\n",
    "labels = [[\"\".join(re.findall(\"\\w\",f)) for f in lst] for lst in [s.split(\",\") for s in labels]]\n",
    "labels[30]"
   ]
  },
  {
   "cell_type": "code",
   "execution_count": 42,
   "id": "1feedfa9",
   "metadata": {},
   "outputs": [
    {
     "data": {
      "text/plain": [
       "MultiLabelBinarizer(classes=['accounting', 'advertising', 'arts', 'banking',\n",
       "                             'biotech', 'businessservices', 'communications',\n",
       "                             'media', 'consulting', 'education', 'environment',\n",
       "                             'fashion', 'government', 'humanresources',\n",
       "                             'internet', 'law', 'manufacturing', 'marketing',\n",
       "                             'non', 'profit', 'publishing', 'religion',\n",
       "                             'science', 'sports', 'recreation', 'student',\n",
       "                             'technology', 'transportation', 'unknown_industry',\n",
       "                             'chemicals', ...])"
      ]
     },
     "execution_count": 42,
     "metadata": {},
     "output_type": "execute_result"
    }
   ],
   "source": [
    "labels_trans = mlb.fit(labels) # transforming entire set of lables\n",
    "labels_trans"
   ]
  },
  {
   "cell_type": "code",
   "execution_count": 43,
   "id": "7ecda134",
   "metadata": {},
   "outputs": [
    {
     "data": {
      "text/plain": [
       "['student']"
      ]
     },
     "execution_count": 43,
     "metadata": {},
     "output_type": "execute_result"
    }
   ],
   "source": [
    "#Convert Y_train into a format as required by mlb \n",
    "Y_train = [[\"\".join(re.findall(\"\\w\",f)) for f in lst] for lst in [s.split(\",\") for s in Y_train]]\n",
    "Y_train[30]"
   ]
  },
  {
   "cell_type": "code",
   "execution_count": 44,
   "id": "0825ecb9",
   "metadata": {
    "scrolled": true
   },
   "outputs": [
    {
     "name": "stderr",
     "output_type": "stream",
     "text": [
      "C:\\Users\\Nikhila KG\\anaconda3\\lib\\site-packages\\sklearn\\preprocessing\\_label.py:875: UserWarning: unknown class(es) ['communicationsmedia', 'lawenforcementsecurity', 'museumslibraries', 'nonprofit', 'sportsrecreation'] will be ignored\n",
      "  warnings.warn(\n"
     ]
    },
    {
     "data": {
      "text/plain": [
       "array([0, 0, 0, 0, 0, 0, 0, 0, 0, 0, 0, 0, 0, 0, 0, 0, 0, 0, 0, 0, 0, 0,\n",
       "       0, 0, 0, 1, 0, 0, 0, 0, 0, 0, 0, 0, 0, 0, 0, 0, 0, 0, 0, 0, 0, 0,\n",
       "       0])"
      ]
     },
     "execution_count": 44,
     "metadata": {},
     "output_type": "execute_result"
    }
   ],
   "source": [
    "Y_train_trans = mlb.transform(Y_train) # transforming Train lables using mlb which is trained on all possible unnique labels on entire data set\n",
    "Y_train_trans[30]"
   ]
  },
  {
   "cell_type": "code",
   "execution_count": 45,
   "id": "f60fac45",
   "metadata": {},
   "outputs": [
    {
     "data": {
      "text/plain": [
       "(7388, 45)"
      ]
     },
     "execution_count": 45,
     "metadata": {},
     "output_type": "execute_result"
    }
   ],
   "source": [
    "Y_train_trans.shape"
   ]
  },
  {
   "cell_type": "code",
   "execution_count": 46,
   "id": "dde508a9",
   "metadata": {},
   "outputs": [
    {
     "name": "stdout",
     "output_type": "stream",
     "text": [
      "['manufacturing']\n"
     ]
    }
   ],
   "source": [
    "#Convert Y_test into a format as required by mlb \n",
    "Y_test = [[\"\".join(re.findall(\"\\w\",f)) for f in lst] for lst in [s.split(\",\") for s in Y_test]]\n",
    "Y_test_trans = mlb.transform(Y_test) # transforming test labels.\n",
    "print(Y_test[30])"
   ]
  },
  {
   "cell_type": "code",
   "execution_count": 47,
   "id": "4fbe78e2",
   "metadata": {},
   "outputs": [
    {
     "data": {
      "text/plain": [
       "array([0, 0, 0, 0, 0, 0, 0, 0, 0, 0, 0, 0, 0, 0, 0, 0, 1, 0, 0, 0, 0, 0,\n",
       "       0, 0, 0, 0, 0, 0, 0, 0, 0, 0, 0, 0, 0, 0, 0, 0, 0, 0, 0, 0, 0, 0,\n",
       "       0])"
      ]
     },
     "execution_count": 47,
     "metadata": {},
     "output_type": "execute_result"
    }
   ],
   "source": [
    "Y_test_trans[30]"
   ]
  },
  {
   "cell_type": "code",
   "execution_count": 48,
   "id": "bcc0e789",
   "metadata": {},
   "outputs": [
    {
     "data": {
      "text/plain": [
       "45"
      ]
     },
     "execution_count": 48,
     "metadata": {},
     "output_type": "execute_result"
    }
   ],
   "source": [
    "len(mlb.classes_)"
   ]
  },
  {
   "cell_type": "code",
   "execution_count": 49,
   "id": "5a9bee48",
   "metadata": {},
   "outputs": [
    {
     "data": {
      "text/plain": [
       "array(['accounting', 'advertising', 'arts', 'banking', 'biotech',\n",
       "       'businessservices', 'communications', 'media', 'consulting',\n",
       "       'education', 'environment', 'fashion', 'government',\n",
       "       'humanresources', 'internet', 'law', 'manufacturing', 'marketing',\n",
       "       'non', 'profit', 'publishing', 'religion', 'science', 'sports',\n",
       "       'recreation', 'student', 'technology', 'transportation',\n",
       "       'unknown_industry', 'chemicals', 'construction', 'engineering',\n",
       "       'investmentbanking', 'military', 'museums', 'libraries', 'tourism',\n",
       "       'architecture', 'lawenforcement', 'security', 'realestate',\n",
       "       'telecommunications', 'agriculture', 'automotive', 'maritime'],\n",
       "      dtype=object)"
      ]
     },
     "execution_count": 49,
     "metadata": {},
     "output_type": "execute_result"
    }
   ],
   "source": [
    "mlb.classes_"
   ]
  },
  {
   "cell_type": "code",
   "execution_count": 50,
   "id": "ddc7688a",
   "metadata": {},
   "outputs": [
    {
     "data": {
      "text/plain": [
       "array([0, 0, 0, 0, 0, 0, 0, 0, 0, 0, 0, 0, 0, 0, 0, 0, 0, 0, 0, 0, 0, 0,\n",
       "       0, 0, 0, 1, 0, 0, 0, 0, 0, 0, 0, 0, 0, 0, 0, 0, 0, 0, 0, 0, 0, 0,\n",
       "       0])"
      ]
     },
     "execution_count": 50,
     "metadata": {},
     "output_type": "execute_result"
    }
   ],
   "source": [
    "Y_train_trans[10]"
   ]
  },
  {
   "cell_type": "code",
   "execution_count": 51,
   "id": "a665a41a",
   "metadata": {},
   "outputs": [
    {
     "data": {
      "text/plain": [
       "['student']"
      ]
     },
     "execution_count": 51,
     "metadata": {},
     "output_type": "execute_result"
    }
   ],
   "source": [
    "Y_train[10]"
   ]
  },
  {
   "cell_type": "markdown",
   "id": "e27aeab4",
   "metadata": {},
   "source": [
    "##### D. Build a base model for Supervised Learning - Classification."
   ]
  },
  {
   "cell_type": "markdown",
   "id": "c2e3aea2",
   "metadata": {},
   "source": [
    "In this task, we will use the One-vs-Rest approach, which is implemented in OneVsRestClassifier class. In this approach k classifiers (= number of tags) are trained. As a basic classifier, we will use LogisticRegression . It is one of the simplest methods, but often it performs good enough in text classification tasks. It might take some time because the number of classifiers to train is large."
   ]
  },
  {
   "cell_type": "code",
   "execution_count": 52,
   "id": "cf93183d",
   "metadata": {},
   "outputs": [],
   "source": [
    "clf = LogisticRegression(solver = 'lbfgs',max_iter = 1000)  # initiating the classifier\n",
    "#from sklearn.svm import SVC\n",
    "#clf = SVC(kernel = \"linear\")\n",
    "clf = OneVsRestClassifier(clf)"
   ]
  },
  {
   "cell_type": "code",
   "execution_count": 53,
   "id": "8cc8ec87",
   "metadata": {
    "scrolled": true
   },
   "outputs": [
    {
     "name": "stderr",
     "output_type": "stream",
     "text": [
      "C:\\Users\\Nikhila KG\\anaconda3\\lib\\site-packages\\sklearn\\multiclass.py:79: UserWarning: Label not 6 is present in all training examples.\n",
      "  warnings.warn(\n",
      "C:\\Users\\Nikhila KG\\anaconda3\\lib\\site-packages\\sklearn\\multiclass.py:79: UserWarning: Label not 7 is present in all training examples.\n",
      "  warnings.warn(\n",
      "C:\\Users\\Nikhila KG\\anaconda3\\lib\\site-packages\\sklearn\\multiclass.py:79: UserWarning: Label not 18 is present in all training examples.\n",
      "  warnings.warn(\n",
      "C:\\Users\\Nikhila KG\\anaconda3\\lib\\site-packages\\sklearn\\multiclass.py:79: UserWarning: Label not 19 is present in all training examples.\n",
      "  warnings.warn(\n",
      "C:\\Users\\Nikhila KG\\anaconda3\\lib\\site-packages\\sklearn\\multiclass.py:79: UserWarning: Label not 23 is present in all training examples.\n",
      "  warnings.warn(\n",
      "C:\\Users\\Nikhila KG\\anaconda3\\lib\\site-packages\\sklearn\\multiclass.py:79: UserWarning: Label not 24 is present in all training examples.\n",
      "  warnings.warn(\n",
      "C:\\Users\\Nikhila KG\\anaconda3\\lib\\site-packages\\sklearn\\multiclass.py:79: UserWarning: Label not 34 is present in all training examples.\n",
      "  warnings.warn(\n",
      "C:\\Users\\Nikhila KG\\anaconda3\\lib\\site-packages\\sklearn\\multiclass.py:79: UserWarning: Label not 35 is present in all training examples.\n",
      "  warnings.warn(\n",
      "C:\\Users\\Nikhila KG\\anaconda3\\lib\\site-packages\\sklearn\\multiclass.py:79: UserWarning: Label not 38 is present in all training examples.\n",
      "  warnings.warn(\n",
      "C:\\Users\\Nikhila KG\\anaconda3\\lib\\site-packages\\sklearn\\multiclass.py:79: UserWarning: Label not 39 is present in all training examples.\n",
      "  warnings.warn(\n"
     ]
    },
    {
     "data": {
      "text/plain": [
       "OneVsRestClassifier(estimator=LogisticRegression(max_iter=1000))"
      ]
     },
     "execution_count": 53,
     "metadata": {},
     "output_type": "execute_result"
    }
   ],
   "source": [
    "clf.fit(X_train,Y_train_trans)"
   ]
  },
  {
   "cell_type": "code",
   "execution_count": 54,
   "id": "4b5d5f9d",
   "metadata": {
    "scrolled": true
   },
   "outputs": [
    {
     "name": "stdout",
     "output_type": "stream",
     "text": [
      "Train Accuracy: 0.9401732539252843\n"
     ]
    }
   ],
   "source": [
    "print(\"Train Accuracy:\",clf.score(X_train,Y_train_trans))"
   ]
  },
  {
   "cell_type": "code",
   "execution_count": 55,
   "id": "312a1159",
   "metadata": {},
   "outputs": [],
   "source": [
    "Y_pred = clf.predict(X_test)"
   ]
  },
  {
   "cell_type": "markdown",
   "id": "3ed0b672",
   "metadata": {},
   "source": [
    "##### E. Clearly print Performance Metrics."
   ]
  },
  {
   "cell_type": "code",
   "execution_count": 56,
   "id": "b2295350",
   "metadata": {
    "scrolled": true
   },
   "outputs": [
    {
     "name": "stdout",
     "output_type": "stream",
     "text": [
      "Test Accuracy:0.20249052517596103\n",
      "F1: 0.25268176400476755\n",
      "F1_macro: 0.019224638710478133\n",
      "Precision: 0.39949748743718594\n",
      "Precision_macro: 0.041047988066652115\n",
      "Recall: 0.18477629285299244\n",
      "Recall_macro: 0.014538330993375512\n"
     ]
    },
    {
     "name": "stderr",
     "output_type": "stream",
     "text": [
      "C:\\Users\\Nikhila KG\\anaconda3\\lib\\site-packages\\sklearn\\metrics\\_classification.py:1580: UndefinedMetricWarning: F-score is ill-defined and being set to 0.0 in labels with no true nor predicted samples. Use `zero_division` parameter to control this behavior.\n",
      "  _warn_prf(average, \"true nor predicted\", \"F-score is\", len(true_sum))\n",
      "C:\\Users\\Nikhila KG\\anaconda3\\lib\\site-packages\\sklearn\\metrics\\_classification.py:1318: UndefinedMetricWarning: Precision is ill-defined and being set to 0.0 in labels with no predicted samples. Use `zero_division` parameter to control this behavior.\n",
      "  _warn_prf(average, modifier, msg_start, len(result))\n",
      "C:\\Users\\Nikhila KG\\anaconda3\\lib\\site-packages\\sklearn\\metrics\\_classification.py:1318: UndefinedMetricWarning: Recall is ill-defined and being set to 0.0 in labels with no true samples. Use `zero_division` parameter to control this behavior.\n",
      "  _warn_prf(average, modifier, msg_start, len(result))\n"
     ]
    }
   ],
   "source": [
    "print(\"Test Accuracy:\" + str(accuracy_score(Y_test_trans, Y_pred)))\n",
    "print(\"F1: \" + str(f1_score(Y_test_trans, Y_pred, average='micro')))\n",
    "print(\"F1_macro: \" + str(f1_score(Y_test_trans, Y_pred, average='macro')))\n",
    "print(\"Precision: \" + str(precision_score(Y_test_trans, Y_pred, average='micro')))\n",
    "print(\"Precision_macro: \" + str(precision_score(Y_test_trans, Y_pred, average='macro')))\n",
    "print(\"Recall: \" + str(recall_score(Y_test_trans, Y_pred, average='micro')))\n",
    "print(\"Recall_macro: \" + str(recall_score(Y_test_trans, Y_pred, average='macro')))"
   ]
  },
  {
   "cell_type": "code",
   "execution_count": 57,
   "id": "0b061d57",
   "metadata": {},
   "outputs": [],
   "source": [
    "Y_pred_inv = mlb.inverse_transform(Y_pred)   # inverse transforming predited label data\n",
    "Y_test_trans_inv =  mlb.inverse_transform(Y_test_trans) # inverse transforming original test label data"
   ]
  },
  {
   "cell_type": "code",
   "execution_count": 62,
   "id": "091171b9",
   "metadata": {},
   "outputs": [
    {
     "name": "stdout",
     "output_type": "stream",
     "text": [
      "Example 1 - predicted : ('student',)\n",
      "Example 1 - Actual : ('student',)\n",
      "Example 1 - Actual_before mlb transformation : ['student']\n"
     ]
    }
   ],
   "source": [
    "print(\"Example 1 - predicted :\",Y_pred_inv[134])\n",
    "print(\"Example 1 - Actual :\",Y_test_trans_inv[134])\n",
    "print(\"Example 1 - Actual_before mlb transformation :\",Y_test[134])"
   ]
  },
  {
   "cell_type": "code",
   "execution_count": 70,
   "id": "ee71db5c",
   "metadata": {},
   "outputs": [
    {
     "name": "stdout",
     "output_type": "stream",
     "text": [
      "Example 2 - predicted : ('unknown_industry',)\n",
      "Example 2 - Actual : ('unknown_industry',)\n",
      "Example 2 - Actual_before mlb transformation : ['unknown_industry']\n"
     ]
    }
   ],
   "source": [
    "print(\"Example 2 - predicted :\",Y_pred_inv[70])\n",
    "print(\"Example 2 - Actual :\",Y_test_trans_inv[70])\n",
    "print(\"Example 2 - Actual_before mlb transformation :\",Y_test[70])"
   ]
  },
  {
   "cell_type": "markdown",
   "id": "08aa0b1a",
   "metadata": {},
   "source": [
    "#### 4. Improve Performance of model."
   ]
  },
  {
   "cell_type": "markdown",
   "id": "4bbfda9c",
   "metadata": {},
   "source": [
    "##### A. Experiment with other vectorisers."
   ]
  },
  {
   "cell_type": "markdown",
   "id": "68536c20",
   "metadata": {},
   "source": [
    "**a) Word2Vec**"
   ]
  },
  {
   "cell_type": "code",
   "execution_count": 71,
   "id": "2d2199f1",
   "metadata": {},
   "outputs": [
    {
     "data": {
      "text/html": [
       "<div>\n",
       "<style scoped>\n",
       "    .dataframe tbody tr th:only-of-type {\n",
       "        vertical-align: middle;\n",
       "    }\n",
       "\n",
       "    .dataframe tbody tr th {\n",
       "        vertical-align: top;\n",
       "    }\n",
       "\n",
       "    .dataframe thead th {\n",
       "        text-align: right;\n",
       "    }\n",
       "</style>\n",
       "<table border=\"1\" class=\"dataframe\">\n",
       "  <thead>\n",
       "    <tr style=\"text-align: right;\">\n",
       "      <th></th>\n",
       "      <th>text</th>\n",
       "      <th>text_new</th>\n",
       "      <th>labels</th>\n",
       "    </tr>\n",
       "  </thead>\n",
       "  <tbody>\n",
       "    <tr>\n",
       "      <th>0</th>\n",
       "      <td>Friday for all and all for a Friday..  ...</td>\n",
       "      <td>friday friday currant event know little happen...</td>\n",
       "      <td>accounting</td>\n",
       "    </tr>\n",
       "    <tr>\n",
       "      <th>1</th>\n",
       "      <td>I actually have started about three blo...</td>\n",
       "      <td>actually started three blog one stuck link var...</td>\n",
       "      <td>accounting</td>\n",
       "    </tr>\n",
       "    <tr>\n",
       "      <th>2</th>\n",
       "      <td>The holidays are just about over and i ...</td>\n",
       "      <td>holiday one stop go really iowa come day iowa ...</td>\n",
       "      <td>accounting</td>\n",
       "    </tr>\n",
       "    <tr>\n",
       "      <th>3</th>\n",
       "      <td>What to say what a day... Its just been...</td>\n",
       "      <td>say day one yup know one work tonight fast pis...</td>\n",
       "      <td>accounting</td>\n",
       "    </tr>\n",
       "    <tr>\n",
       "      <th>5</th>\n",
       "      <td>I am in love with Beyonce's '...</td>\n",
       "      <td>love beyonce crazy love shake as backing horn ...</td>\n",
       "      <td>advertising</td>\n",
       "    </tr>\n",
       "  </tbody>\n",
       "</table>\n",
       "</div>"
      ],
      "text/plain": [
       "                                                text  \\\n",
       "0         Friday for all and all for a Friday..  ...   \n",
       "1         I actually have started about three blo...   \n",
       "2         The holidays are just about over and i ...   \n",
       "3         What to say what a day... Its just been...   \n",
       "5                   I am in love with Beyonce's '...   \n",
       "\n",
       "                                            text_new       labels  \n",
       "0  friday friday currant event know little happen...   accounting  \n",
       "1  actually started three blog one stuck link var...   accounting  \n",
       "2  holiday one stop go really iowa come day iowa ...   accounting  \n",
       "3  say day one yup know one work tonight fast pis...   accounting  \n",
       "5  love beyonce crazy love shake as backing horn ...  advertising  "
      ]
     },
     "execution_count": 71,
     "metadata": {},
     "output_type": "execute_result"
    }
   ],
   "source": [
    "corpus_df.head()"
   ]
  },
  {
   "cell_type": "code",
   "execution_count": 72,
   "id": "9b9c299c",
   "metadata": {},
   "outputs": [],
   "source": [
    "#convert preprocessed sentence to tokenized sentence\n",
    "corpus_df['text_new_tok']=[nltk.word_tokenize(i) for i in corpus_df['text_new']] "
   ]
  },
  {
   "cell_type": "code",
   "execution_count": 73,
   "id": "b4973d5a",
   "metadata": {},
   "outputs": [],
   "source": [
    "#min_count=1 means word should be present at least across all documents,\n",
    "#if min_count=2 means if the word is present less than 2 times across all the documents then we shouldn't consider it\n",
    "model = Word2Vec(corpus_df['text_new_tok'],min_count=1)"
   ]
  },
  {
   "cell_type": "code",
   "execution_count": 74,
   "id": "cda57155",
   "metadata": {},
   "outputs": [
    {
     "data": {
      "text/plain": [
       "[('reason', 0.8697134852409363),\n",
       " ('problem', 0.8693608045578003),\n",
       " ('others', 0.8627945184707642),\n",
       " ('situation', 0.8537051677703857),\n",
       " ('relationship', 0.85337895154953),\n",
       " ('deal', 0.8472176194190979),\n",
       " ('respect', 0.8414106369018555),\n",
       " ('seem', 0.8409132957458496),\n",
       " ('matter', 0.8356549739837646),\n",
       " ('often', 0.8328536152839661)]"
      ]
     },
     "execution_count": 74,
     "metadata": {},
     "output_type": "execute_result"
    }
   ],
   "source": [
    "model.wv.most_similar('people')"
   ]
  },
  {
   "cell_type": "code",
   "execution_count": 75,
   "id": "338ec11b",
   "metadata": {},
   "outputs": [],
   "source": [
    " #combination of word and its vector\n",
    "w2v = dict(zip(model.wv.index_to_key, model.wv.vectors)) "
   ]
  },
  {
   "cell_type": "code",
   "execution_count": 77,
   "id": "224cbff6",
   "metadata": {},
   "outputs": [],
   "source": [
    "#for converting sentence to vectors/numbers from word vectors result by Word2Vec\n",
    "class MeanEmbeddingVectorizer(object):\n",
    "    def __init__(self, word2vec):\n",
    "        self.word2vec = word2vec\n",
    "        # if a text is empty we should return a vector of zeros\n",
    "        # with the same dimensionality as all the other vectors\n",
    "        self.dim = len(next(iter(word2vec.values())))\n",
    "\n",
    "    def fit(self, X, y):\n",
    "        return self\n",
    "\n",
    "    def transform(self, X):\n",
    "        return np.array([\n",
    "            np.mean([self.word2vec[w] for w in words if w in self.word2vec]\n",
    "                    or [np.zeros(self.dim)], axis=0)\n",
    "            for words in X\n",
    "        ])"
   ]
  },
  {
   "cell_type": "code",
   "execution_count": 78,
   "id": "3002945c",
   "metadata": {},
   "outputs": [
    {
     "data": {
      "text/html": [
       "<div>\n",
       "<style scoped>\n",
       "    .dataframe tbody tr th:only-of-type {\n",
       "        vertical-align: middle;\n",
       "    }\n",
       "\n",
       "    .dataframe tbody tr th {\n",
       "        vertical-align: top;\n",
       "    }\n",
       "\n",
       "    .dataframe thead th {\n",
       "        text-align: right;\n",
       "    }\n",
       "</style>\n",
       "<table border=\"1\" class=\"dataframe\">\n",
       "  <thead>\n",
       "    <tr style=\"text-align: right;\">\n",
       "      <th></th>\n",
       "      <th>text</th>\n",
       "      <th>text_new</th>\n",
       "      <th>labels</th>\n",
       "      <th>text_new_tok</th>\n",
       "    </tr>\n",
       "  </thead>\n",
       "  <tbody>\n",
       "    <tr>\n",
       "      <th>0</th>\n",
       "      <td>Friday for all and all for a Friday..  ...</td>\n",
       "      <td>friday friday currant event know little happen...</td>\n",
       "      <td>accounting</td>\n",
       "      <td>[friday, friday, currant, event, know, little,...</td>\n",
       "    </tr>\n",
       "    <tr>\n",
       "      <th>1</th>\n",
       "      <td>I actually have started about three blo...</td>\n",
       "      <td>actually started three blog one stuck link var...</td>\n",
       "      <td>accounting</td>\n",
       "      <td>[actually, started, three, blog, one, stuck, l...</td>\n",
       "    </tr>\n",
       "    <tr>\n",
       "      <th>2</th>\n",
       "      <td>The holidays are just about over and i ...</td>\n",
       "      <td>holiday one stop go really iowa come day iowa ...</td>\n",
       "      <td>accounting</td>\n",
       "      <td>[holiday, one, stop, go, really, iowa, come, d...</td>\n",
       "    </tr>\n",
       "    <tr>\n",
       "      <th>3</th>\n",
       "      <td>What to say what a day... Its just been...</td>\n",
       "      <td>say day one yup know one work tonight fast pis...</td>\n",
       "      <td>accounting</td>\n",
       "      <td>[say, day, one, yup, know, one, work, tonight,...</td>\n",
       "    </tr>\n",
       "    <tr>\n",
       "      <th>5</th>\n",
       "      <td>I am in love with Beyonce's '...</td>\n",
       "      <td>love beyonce crazy love shake as backing horn ...</td>\n",
       "      <td>advertising</td>\n",
       "      <td>[love, beyonce, crazy, love, shake, as, backin...</td>\n",
       "    </tr>\n",
       "  </tbody>\n",
       "</table>\n",
       "</div>"
      ],
      "text/plain": [
       "                                                text  \\\n",
       "0         Friday for all and all for a Friday..  ...   \n",
       "1         I actually have started about three blo...   \n",
       "2         The holidays are just about over and i ...   \n",
       "3         What to say what a day... Its just been...   \n",
       "5                   I am in love with Beyonce's '...   \n",
       "\n",
       "                                            text_new       labels  \\\n",
       "0  friday friday currant event know little happen...   accounting   \n",
       "1  actually started three blog one stuck link var...   accounting   \n",
       "2  holiday one stop go really iowa come day iowa ...   accounting   \n",
       "3  say day one yup know one work tonight fast pis...   accounting   \n",
       "5  love beyonce crazy love shake as backing horn ...  advertising   \n",
       "\n",
       "                                        text_new_tok  \n",
       "0  [friday, friday, currant, event, know, little,...  \n",
       "1  [actually, started, three, blog, one, stuck, l...  \n",
       "2  [holiday, one, stop, go, really, iowa, come, d...  \n",
       "3  [say, day, one, yup, know, one, work, tonight,...  \n",
       "5  [love, beyonce, crazy, love, shake, as, backin...  "
      ]
     },
     "execution_count": 78,
     "metadata": {},
     "output_type": "execute_result"
    }
   ],
   "source": [
    "corpus_df.head()"
   ]
  },
  {
   "cell_type": "code",
   "execution_count": 79,
   "id": "b1fdd329",
   "metadata": {},
   "outputs": [
    {
     "data": {
      "text/html": [
       "<div>\n",
       "<style scoped>\n",
       "    .dataframe tbody tr th:only-of-type {\n",
       "        vertical-align: middle;\n",
       "    }\n",
       "\n",
       "    .dataframe tbody tr th {\n",
       "        vertical-align: top;\n",
       "    }\n",
       "\n",
       "    .dataframe thead th {\n",
       "        text-align: right;\n",
       "    }\n",
       "</style>\n",
       "<table border=\"1\" class=\"dataframe\">\n",
       "  <thead>\n",
       "    <tr style=\"text-align: right;\">\n",
       "      <th></th>\n",
       "      <th>text</th>\n",
       "      <th>text_new</th>\n",
       "      <th>labels</th>\n",
       "      <th>text_new_tok</th>\n",
       "      <th>Target</th>\n",
       "    </tr>\n",
       "  </thead>\n",
       "  <tbody>\n",
       "    <tr>\n",
       "      <th>0</th>\n",
       "      <td>Friday for all and all for a Friday..  ...</td>\n",
       "      <td>friday friday currant event know little happen...</td>\n",
       "      <td>accounting</td>\n",
       "      <td>[friday, friday, currant, event, know, little,...</td>\n",
       "      <td>0</td>\n",
       "    </tr>\n",
       "    <tr>\n",
       "      <th>1</th>\n",
       "      <td>I actually have started about three blo...</td>\n",
       "      <td>actually started three blog one stuck link var...</td>\n",
       "      <td>accounting</td>\n",
       "      <td>[actually, started, three, blog, one, stuck, l...</td>\n",
       "      <td>0</td>\n",
       "    </tr>\n",
       "    <tr>\n",
       "      <th>2</th>\n",
       "      <td>The holidays are just about over and i ...</td>\n",
       "      <td>holiday one stop go really iowa come day iowa ...</td>\n",
       "      <td>accounting</td>\n",
       "      <td>[holiday, one, stop, go, really, iowa, come, d...</td>\n",
       "      <td>0</td>\n",
       "    </tr>\n",
       "    <tr>\n",
       "      <th>3</th>\n",
       "      <td>What to say what a day... Its just been...</td>\n",
       "      <td>say day one yup know one work tonight fast pis...</td>\n",
       "      <td>accounting</td>\n",
       "      <td>[say, day, one, yup, know, one, work, tonight,...</td>\n",
       "      <td>0</td>\n",
       "    </tr>\n",
       "    <tr>\n",
       "      <th>5</th>\n",
       "      <td>I am in love with Beyonce's '...</td>\n",
       "      <td>love beyonce crazy love shake as backing horn ...</td>\n",
       "      <td>advertising</td>\n",
       "      <td>[love, beyonce, crazy, love, shake, as, backin...</td>\n",
       "      <td>1</td>\n",
       "    </tr>\n",
       "  </tbody>\n",
       "</table>\n",
       "</div>"
      ],
      "text/plain": [
       "                                                text  \\\n",
       "0         Friday for all and all for a Friday..  ...   \n",
       "1         I actually have started about three blo...   \n",
       "2         The holidays are just about over and i ...   \n",
       "3         What to say what a day... Its just been...   \n",
       "5                   I am in love with Beyonce's '...   \n",
       "\n",
       "                                            text_new       labels  \\\n",
       "0  friday friday currant event know little happen...   accounting   \n",
       "1  actually started three blog one stuck link var...   accounting   \n",
       "2  holiday one stop go really iowa come day iowa ...   accounting   \n",
       "3  say day one yup know one work tonight fast pis...   accounting   \n",
       "5  love beyonce crazy love shake as backing horn ...  advertising   \n",
       "\n",
       "                                        text_new_tok  Target  \n",
       "0  [friday, friday, currant, event, know, little,...       0  \n",
       "1  [actually, started, three, blog, one, stuck, l...       0  \n",
       "2  [holiday, one, stop, go, really, iowa, come, d...       0  \n",
       "3  [say, day, one, yup, know, one, work, tonight,...       0  \n",
       "5  [love, beyonce, crazy, love, shake, as, backin...       1  "
      ]
     },
     "execution_count": 79,
     "metadata": {},
     "output_type": "execute_result"
    }
   ],
   "source": [
    "le = LabelEncoder()\n",
    "corpus_df['Target'] = le.fit_transform(corpus_df['labels'])\n",
    "corpus_df.head()"
   ]
  },
  {
   "cell_type": "markdown",
   "id": "c5595073",
   "metadata": {},
   "source": [
    "#### TRAIN TEST SPLITTING OF LABELLED DATASET"
   ]
  },
  {
   "cell_type": "code",
   "execution_count": 80,
   "id": "74c07b79",
   "metadata": {},
   "outputs": [],
   "source": [
    "#SPLITTING THE TRAINING DATASET INTO TRAINING AND VALIDATION\n",
    "X_train, X_val, y_train, y_val = train_test_split(corpus_df[\"text_new\"],corpus_df[\"Target\"],test_size=0.2,shuffle=True)"
   ]
  },
  {
   "cell_type": "code",
   "execution_count": 81,
   "id": "9b9151a9",
   "metadata": {},
   "outputs": [],
   "source": [
    "X_train_tok= [nltk.word_tokenize(i) for i in X_train]  #for word2vec\n",
    "X_val_tok= [nltk.word_tokenize(i) for i in X_val]      #for word2vec"
   ]
  },
  {
   "cell_type": "code",
   "execution_count": 82,
   "id": "569110ce",
   "metadata": {},
   "outputs": [],
   "source": [
    "#TF-IDF\n",
    "# Convert x_train to vector since model can only run on numbers and not words- Fit and transform\n",
    "tfidf_vectorizer = TfidfVectorizer(use_idf=True)"
   ]
  },
  {
   "cell_type": "code",
   "execution_count": 83,
   "id": "b848b3ad",
   "metadata": {},
   "outputs": [],
   "source": [
    "#tfidf runs on non-tokenized sentences unlike word2vec\n",
    "X_train_vectors_tfidf = tfidf_vectorizer.fit_transform(X_train) "
   ]
  },
  {
   "cell_type": "code",
   "execution_count": 84,
   "id": "3975a233",
   "metadata": {},
   "outputs": [],
   "source": [
    "# Only transform x_test (not fit and transform)\n",
    "X_val_vectors_tfidf = tfidf_vectorizer.transform(X_val)"
   ]
  },
  {
   "cell_type": "markdown",
   "id": "cebc5aba",
   "metadata": {},
   "source": [
    "**NOTE**: Don't fit() your TfidfVectorizer to your test data: it will change the word-indexes & weights to match test data. Rather, fit on the training data, then use the same train-data- fit model on the test data, to reflect the fact you're analyzing the test data only based on what was learned without it, and the have compatible."
   ]
  },
  {
   "cell_type": "code",
   "execution_count": 85,
   "id": "36e9ae1f",
   "metadata": {},
   "outputs": [],
   "source": [
    "#Word2vec\n",
    "# Fit and transform\n",
    "modelw = MeanEmbeddingVectorizer(w2v)\n",
    "X_train_vectors_w2v = modelw.transform(X_train_tok)\n",
    "X_val_vectors_w2v = modelw.transform(X_val_tok)"
   ]
  },
  {
   "cell_type": "markdown",
   "id": "17158779",
   "metadata": {},
   "source": [
    "##### B. Build classifier Models using other algorithms than base model."
   ]
  },
  {
   "cell_type": "markdown",
   "id": "5a2f0117",
   "metadata": {},
   "source": [
    "#### C. Tune Parameters/Hyperparameters of the model/s."
   ]
  },
  {
   "cell_type": "markdown",
   "id": "d84ffda2",
   "metadata": {},
   "source": [
    "##### D. Clearly print Performance Metrics."
   ]
  },
  {
   "cell_type": "markdown",
   "id": "1d977bb4",
   "metadata": {},
   "source": [
    "#### LR (tf-idf)"
   ]
  },
  {
   "cell_type": "code",
   "execution_count": 86,
   "id": "07f22db5",
   "metadata": {},
   "outputs": [],
   "source": [
    "#FITTING THE CLASSIFICATION MODEL using Logistic Regression(tf-idf)\n",
    "\n",
    "lr_tfidf=LogisticRegression(solver = 'liblinear', C=10, penalty = 'l2')\n",
    "lr_tfidf.fit(X_train_vectors_tfidf, y_train)  #model\n",
    "\n",
    "#Predict y value for test dataset\n",
    "y_predict = lr_tfidf.predict(X_val_vectors_tfidf)\n",
    "y_prob = lr_tfidf.predict_proba(X_val_vectors_tfidf)[:,1]"
   ]
  },
  {
   "cell_type": "code",
   "execution_count": 87,
   "id": "d7f940a2",
   "metadata": {
    "scrolled": true
   },
   "outputs": [
    {
     "name": "stdout",
     "output_type": "stream",
     "text": [
      "Test Accuracy:0.39306984298863024\n",
      "F1: 0.39306984298863024\n",
      "F1_macro: 0.02709618022630062\n",
      "Precision: 0.39306984298863024\n",
      "Precision_macro: 0.03800147647287545\n",
      "Recall: 0.39306984298863024\n",
      "Recall_macro: 0.03193608695564108\n"
     ]
    },
    {
     "name": "stderr",
     "output_type": "stream",
     "text": [
      "C:\\Users\\Nikhila KG\\anaconda3\\lib\\site-packages\\sklearn\\metrics\\_classification.py:1318: UndefinedMetricWarning: Precision is ill-defined and being set to 0.0 in labels with no predicted samples. Use `zero_division` parameter to control this behavior.\n",
      "  _warn_prf(average, modifier, msg_start, len(result))\n"
     ]
    }
   ],
   "source": [
    "print(\"Test Accuracy:\" + str(accuracy_score(y_val,y_predict)))\n",
    "print(\"F1: \" + str(f1_score(y_val,y_predict, average='micro')))\n",
    "print(\"F1_macro: \" + str(f1_score(y_val,y_predict, average='macro')))\n",
    "print(\"Precision: \" + str(precision_score(y_val,y_predict, average='micro')))\n",
    "print(\"Precision_macro: \" + str(precision_score(y_val,y_predict, average='macro')))\n",
    "print(\"Recall: \" + str(recall_score(y_val,y_predict, average='micro')))\n",
    "print(\"Recall_macro: \" + str(recall_score(y_val,y_predict, average='macro')))"
   ]
  },
  {
   "cell_type": "markdown",
   "id": "80efa3d8",
   "metadata": {},
   "source": [
    "#### NB (tf-idf)"
   ]
  },
  {
   "cell_type": "code",
   "execution_count": 88,
   "id": "d5a7791c",
   "metadata": {},
   "outputs": [],
   "source": [
    "#FITTING THE CLASSIFICATION MODEL using Naive Bayes(tf-idf)\n",
    "\n",
    "nb_tfidf = MultinomialNB()\n",
    "nb_tfidf.fit(X_train_vectors_tfidf, y_train)  #model\n",
    "\n",
    "#Predict y value for test dataset\n",
    "y_predict = nb_tfidf.predict(X_val_vectors_tfidf)\n",
    "y_prob = nb_tfidf.predict_proba(X_val_vectors_tfidf)[:,1]"
   ]
  },
  {
   "cell_type": "code",
   "execution_count": 89,
   "id": "b5bdc2fe",
   "metadata": {
    "scrolled": true
   },
   "outputs": [
    {
     "name": "stdout",
     "output_type": "stream",
     "text": [
      "Test Accuracy:0.3914455874390904\n",
      "F1: 0.3914455874390904\n",
      "F1_macro: 0.014841581976611725\n",
      "Precision: 0.3914455874390904\n",
      "Precision_macro: 0.025658546246781544\n",
      "Recall: 0.3914455874390904\n",
      "Recall_macro: 0.02529003267973856\n"
     ]
    },
    {
     "name": "stderr",
     "output_type": "stream",
     "text": [
      "C:\\Users\\Nikhila KG\\anaconda3\\lib\\site-packages\\sklearn\\metrics\\_classification.py:1318: UndefinedMetricWarning: Precision is ill-defined and being set to 0.0 in labels with no predicted samples. Use `zero_division` parameter to control this behavior.\n",
      "  _warn_prf(average, modifier, msg_start, len(result))\n"
     ]
    }
   ],
   "source": [
    "print(\"Test Accuracy:\" + str(accuracy_score(y_val,y_predict)))\n",
    "print(\"F1: \" + str(f1_score(y_val,y_predict, average='micro')))\n",
    "print(\"F1_macro: \" + str(f1_score(y_val,y_predict, average='macro')))\n",
    "print(\"Precision: \" + str(precision_score(y_val,y_predict, average='micro')))\n",
    "print(\"Precision_macro: \" + str(precision_score(y_val,y_predict, average='macro')))\n",
    "print(\"Recall: \" + str(recall_score(y_val,y_predict, average='micro')))\n",
    "print(\"Recall_macro: \" + str(recall_score(y_val,y_predict, average='macro')))"
   ]
  },
  {
   "cell_type": "markdown",
   "id": "ccedf900",
   "metadata": {},
   "source": [
    "#### LR (w2v)"
   ]
  },
  {
   "cell_type": "code",
   "execution_count": 90,
   "id": "deac6f1a",
   "metadata": {},
   "outputs": [],
   "source": [
    "#FITTING THE CLASSIFICATION MODEL using Logistic Regression (W2v)\n",
    "lr_w2v=LogisticRegression(solver = 'liblinear', C=10, penalty = 'l2')\n",
    "lr_w2v.fit(X_train_vectors_w2v, y_train)  #model\n",
    "\n",
    "#Predict y value for test dataset\n",
    "y_predict = lr_w2v.predict(X_val_vectors_w2v)\n",
    "y_prob = lr_w2v.predict_proba(X_val_vectors_w2v)[:,1]"
   ]
  },
  {
   "cell_type": "code",
   "execution_count": 91,
   "id": "0e14c79e",
   "metadata": {},
   "outputs": [
    {
     "name": "stdout",
     "output_type": "stream",
     "text": [
      "Test Accuracy:0.39469409853817\n",
      "F1: 0.39469409853817\n",
      "F1_macro: 0.021305852214126494\n",
      "Precision: 0.39469409853817\n",
      "Precision_macro: 0.020405561233849623\n",
      "Recall: 0.39469409853817\n",
      "Recall_macro: 0.027994281045751634\n"
     ]
    },
    {
     "name": "stderr",
     "output_type": "stream",
     "text": [
      "C:\\Users\\Nikhila KG\\anaconda3\\lib\\site-packages\\sklearn\\metrics\\_classification.py:1318: UndefinedMetricWarning: Precision is ill-defined and being set to 0.0 in labels with no predicted samples. Use `zero_division` parameter to control this behavior.\n",
      "  _warn_prf(average, modifier, msg_start, len(result))\n"
     ]
    }
   ],
   "source": [
    "print(\"Test Accuracy:\" + str(accuracy_score(y_val,y_predict)))\n",
    "print(\"F1: \" + str(f1_score(y_val,y_predict, average='micro')))\n",
    "print(\"F1_macro: \" + str(f1_score(y_val,y_predict, average='macro')))\n",
    "print(\"Precision: \" + str(precision_score(y_val,y_predict, average='micro')))\n",
    "print(\"Precision_macro: \" + str(precision_score(y_val,y_predict, average='macro')))\n",
    "print(\"Recall: \" + str(recall_score(y_val,y_predict, average='micro')))\n",
    "print(\"Recall_macro: \" + str(recall_score(y_val,y_predict, average='macro')))"
   ]
  },
  {
   "cell_type": "markdown",
   "id": "eea62dd0",
   "metadata": {},
   "source": [
    "#### b) Glove Embeddings - Using pre-trained glove model"
   ]
  },
  {
   "cell_type": "code",
   "execution_count": 92,
   "id": "7102cf37",
   "metadata": {},
   "outputs": [
    {
     "name": "stdout",
     "output_type": "stream",
     "text": [
      "Loaded 400000 word vectors.\n"
     ]
    }
   ],
   "source": [
    "glove_path = 'D:/Nikhila/PGP - AIML/2. Projects/9. Natural Language Processing/Project 1/glove.6B.300d.txt/glove.6B.300d.txt'\n",
    "embeddings_index = {}\n",
    "f = open(glove_path, encoding='utf8')\n",
    "\n",
    "for line in f:\n",
    "    values = line.split()\n",
    "    word = values[0]\n",
    "    coefs = np.asarray(values[1:], dtype='float32')\n",
    "    embeddings_index[word] = coefs\n",
    "    #print(embeddings_index)\n",
    "f.close()\n",
    "\n",
    "print('Loaded %s word vectors.' % len(embeddings_index))"
   ]
  },
  {
   "cell_type": "code",
   "execution_count": 93,
   "id": "c5258eb8",
   "metadata": {},
   "outputs": [],
   "source": [
    "# list all golve words\n",
    "all_glove_words = list(embeddings_index.keys())"
   ]
  },
  {
   "cell_type": "markdown",
   "id": "cac63a79",
   "metadata": {},
   "source": [
    "**Tokenizer** - After fit on all GloVe words, tokenizer vocabulary size is 400k words."
   ]
  },
  {
   "cell_type": "code",
   "execution_count": 94,
   "id": "2102190f",
   "metadata": {},
   "outputs": [],
   "source": [
    "# Tokenize\n",
    "vocabulary_size = len(all_glove_words)\n",
    "tokenizer = Tokenizer() #num_words= vocabulary_size\n",
    "tokenizer.fit_on_texts(all_glove_words) "
   ]
  },
  {
   "cell_type": "markdown",
   "id": "d2bb0dac",
   "metadata": {},
   "source": [
    "**Creat Embedding Matrix**"
   ]
  },
  {
   "cell_type": "code",
   "execution_count": 95,
   "id": "99698ab2",
   "metadata": {},
   "outputs": [],
   "source": [
    "# create a weight matrix for words in training docs\n",
    "embedding_matrix = np.zeros((vocabulary_size, 300)) \n",
    "for word, index in tokenizer.word_index.items():\n",
    "    if index > vocabulary_size - 1:\n",
    "        break\n",
    "    else:\n",
    "        embedding_vector = embeddings_index.get(word)\n",
    "        if embedding_vector is not None:\n",
    "            embedding_matrix[index] = embedding_vector"
   ]
  },
  {
   "cell_type": "code",
   "execution_count": 96,
   "id": "1f5d9ef8",
   "metadata": {},
   "outputs": [
    {
     "name": "stdout",
     "output_type": "stream",
     "text": [
      "(400000, 300)\n"
     ]
    }
   ],
   "source": [
    "print(embedding_matrix.shape)"
   ]
  },
  {
   "cell_type": "code",
   "execution_count": 97,
   "id": "230c78de",
   "metadata": {},
   "outputs": [],
   "source": [
    "#def find_similar_word(emmbedes):\n",
    "  #nearest = sorted(embeddings_index.keys(), key=lambda word: spatial.distance.euclidean(embeddings_index[word], emmbedes))\n",
    "  #return nearest"
   ]
  },
  {
   "cell_type": "code",
   "execution_count": 98,
   "id": "a95a7fd9",
   "metadata": {
    "scrolled": true
   },
   "outputs": [],
   "source": [
    "#find_similar_word(embeddings_index['people'])[0:10]"
   ]
  },
  {
   "cell_type": "markdown",
   "id": "3e7c352c",
   "metadata": {},
   "source": [
    "##### B. Build classifier Models using other algorithms than base model."
   ]
  },
  {
   "cell_type": "markdown",
   "id": "6d66a845",
   "metadata": {},
   "source": [
    "##### C. Tune Parameters/Hyperparameters of the model/s."
   ]
  },
  {
   "cell_type": "code",
   "execution_count": 99,
   "id": "4f1f3766",
   "metadata": {},
   "outputs": [
    {
     "data": {
      "text/html": [
       "<div>\n",
       "<style scoped>\n",
       "    .dataframe tbody tr th:only-of-type {\n",
       "        vertical-align: middle;\n",
       "    }\n",
       "\n",
       "    .dataframe tbody tr th {\n",
       "        vertical-align: top;\n",
       "    }\n",
       "\n",
       "    .dataframe thead th {\n",
       "        text-align: right;\n",
       "    }\n",
       "</style>\n",
       "<table border=\"1\" class=\"dataframe\">\n",
       "  <thead>\n",
       "    <tr style=\"text-align: right;\">\n",
       "      <th></th>\n",
       "      <th>text</th>\n",
       "      <th>text_new</th>\n",
       "      <th>labels</th>\n",
       "      <th>text_new_tok</th>\n",
       "      <th>Target</th>\n",
       "    </tr>\n",
       "  </thead>\n",
       "  <tbody>\n",
       "    <tr>\n",
       "      <th>0</th>\n",
       "      <td>Friday for all and all for a Friday..  ...</td>\n",
       "      <td>friday friday currant event know little happen...</td>\n",
       "      <td>accounting</td>\n",
       "      <td>[friday, friday, currant, event, know, little,...</td>\n",
       "      <td>0</td>\n",
       "    </tr>\n",
       "    <tr>\n",
       "      <th>1</th>\n",
       "      <td>I actually have started about three blo...</td>\n",
       "      <td>actually started three blog one stuck link var...</td>\n",
       "      <td>accounting</td>\n",
       "      <td>[actually, started, three, blog, one, stuck, l...</td>\n",
       "      <td>0</td>\n",
       "    </tr>\n",
       "    <tr>\n",
       "      <th>2</th>\n",
       "      <td>The holidays are just about over and i ...</td>\n",
       "      <td>holiday one stop go really iowa come day iowa ...</td>\n",
       "      <td>accounting</td>\n",
       "      <td>[holiday, one, stop, go, really, iowa, come, d...</td>\n",
       "      <td>0</td>\n",
       "    </tr>\n",
       "    <tr>\n",
       "      <th>3</th>\n",
       "      <td>What to say what a day... Its just been...</td>\n",
       "      <td>say day one yup know one work tonight fast pis...</td>\n",
       "      <td>accounting</td>\n",
       "      <td>[say, day, one, yup, know, one, work, tonight,...</td>\n",
       "      <td>0</td>\n",
       "    </tr>\n",
       "    <tr>\n",
       "      <th>5</th>\n",
       "      <td>I am in love with Beyonce's '...</td>\n",
       "      <td>love beyonce crazy love shake as backing horn ...</td>\n",
       "      <td>advertising</td>\n",
       "      <td>[love, beyonce, crazy, love, shake, as, backin...</td>\n",
       "      <td>1</td>\n",
       "    </tr>\n",
       "  </tbody>\n",
       "</table>\n",
       "</div>"
      ],
      "text/plain": [
       "                                                text  \\\n",
       "0         Friday for all and all for a Friday..  ...   \n",
       "1         I actually have started about three blo...   \n",
       "2         The holidays are just about over and i ...   \n",
       "3         What to say what a day... Its just been...   \n",
       "5                   I am in love with Beyonce's '...   \n",
       "\n",
       "                                            text_new       labels  \\\n",
       "0  friday friday currant event know little happen...   accounting   \n",
       "1  actually started three blog one stuck link var...   accounting   \n",
       "2  holiday one stop go really iowa come day iowa ...   accounting   \n",
       "3  say day one yup know one work tonight fast pis...   accounting   \n",
       "5  love beyonce crazy love shake as backing horn ...  advertising   \n",
       "\n",
       "                                        text_new_tok  Target  \n",
       "0  [friday, friday, currant, event, know, little,...       0  \n",
       "1  [actually, started, three, blog, one, stuck, l...       0  \n",
       "2  [holiday, one, stop, go, really, iowa, come, d...       0  \n",
       "3  [say, day, one, yup, know, one, work, tonight,...       0  \n",
       "5  [love, beyonce, crazy, love, shake, as, backin...       1  "
      ]
     },
     "execution_count": 99,
     "metadata": {},
     "output_type": "execute_result"
    }
   ],
   "source": [
    "corpus_df.head()"
   ]
  },
  {
   "cell_type": "markdown",
   "id": "ab437945",
   "metadata": {},
   "source": [
    "#### Define class labels and turn it to categorical value using keras function."
   ]
  },
  {
   "cell_type": "code",
   "execution_count": 100,
   "id": "83af8f23",
   "metadata": {},
   "outputs": [
    {
     "data": {
      "text/plain": [
       "40"
      ]
     },
     "execution_count": 100,
     "metadata": {},
     "output_type": "execute_result"
    }
   ],
   "source": [
    "corpus_df['labels'].nunique()"
   ]
  },
  {
   "cell_type": "code",
   "execution_count": 101,
   "id": "f0ddfe89",
   "metadata": {},
   "outputs": [
    {
     "name": "stdout",
     "output_type": "stream",
     "text": [
      "['accounting' 'advertising' 'arts' 'banking' 'biotech' 'businessservices'\n",
      " 'communications-media' 'consulting' 'education' 'environment' 'fashion'\n",
      " 'government' 'humanresources' 'internet' 'law' 'manufacturing'\n",
      " 'marketing' 'non-profit' 'publishing' 'religion' 'science'\n",
      " 'sports-recreation' 'student' 'technology' 'transportation'\n",
      " 'unknown_industry' 'chemicals' 'construction' 'engineering'\n",
      " 'investmentbanking' 'military' 'museums-libraries' 'tourism'\n",
      " 'architecture' 'lawenforcement-security' 'realestate'\n",
      " 'telecommunications' 'agriculture' 'automotive' 'maritime']\n"
     ]
    }
   ],
   "source": [
    "print(corpus_df.labels.unique())"
   ]
  },
  {
   "cell_type": "code",
   "execution_count": 102,
   "id": "8e7d4268",
   "metadata": {},
   "outputs": [],
   "source": [
    "labels = corpus_df['Target']\n",
    "\n",
    "num_classes = 40\n",
    "labels_cat = keras.utils.to_categorical(np.array(labels), num_classes)"
   ]
  },
  {
   "cell_type": "code",
   "execution_count": 103,
   "id": "c2e0dd90",
   "metadata": {},
   "outputs": [],
   "source": [
    "maxlen = 750\n",
    "sequences = tokenizer.texts_to_sequences(corpus_df['text_new_tok'])\n",
    "data = pad_sequences(sequences, maxlen=maxlen)"
   ]
  },
  {
   "cell_type": "code",
   "execution_count": 104,
   "id": "5b66cdc7",
   "metadata": {},
   "outputs": [],
   "source": [
    "model_glove = Sequential()\n",
    "model_glove.add(Embedding(vocabulary_size, output_dim=300, input_length=maxlen, weights=[embedding_matrix], trainable=False))\n",
    "#model_glove.add(Dropout(0.2))\n",
    "#model_glove.add(Conv1D(64, 2, activation='relu')) \n",
    "model_glove.add(LSTM(64))\n",
    "model_glove.add(Dense(40, activation='softmax'))\n",
    "\n",
    "model_glove.compile(loss='categorical_crossentropy', optimizer='adam', metrics=['accuracy'])"
   ]
  },
  {
   "cell_type": "code",
   "execution_count": 105,
   "id": "fbb4d86f",
   "metadata": {},
   "outputs": [],
   "source": [
    "X_train, X_val, y_train, y_val = train_test_split(data, labels_cat, test_size=0.2, random_state=1)"
   ]
  },
  {
   "cell_type": "code",
   "execution_count": 106,
   "id": "d9cbefcf",
   "metadata": {},
   "outputs": [
    {
     "name": "stdout",
     "output_type": "stream",
     "text": [
      "Epoch 1/5\n",
      "231/231 - 52s - loss: 2.3015 - accuracy: 0.3790 - 52s/epoch - 226ms/step\n",
      "Epoch 2/5\n",
      "231/231 - 47s - loss: 2.1726 - accuracy: 0.3962 - 47s/epoch - 205ms/step\n",
      "Epoch 3/5\n",
      "231/231 - 47s - loss: 2.1277 - accuracy: 0.4088 - 47s/epoch - 205ms/step\n",
      "Epoch 4/5\n",
      "231/231 - 50s - loss: 2.0785 - accuracy: 0.4182 - 50s/epoch - 216ms/step\n",
      "Epoch 5/5\n",
      "231/231 - 53s - loss: 2.0259 - accuracy: 0.4241 - 53s/epoch - 228ms/step\n"
     ]
    },
    {
     "data": {
      "text/plain": [
       "<keras.callbacks.History at 0x197eca3d790>"
      ]
     },
     "execution_count": 106,
     "metadata": {},
     "output_type": "execute_result"
    }
   ],
   "source": [
    "# training the model\n",
    "model_glove.fit(X_train, y_train, epochs = 5, verbose=2)"
   ]
  },
  {
   "cell_type": "code",
   "execution_count": 107,
   "id": "e32a308a",
   "metadata": {},
   "outputs": [
    {
     "name": "stdout",
     "output_type": "stream",
     "text": [
      "58/58 [==============================] - 6s 103ms/step - loss: 2.2063 - accuracy: 0.3925\n"
     ]
    }
   ],
   "source": [
    "score, acc = model_glove.evaluate(X_val, y_val)"
   ]
  },
  {
   "cell_type": "code",
   "execution_count": 108,
   "id": "02158798",
   "metadata": {},
   "outputs": [
    {
     "name": "stdout",
     "output_type": "stream",
     "text": [
      "Test score: 2.206294298171997\n",
      "Test accuracy: 0.3925284147262573\n"
     ]
    }
   ],
   "source": [
    "print('Test score:', score)\n",
    "print('Test accuracy:', acc)"
   ]
  },
  {
   "cell_type": "markdown",
   "id": "bd2ca757",
   "metadata": {},
   "source": [
    "#### 5. Share insights on relative performance comparison"
   ]
  },
  {
   "cell_type": "markdown",
   "id": "6d446613",
   "metadata": {},
   "source": [
    "##### A. Which vectorizer performed better? Probable reason?\n",
    "##### B. Which model outperformed? Probable reason?"
   ]
  },
  {
   "cell_type": "markdown",
   "id": "d51392c9",
   "metadata": {},
   "source": [
    "- **CountVectorizer** gives us a vector with the number of times each word appears in the document. This leads to a few problems such as, common words like “a”,”the”,”and”,”an” etc will appear most of the time and other words that carry the topic information of our document will be less frequent. For instance if we are training a classifier to identify documents related to AI we don’t want it to learn words like “a” and “the” because they’ll be in every single document (both related to AI and not related documents). Furthermore the number of occurrences for these non topic bearing terms will be significantly higher than any other term. This will force them to have the highest weight in the model simply due to their high occurrence and will skew your model.\n",
    "\n",
    "\n",
    "- The way to combat problem of CountVectorizer is: **TF-IDF** - It balances out the term frequency (how often the word appears in the document) with its inverse document frequency (how often the term appears across all documents in the data set). This means that words like “a” and “the” will have very low scores as they’ll appear in all documents in your set. Rarer words like for instance “machine learning” will be very common in just a handful of documents which talk about computer science or AI. TF-IDF will give higher scores to these words and thus they’ll be the ones that the model identifies as important and tries to learn.\n",
    "\n",
    " **Cons of using TF-IDF** -\n",
    " \n",
    " a)It does not carry semantic meaning. It considers the importance of the words due to how it weighs them, but it cannot necessarily derive the contexts of the words and understand importance that way.\n",
    " \n",
    " b) Another disadvantage is that it can suffer from memory-inefficiency since TF-IDF can suffer from the curse of dimensionality.\n",
    " \n",
    " \n",
    "- **Word2Vec**  - The effectiveness of Word2Vec comes from its ability to group together vectors of similar words. Given a large enough dataset, Word2Vec can make strong estimates about a word’s meaning based on their occurrences in the text. These estimates yield word associations with other words in the corpus. For example, words like “King” and “Queen” would be very similar to one another.\n",
    "\n",
    "\n",
    "- **GloVe** - Word2Vec is a window-based method, in which the model relies on local information for generating word embeddings, which in turn is limited to the adjudged window size that we choose.This means that the semantics learned for a target word is only affected by its surrounding words in the original sentence, which is a somewhat inefficient use of statistics, as there’s a lot more information we can work with.GloVe on the other hand captures both global and local statistics in order to come up with the word embeddings.\n",
    "\n",
    "\n",
    "**Observation**: When we look into the accuracy/micro F1 scores of 3 vectorizer model, ***Word2Vec and Glove Model*** have similar (higher) accuracy %, while ***Countvectorizer*** gives lesser accuracy because of the above mentioned reason."
   ]
  },
  {
   "cell_type": "markdown",
   "id": "dd6067c5",
   "metadata": {},
   "source": [
    "##### C. Which parameter/hyperparameter significantly helped to improve performance?Probable reason?"
   ]
  },
  {
   "cell_type": "markdown",
   "id": "f0874a51",
   "metadata": {},
   "source": [
    "* 1) **Word2Vec method** - *(solver = 'liblinear', C=10, penalty = 'l2')*\n",
    "\n",
    "\n",
    "\n",
    "* 2) **Glove Embeddings vectorizer method** -  \n",
    "  - NUMBER OF UNITS IN A ***DENSE LAYER*** - Dense layers improve overall accuracy. *model_glove.add(Dense(40, ,,,,,)* \n",
    "  - ***Dropout***  - The dropout layer, as its name suggests, randomly drops a certain number of neurons in a layer.       *#model_glove.add(Dropout(0.2)) #did not helped significantly,hence commented.*\n",
    "  - ***Activation*** -  An activation function is a parameter in each layer,The activation function decides how to compute the input values of a layer into output values. The output values of a layer are then passed to the next layer as input values again.*model_glove.add(Dense(40, activation='softmax'))*\n",
    "  - The ***Optimizer*** is responsible to change the learning rate and weights of neurons in the neural network to reach the minimum loss function. Optimizer is very important to achieve the possible highest accuracy or minimum loss.*optimizer='adam'*"
   ]
  },
  {
   "cell_type": "markdown",
   "id": "faa1c7f9",
   "metadata": {},
   "source": [
    "##### D. According to you, which performance metric should be given most importance, why?"
   ]
  },
  {
   "cell_type": "markdown",
   "id": "d104085c",
   "metadata": {},
   "source": [
    "* The **accuracy** obtained on the test data is quite low compared to the train data although the train test split was done in a stratified manner. This might be the result of big variation in the test and train data. \n",
    "\n",
    "* **Micro-average method** - Sum up the individual true positives, false positives, and false negatives of the system for different sets and apply them to get the statistics.\n",
    "\n",
    "* **Macro-average Method** - The method is straight forward. Just take the average of the precision and recall of the system on different sets.\n",
    "\n",
    "* Micro-averaged precision and micro-averaged recall are both equal to the accuracy when each data point is assigned to exactly one class\n",
    "\n",
    "* In general, if we are working with an imbalanced dataset where all classes are equally important, using the **macro average** would be a good choice as it treats all classes equally. (**macro-F1 score**)\n",
    "\n",
    "* Suppose you have a balanced dataset and want an easily understandable metric for overall performance regardless of the class. In that case, you can go with **accuracy**, which is essentially our **micro F1 score**.\n",
    "* i.e.,If we care about overall data not prefer any class, ‘micro’ is just fine. However, let’s say, class A is rare, but it’s way important, ‘macro’ should be a better choice because it treats each class equally. ‘micro’ is better if we care more about the accuracy overall. ‘micro’ is closer to ‘accuracy’, while ‘macro’ is a bit different when it’s not dominated by prevalent class. \n",
    "\n",
    "* In our case, since we have balanced (stratified) the population data we can give importance to **accuracy/micro F1 Score**\n",
    "\n",
    "NOTE : Here we have only used 7% of the total data while maintaining the imbalance due to less availabilty of computational resources."
   ]
  },
  {
   "cell_type": "markdown",
   "id": "703f15a7",
   "metadata": {},
   "source": [
    "-------------"
   ]
  },
  {
   "cell_type": "markdown",
   "id": "e5c3a334",
   "metadata": {},
   "source": [
    "# Part B"
   ]
  },
  {
   "cell_type": "markdown",
   "id": "685706e9",
   "metadata": {},
   "source": [
    "• **DOMAIN**: Customer support\n",
    "\n",
    "• **CONTEXT**: Great Learning has a an academic support department which receives numerous support requests every day throughout the year.Teams are spread across geographies and try to provide support round the year. Sometimes there are circumstances where due to heavy workload certain request resolutions are delayed, impacting company’s business. Some of the requests are very generic where a proper resolution procedure delivered to the user can solve the problem. Company is looking forward to design an automation which can interact with the user, understand the problem and display the resolution procedure [ if found as a generic request ] or redirect the request to an actual human\n",
    "support executive if the request is complex or not in it’s database.\n",
    "\n",
    "• **DATA DESCRIPTION**: A sample corpus is attached for your reference. Please enhance/add more data to the corpus using your linguistics skills.\n",
    "\n",
    "• **PROJECT OBJECTIVE**: Design a python based interactive semi - rule based chatbot which can do the following:\n",
    "\n",
    "1. Start chat session with greetings and ask what the user is looking for.\n",
    "2. Accept dynamic text based questions from the user. Reply back with relevant answer from the designed corpus.\n",
    "3. End the chat session only if the user requests to end else ask what the user is looking for. Loop continues till the user asks to end it."
   ]
  },
  {
   "cell_type": "code",
   "execution_count": 109,
   "id": "0a2f7d67",
   "metadata": {},
   "outputs": [],
   "source": [
    "with open(\"D:/Nikhila/PGP - AIML/2. Projects/9. Natural Language Processing/Project 1/GL Bot.json\") as file:\n",
    "    data = json.load(file)"
   ]
  },
  {
   "cell_type": "code",
   "execution_count": 110,
   "id": "32e26109",
   "metadata": {},
   "outputs": [
    {
     "name": "stdout",
     "output_type": "stream",
     "text": [
      "{'intents': [{'tag': 'Intro', 'patterns': ['hi', 'how are you', 'is anyone there', 'hello', 'whats up', 'hey', 'yo', 'listen', 'please help me', 'i am learner from', 'i belong to', 'aiml batch', 'aifl batch', 'i am from', 'my pm is', 'blended', 'online', 'i am from', 'hey ya', 'talking to you for first time'], 'responses': ['Hello! how can i help you ?'], 'context_set': ''}, {'tag': 'Exit', 'patterns': ['thank you', 'thanks', 'cya', 'see you', 'later', 'see you later', 'goodbye', 'i am leaving', 'have a Good day', 'you helped me', 'thanks a lot', 'thanks a ton', 'you are the best', 'great help', 'too good', 'you are a good learning buddy'], 'responses': ['I hope I was able to assist you, Good Bye'], 'context_set': ''}, {'tag': 'Olympus', 'patterns': ['olympus', 'explain me how olympus works', 'I am not able to understand olympus', 'olympus window not working', 'no access to olympus', 'unable to see link in olympus', 'no link visible on olympus', 'whom to contact for olympus', 'lot of problem with olympus', 'olypus is not a good tool', 'lot of problems with olympus', 'how to use olympus', 'teach me olympus'], 'responses': ['Link: Olympus wiki'], 'context_set': ''}, {'tag': 'SL', 'patterns': ['i am not able to understand svm', 'explain me how machine learning works', 'i am not able to understand naive bayes', 'i am not able to understand logistic regression', 'i am not able to understand ensemble techb=niques', 'i am not able to understand knn', 'i am not able to understand knn imputer', 'i am not able to understand cross validation', 'i am not able to understand boosting', 'i am not able to understand random forest', 'i am not able to understand ada boosting', 'i am not able to understand gradient boosting', 'machine learning', 'ML', 'SL', 'supervised learning', 'knn', 'logistic regression', 'regression', 'classification', 'naive bayes', 'nb', 'ensemble techniques', 'bagging', 'boosting', 'ada boosting', 'ada', 'gradient boosting', 'hyper parameters'], 'responses': ['Link: Machine Learning wiki '], 'context_set': ''}, {'tag': 'NN', 'patterns': ['what is deep learning', 'unable to understand deep learning', 'explain me how deep learning works', 'i am not able to understand deep learning', 'not able to understand neural nets', 'very diffult to understand neural nets', 'unable to understand neural nets', 'ann', 'artificial intelligence', 'artificial neural networks', 'weights', 'activation function', 'hidden layers', 'softmax', 'sigmoid', 'relu', 'otimizer', 'forward propagation', 'backward propagation', 'epochs', 'epoch', 'what is an epoch', 'adam', 'sgd'], 'responses': ['Link: Neural Nets wiki'], 'context_set': ''}, {'tag': 'Bot', 'patterns': ['what is your name', 'who are you', 'name please', 'when are your hours of opertions', 'what are your working hours', 'hours of operation', 'working hours', 'hours'], 'responses': ['I am your virtual learning assistant'], 'context_set': ''}, {'tag': 'Profane', 'patterns': ['what the hell', 'bloody stupid bot', 'do you think you are very smart', 'screw you', 'i hate you', 'you are stupid', 'jerk', 'you are a joke', 'useless piece of shit'], 'responses': ['Please use respectful words'], 'context_set': ''}, {'tag': 'Ticket', 'patterns': ['my problem is not solved', 'you did not help me', 'not a good solution', 'bad solution', 'not good solution', 'no help', 'wasted my time', 'useless bot', 'create a ticket'], 'responses': ['Tarnsferring the request to your PM'], 'context_set': ''}]}\n"
     ]
    }
   ],
   "source": [
    "#Display corpus\n",
    "print(data)"
   ]
  },
  {
   "cell_type": "markdown",
   "id": "dc932917",
   "metadata": {},
   "source": [
    "#### Enhance/add more data to the corpus using your linguistics skills."
   ]
  },
  {
   "cell_type": "code",
   "execution_count": 111,
   "id": "a125aa51",
   "metadata": {},
   "outputs": [],
   "source": [
    "# initializing lemmatizer to get stem of words\n",
    "lemmatizer = WordNetLemmatizer()\n",
    "# Each list to create\n",
    "words = []\n",
    "classes = []\n",
    "doc_X = []\n",
    "doc_y = []\n",
    "# Loop through all the intents\n",
    "# tokenize each pattern and append tokens to words, the patterns and\n",
    "# the associated tag to their associated list\n",
    "for intent in data[\"intents\"]:\n",
    "    for pattern in intent[\"patterns\"]:\n",
    "        tokens = nltk.word_tokenize(pattern)\n",
    "        words.extend(tokens)\n",
    "        doc_X.append(pattern)\n",
    "        doc_y.append(intent[\"tag\"])\n",
    "    \n",
    "    # add the tag to the classes if it's not there already \n",
    "    if intent[\"tag\"] not in classes:\n",
    "        classes.append(intent[\"tag\"])\n",
    "# lemmatize all the words in the vocab and convert them to lowercase\n",
    "# if the words don't appear in punctuation\n",
    "words = [lemmatizer.lemmatize(word.lower()) for word in words if word not in string.punctuation]\n",
    "# sorting the vocab and classes in alphabetical order and taking the # set to ensure no duplicates occur\n",
    "words = sorted(set(words))\n",
    "classes = sorted(set(classes))"
   ]
  },
  {
   "cell_type": "code",
   "execution_count": 112,
   "id": "539f2d91",
   "metadata": {},
   "outputs": [
    {
     "name": "stdout",
     "output_type": "stream",
     "text": [
      "Words:\n",
      " ['a', 'able', 'access', 'activation', 'ada', 'adam', 'aifl', 'aiml', 'am', 'an', 'ann', 'anyone', 'are', 'artificial', 'backward', 'bad', 'bagging', 'batch', 'bayes', 'belong', 'best', 'blended', 'bloody', 'boosting', 'bot', 'buddy', 'classification', 'contact', 'create', 'cross', 'cya', 'day', 'deep', 'did', 'diffult', 'do', 'ensemble', 'epoch', 'explain', 'first', 'for', 'forest', 'forward', 'from', 'function', 'good', 'goodbye', 'gradient', 'great', 'hate', 'have', 'hell', 'hello', 'help', 'helped', 'hey', 'hi', 'hidden', 'hour', 'how', 'hyper', 'i', 'imputer', 'in', 'intelligence', 'is', 'jerk', 'joke', 'knn', 'later', 'layer', 'learner', 'learning', 'leaving', 'link', 'listen', 'logistic', 'lot', 'machine', 'me', 'ml', 'my', 'naive', 'name', 'nb', 'net', 'network', 'neural', 'no', 'not', 'of', 'olympus', 'olypus', 'on', 'online', 'operation', 'opertions', 'otimizer', 'parameter', 'piece', 'please', 'pm', 'problem', 'propagation', 'random', 'regression', 'relu', 'screw', 'see', 'sgd', 'shit', 'sigmoid', 'sl', 'smart', 'softmax', 'solution', 'solved', 'stupid', 'supervised', 'svm', 'talking', 'teach', 'techb=niques', 'technique', 'thank', 'thanks', 'the', 'there', 'think', 'ticket', 'time', 'to', 'ton', 'too', 'tool', 'unable', 'understand', 'up', 'use', 'useless', 'validation', 'very', 'visible', 'wasted', 'weight', 'what', 'whats', 'when', 'who', 'whom', 'window', 'with', 'work', 'working', 'ya', 'yo', 'you', 'your']\n"
     ]
    }
   ],
   "source": [
    "print(\"Words:\\n\", words)"
   ]
  },
  {
   "cell_type": "code",
   "execution_count": 113,
   "id": "e446d515",
   "metadata": {},
   "outputs": [
    {
     "name": "stdout",
     "output_type": "stream",
     "text": [
      "Labels:\n",
      " ['Bot', 'Exit', 'Intro', 'NN', 'Olympus', 'Profane', 'SL', 'Ticket']\n"
     ]
    }
   ],
   "source": [
    "print(\"Labels:\\n\", classes)"
   ]
  },
  {
   "cell_type": "code",
   "execution_count": 114,
   "id": "03d5da05",
   "metadata": {},
   "outputs": [
    {
     "name": "stdout",
     "output_type": "stream",
     "text": [
      "['hi', 'how are you', 'is anyone there', 'hello', 'whats up', 'hey', 'yo', 'listen', 'please help me', 'i am learner from', 'i belong to', 'aiml batch', 'aifl batch', 'i am from', 'my pm is', 'blended', 'online', 'i am from', 'hey ya', 'talking to you for first time', 'thank you', 'thanks', 'cya', 'see you', 'later', 'see you later', 'goodbye', 'i am leaving', 'have a Good day', 'you helped me', 'thanks a lot', 'thanks a ton', 'you are the best', 'great help', 'too good', 'you are a good learning buddy', 'olympus', 'explain me how olympus works', 'I am not able to understand olympus', 'olympus window not working', 'no access to olympus', 'unable to see link in olympus', 'no link visible on olympus', 'whom to contact for olympus', 'lot of problem with olympus', 'olypus is not a good tool', 'lot of problems with olympus', 'how to use olympus', 'teach me olympus', 'i am not able to understand svm', 'explain me how machine learning works', 'i am not able to understand naive bayes', 'i am not able to understand logistic regression', 'i am not able to understand ensemble techb=niques', 'i am not able to understand knn', 'i am not able to understand knn imputer', 'i am not able to understand cross validation', 'i am not able to understand boosting', 'i am not able to understand random forest', 'i am not able to understand ada boosting', 'i am not able to understand gradient boosting', 'machine learning', 'ML', 'SL', 'supervised learning', 'knn', 'logistic regression', 'regression', 'classification', 'naive bayes', 'nb', 'ensemble techniques', 'bagging', 'boosting', 'ada boosting', 'ada', 'gradient boosting', 'hyper parameters', 'what is deep learning', 'unable to understand deep learning', 'explain me how deep learning works', 'i am not able to understand deep learning', 'not able to understand neural nets', 'very diffult to understand neural nets', 'unable to understand neural nets', 'ann', 'artificial intelligence', 'artificial neural networks', 'weights', 'activation function', 'hidden layers', 'softmax', 'sigmoid', 'relu', 'otimizer', 'forward propagation', 'backward propagation', 'epochs', 'epoch', 'what is an epoch', 'adam', 'sgd', 'what is your name', 'who are you', 'name please', 'when are your hours of opertions', 'what are your working hours', 'hours of operation', 'working hours', 'hours', 'what the hell', 'bloody stupid bot', 'do you think you are very smart', 'screw you', 'i hate you', 'you are stupid', 'jerk', 'you are a joke', 'useless piece of shit', 'my problem is not solved', 'you did not help me', 'not a good solution', 'bad solution', 'not good solution', 'no help', 'wasted my time', 'useless bot', 'create a ticket']\n"
     ]
    }
   ],
   "source": [
    "print(doc_X)"
   ]
  },
  {
   "cell_type": "code",
   "execution_count": 115,
   "id": "ae3e76fb",
   "metadata": {},
   "outputs": [
    {
     "name": "stdout",
     "output_type": "stream",
     "text": [
      "['Intro', 'Intro', 'Intro', 'Intro', 'Intro', 'Intro', 'Intro', 'Intro', 'Intro', 'Intro', 'Intro', 'Intro', 'Intro', 'Intro', 'Intro', 'Intro', 'Intro', 'Intro', 'Intro', 'Intro', 'Exit', 'Exit', 'Exit', 'Exit', 'Exit', 'Exit', 'Exit', 'Exit', 'Exit', 'Exit', 'Exit', 'Exit', 'Exit', 'Exit', 'Exit', 'Exit', 'Olympus', 'Olympus', 'Olympus', 'Olympus', 'Olympus', 'Olympus', 'Olympus', 'Olympus', 'Olympus', 'Olympus', 'Olympus', 'Olympus', 'Olympus', 'SL', 'SL', 'SL', 'SL', 'SL', 'SL', 'SL', 'SL', 'SL', 'SL', 'SL', 'SL', 'SL', 'SL', 'SL', 'SL', 'SL', 'SL', 'SL', 'SL', 'SL', 'SL', 'SL', 'SL', 'SL', 'SL', 'SL', 'SL', 'SL', 'NN', 'NN', 'NN', 'NN', 'NN', 'NN', 'NN', 'NN', 'NN', 'NN', 'NN', 'NN', 'NN', 'NN', 'NN', 'NN', 'NN', 'NN', 'NN', 'NN', 'NN', 'NN', 'NN', 'NN', 'Bot', 'Bot', 'Bot', 'Bot', 'Bot', 'Bot', 'Bot', 'Bot', 'Profane', 'Profane', 'Profane', 'Profane', 'Profane', 'Profane', 'Profane', 'Profane', 'Profane', 'Ticket', 'Ticket', 'Ticket', 'Ticket', 'Ticket', 'Ticket', 'Ticket', 'Ticket', 'Ticket']\n"
     ]
    }
   ],
   "source": [
    "print(doc_y)"
   ]
  },
  {
   "cell_type": "code",
   "execution_count": 116,
   "id": "50797433",
   "metadata": {},
   "outputs": [],
   "source": [
    "# list for training data\n",
    "training = []\n",
    "out_empty = [0] * len(classes)\n",
    "# creating the bag of words model\n",
    "for idx, doc in enumerate(doc_X):\n",
    "    bow = []\n",
    "    text = lemmatizer.lemmatize(doc.lower())\n",
    "    for word in words:\n",
    "        bow.append(1) if word in text else bow.append(0)\n",
    "    # mark the index of class that the current pattern is associated\n",
    "    # to\n",
    "    output_row = list(out_empty)\n",
    "    output_row[classes.index(doc_y[idx])] = 1\n",
    "    # add the one hot encoded BoW and associated classes to training \n",
    "    training.append([bow, output_row])\n",
    "# shuffle the data and convert it to an array\n",
    "random.shuffle(training)\n",
    "training = np.array(training, dtype=object)\n",
    "# split the features and target labels\n",
    "train_X = np.array(list(training[:, 0]))\n",
    "train_y = np.array(list(training[:, 1]))# list for training data\n",
    "training = []\n",
    "out_empty = [0] * len(classes)\n",
    "# creating the bag of words model\n",
    "for idx, doc in enumerate(doc_X):\n",
    "    bow = []\n",
    "    text = lemmatizer.lemmatize(doc.lower())\n",
    "    for word in words:\n",
    "        bow.append(1) if word in text else bow.append(0)\n",
    "    # mark the index of class that the current pattern is associated to\n",
    "    output_row = list(out_empty)\n",
    "    output_row[classes.index(doc_y[idx])] = 1\n",
    "    # add the one hot encoded BoW and associated classes to training \n",
    "    training.append([bow, output_row])\n",
    "# shuffle the data and convert it to an array\n",
    "random.shuffle(training)\n",
    "training = np.array(training, dtype=object)\n",
    "# split the features and target labels\n",
    "train_X = np.array(list(training[:, 0]))\n",
    "train_y = np.array(list(training[:, 1]))"
   ]
  },
  {
   "cell_type": "code",
   "execution_count": 117,
   "id": "61dc6d47",
   "metadata": {
    "scrolled": false
   },
   "outputs": [
    {
     "name": "stdout",
     "output_type": "stream",
     "text": [
      "Model: \"sequential\"\n",
      "_________________________________________________________________\n",
      " Layer (type)                Output Shape              Param #   \n",
      "=================================================================\n",
      " dense (Dense)               (None, 128)               20352     \n",
      "                                                                 \n",
      " dropout (Dropout)           (None, 128)               0         \n",
      "                                                                 \n",
      " dense_1 (Dense)             (None, 64)                8256      \n",
      "                                                                 \n",
      " dropout_1 (Dropout)         (None, 64)                0         \n",
      "                                                                 \n",
      " dense_2 (Dense)             (None, 8)                 520       \n",
      "                                                                 \n",
      "=================================================================\n",
      "Total params: 29,128\n",
      "Trainable params: 29,128\n",
      "Non-trainable params: 0\n",
      "_________________________________________________________________\n",
      "None\n",
      "Epoch 1/200\n",
      "4/4 [==============================] - 0s 2ms/step - loss: 2.0307 - accuracy: 0.2031\n",
      "Epoch 2/200\n",
      "4/4 [==============================] - 0s 2ms/step - loss: 1.8220 - accuracy: 0.3281\n",
      "Epoch 3/200\n",
      "4/4 [==============================] - 0s 2ms/step - loss: 1.5127 - accuracy: 0.5234\n",
      "Epoch 4/200\n",
      "4/4 [==============================] - 0s 2ms/step - loss: 1.2806 - accuracy: 0.6172\n",
      "Epoch 5/200\n",
      "4/4 [==============================] - 0s 2ms/step - loss: 0.9446 - accuracy: 0.7266\n",
      "Epoch 6/200\n",
      "4/4 [==============================] - 0s 2ms/step - loss: 0.7920 - accuracy: 0.7578\n",
      "Epoch 7/200\n",
      "4/4 [==============================] - 0s 2ms/step - loss: 0.5548 - accuracy: 0.8672\n",
      "Epoch 8/200\n",
      "4/4 [==============================] - 0s 2ms/step - loss: 0.5029 - accuracy: 0.8359\n",
      "Epoch 9/200\n",
      "4/4 [==============================] - 0s 2ms/step - loss: 0.3904 - accuracy: 0.8672\n",
      "Epoch 10/200\n",
      "4/4 [==============================] - 0s 2ms/step - loss: 0.2185 - accuracy: 0.9531\n",
      "Epoch 11/200\n",
      "4/4 [==============================] - 0s 2ms/step - loss: 0.1944 - accuracy: 0.9375\n",
      "Epoch 12/200\n",
      "4/4 [==============================] - 0s 2ms/step - loss: 0.2370 - accuracy: 0.8906\n",
      "Epoch 13/200\n",
      "4/4 [==============================] - 0s 2ms/step - loss: 0.1012 - accuracy: 0.9688\n",
      "Epoch 14/200\n",
      "4/4 [==============================] - 0s 2ms/step - loss: 0.1656 - accuracy: 0.9453\n",
      "Epoch 15/200\n",
      "4/4 [==============================] - 0s 2ms/step - loss: 0.1367 - accuracy: 0.9531\n",
      "Epoch 16/200\n",
      "4/4 [==============================] - 0s 2ms/step - loss: 0.1178 - accuracy: 0.9609\n",
      "Epoch 17/200\n",
      "4/4 [==============================] - 0s 2ms/step - loss: 0.0631 - accuracy: 0.9688\n",
      "Epoch 18/200\n",
      "4/4 [==============================] - 0s 2ms/step - loss: 0.0568 - accuracy: 0.9922\n",
      "Epoch 19/200\n",
      "4/4 [==============================] - 0s 2ms/step - loss: 0.0903 - accuracy: 0.9844\n",
      "Epoch 20/200\n",
      "4/4 [==============================] - 0s 2ms/step - loss: 0.0239 - accuracy: 1.0000\n",
      "Epoch 21/200\n",
      "4/4 [==============================] - 0s 2ms/step - loss: 0.1289 - accuracy: 0.9688\n",
      "Epoch 22/200\n",
      "4/4 [==============================] - 0s 2ms/step - loss: 0.0282 - accuracy: 0.9922\n",
      "Epoch 23/200\n",
      "4/4 [==============================] - 0s 2ms/step - loss: 0.0251 - accuracy: 1.0000\n",
      "Epoch 24/200\n",
      "4/4 [==============================] - 0s 2ms/step - loss: 0.0321 - accuracy: 0.9844\n",
      "Epoch 25/200\n",
      "4/4 [==============================] - 0s 2ms/step - loss: 0.0539 - accuracy: 0.9688\n",
      "Epoch 26/200\n",
      "4/4 [==============================] - 0s 2ms/step - loss: 0.0212 - accuracy: 0.9922\n",
      "Epoch 27/200\n",
      "4/4 [==============================] - 0s 2ms/step - loss: 0.0144 - accuracy: 1.0000\n",
      "Epoch 28/200\n",
      "4/4 [==============================] - 0s 2ms/step - loss: 0.0398 - accuracy: 0.9922\n",
      "Epoch 29/200\n",
      "4/4 [==============================] - 0s 2ms/step - loss: 0.0403 - accuracy: 0.9922\n",
      "Epoch 30/200\n",
      "4/4 [==============================] - 0s 2ms/step - loss: 0.0267 - accuracy: 0.9922\n",
      "Epoch 31/200\n",
      "4/4 [==============================] - 0s 2ms/step - loss: 0.0181 - accuracy: 1.0000\n",
      "Epoch 32/200\n",
      "4/4 [==============================] - 0s 2ms/step - loss: 0.0139 - accuracy: 1.0000\n",
      "Epoch 33/200\n",
      "4/4 [==============================] - 0s 2ms/step - loss: 0.0106 - accuracy: 1.0000\n",
      "Epoch 34/200\n",
      "4/4 [==============================] - 0s 2ms/step - loss: 0.0088 - accuracy: 1.0000\n",
      "Epoch 35/200\n",
      "4/4 [==============================] - 0s 2ms/step - loss: 0.0229 - accuracy: 1.0000\n",
      "Epoch 36/200\n",
      "4/4 [==============================] - 0s 2ms/step - loss: 0.0127 - accuracy: 1.0000\n",
      "Epoch 37/200\n",
      "4/4 [==============================] - 0s 2ms/step - loss: 0.0071 - accuracy: 1.0000\n",
      "Epoch 38/200\n",
      "4/4 [==============================] - 0s 2ms/step - loss: 0.0031 - accuracy: 1.0000\n",
      "Epoch 39/200\n",
      "4/4 [==============================] - 0s 2ms/step - loss: 0.0040 - accuracy: 1.0000\n",
      "Epoch 40/200\n",
      "4/4 [==============================] - 0s 2ms/step - loss: 0.0112 - accuracy: 1.0000\n",
      "Epoch 41/200\n",
      "4/4 [==============================] - 0s 2ms/step - loss: 0.0046 - accuracy: 1.0000\n",
      "Epoch 42/200\n",
      "4/4 [==============================] - 0s 2ms/step - loss: 0.0280 - accuracy: 0.9922\n",
      "Epoch 43/200\n",
      "4/4 [==============================] - 0s 2ms/step - loss: 0.0089 - accuracy: 1.0000\n",
      "Epoch 44/200\n",
      "4/4 [==============================] - 0s 2ms/step - loss: 0.0132 - accuracy: 0.9922\n",
      "Epoch 45/200\n",
      "4/4 [==============================] - 0s 2ms/step - loss: 0.0099 - accuracy: 1.0000\n",
      "Epoch 46/200\n",
      "4/4 [==============================] - 0s 2ms/step - loss: 0.0123 - accuracy: 0.9922\n",
      "Epoch 47/200\n",
      "4/4 [==============================] - 0s 2ms/step - loss: 0.0043 - accuracy: 1.0000\n",
      "Epoch 48/200\n",
      "4/4 [==============================] - 0s 2ms/step - loss: 0.0108 - accuracy: 1.0000\n",
      "Epoch 49/200\n",
      "4/4 [==============================] - 0s 2ms/step - loss: 0.0175 - accuracy: 0.9922\n",
      "Epoch 50/200\n",
      "4/4 [==============================] - 0s 2ms/step - loss: 0.0202 - accuracy: 1.0000\n",
      "Epoch 51/200\n",
      "4/4 [==============================] - 0s 2ms/step - loss: 0.0184 - accuracy: 0.9922\n",
      "Epoch 52/200\n",
      "4/4 [==============================] - 0s 2ms/step - loss: 0.0032 - accuracy: 1.0000\n",
      "Epoch 53/200\n",
      "4/4 [==============================] - 0s 2ms/step - loss: 0.0077 - accuracy: 1.0000\n",
      "Epoch 54/200\n",
      "4/4 [==============================] - 0s 2ms/step - loss: 0.0188 - accuracy: 0.9922\n",
      "Epoch 55/200\n",
      "4/4 [==============================] - 0s 2ms/step - loss: 0.0239 - accuracy: 0.9844\n",
      "Epoch 56/200\n",
      "4/4 [==============================] - 0s 2ms/step - loss: 0.0192 - accuracy: 0.9922\n",
      "Epoch 57/200\n",
      "4/4 [==============================] - 0s 2ms/step - loss: 0.0155 - accuracy: 0.9922\n",
      "Epoch 58/200\n",
      "4/4 [==============================] - 0s 2ms/step - loss: 0.0113 - accuracy: 0.9922\n",
      "Epoch 59/200\n",
      "4/4 [==============================] - 0s 2ms/step - loss: 0.0144 - accuracy: 0.9922\n",
      "Epoch 60/200\n",
      "4/4 [==============================] - 0s 2ms/step - loss: 0.0213 - accuracy: 0.9922\n",
      "Epoch 61/200\n",
      "4/4 [==============================] - 0s 2ms/step - loss: 0.0233 - accuracy: 0.9922\n",
      "Epoch 62/200\n",
      "4/4 [==============================] - 0s 2ms/step - loss: 0.0126 - accuracy: 1.0000\n",
      "Epoch 63/200\n",
      "4/4 [==============================] - 0s 2ms/step - loss: 0.0547 - accuracy: 0.9844\n",
      "Epoch 64/200\n",
      "4/4 [==============================] - 0s 2ms/step - loss: 0.0184 - accuracy: 0.9922\n",
      "Epoch 65/200\n",
      "4/4 [==============================] - 0s 2ms/step - loss: 0.0052 - accuracy: 1.0000\n",
      "Epoch 66/200\n",
      "4/4 [==============================] - 0s 2ms/step - loss: 0.0110 - accuracy: 1.0000\n",
      "Epoch 67/200\n",
      "4/4 [==============================] - 0s 2ms/step - loss: 0.0299 - accuracy: 0.9922\n",
      "Epoch 68/200\n",
      "4/4 [==============================] - 0s 2ms/step - loss: 0.0273 - accuracy: 0.9922\n",
      "Epoch 69/200\n",
      "4/4 [==============================] - 0s 2ms/step - loss: 0.0152 - accuracy: 0.9922\n",
      "Epoch 70/200\n",
      "4/4 [==============================] - 0s 2ms/step - loss: 0.0116 - accuracy: 1.0000\n",
      "Epoch 71/200\n",
      "4/4 [==============================] - 0s 2ms/step - loss: 0.0122 - accuracy: 1.0000\n",
      "Epoch 72/200\n",
      "4/4 [==============================] - 0s 2ms/step - loss: 0.0034 - accuracy: 1.0000\n",
      "Epoch 73/200\n",
      "4/4 [==============================] - 0s 2ms/step - loss: 0.0059 - accuracy: 1.0000\n",
      "Epoch 74/200\n",
      "4/4 [==============================] - 0s 2ms/step - loss: 0.0020 - accuracy: 1.0000\n",
      "Epoch 75/200\n",
      "4/4 [==============================] - 0s 2ms/step - loss: 0.0040 - accuracy: 1.0000\n",
      "Epoch 76/200\n",
      "4/4 [==============================] - 0s 2ms/step - loss: 0.0122 - accuracy: 0.9922\n",
      "Epoch 77/200\n",
      "4/4 [==============================] - 0s 2ms/step - loss: 0.0285 - accuracy: 0.9922\n",
      "Epoch 78/200\n",
      "4/4 [==============================] - 0s 2ms/step - loss: 0.0021 - accuracy: 1.0000\n",
      "Epoch 79/200\n",
      "4/4 [==============================] - 0s 2ms/step - loss: 0.0378 - accuracy: 0.9922\n",
      "Epoch 80/200\n",
      "4/4 [==============================] - 0s 2ms/step - loss: 0.0047 - accuracy: 1.0000\n",
      "Epoch 81/200\n",
      "4/4 [==============================] - 0s 2ms/step - loss: 0.0071 - accuracy: 1.0000\n",
      "Epoch 82/200\n",
      "4/4 [==============================] - 0s 2ms/step - loss: 0.0093 - accuracy: 1.0000\n",
      "Epoch 83/200\n",
      "4/4 [==============================] - 0s 2ms/step - loss: 0.0100 - accuracy: 0.9922\n",
      "Epoch 84/200\n",
      "4/4 [==============================] - 0s 2ms/step - loss: 5.2010e-04 - accuracy: 1.0000\n",
      "Epoch 85/200\n",
      "4/4 [==============================] - 0s 2ms/step - loss: 0.0578 - accuracy: 0.9844\n",
      "Epoch 86/200\n",
      "4/4 [==============================] - 0s 2ms/step - loss: 0.0123 - accuracy: 0.9922\n",
      "Epoch 87/200\n",
      "4/4 [==============================] - 0s 2ms/step - loss: 0.0168 - accuracy: 0.9922\n",
      "Epoch 88/200\n",
      "4/4 [==============================] - 0s 2ms/step - loss: 0.0279 - accuracy: 0.9844\n",
      "Epoch 89/200\n",
      "4/4 [==============================] - 0s 2ms/step - loss: 0.0033 - accuracy: 1.0000\n",
      "Epoch 90/200\n",
      "4/4 [==============================] - 0s 2ms/step - loss: 0.0219 - accuracy: 0.9922\n",
      "Epoch 91/200\n",
      "4/4 [==============================] - 0s 2ms/step - loss: 0.0035 - accuracy: 1.0000\n",
      "Epoch 92/200\n",
      "4/4 [==============================] - 0s 2ms/step - loss: 0.0309 - accuracy: 0.9844\n",
      "Epoch 93/200\n",
      "4/4 [==============================] - 0s 2ms/step - loss: 0.0330 - accuracy: 0.9922\n",
      "Epoch 94/200\n",
      "4/4 [==============================] - 0s 2ms/step - loss: 0.0042 - accuracy: 1.0000\n",
      "Epoch 95/200\n",
      "4/4 [==============================] - 0s 2ms/step - loss: 0.0683 - accuracy: 0.9922\n",
      "Epoch 96/200\n",
      "4/4 [==============================] - 0s 2ms/step - loss: 0.0347 - accuracy: 0.9844\n",
      "Epoch 97/200\n",
      "4/4 [==============================] - 0s 2ms/step - loss: 0.0286 - accuracy: 0.9922\n",
      "Epoch 98/200\n",
      "4/4 [==============================] - 0s 2ms/step - loss: 0.0584 - accuracy: 0.9766\n",
      "Epoch 99/200\n",
      "4/4 [==============================] - 0s 2ms/step - loss: 0.0077 - accuracy: 1.0000\n",
      "Epoch 100/200\n",
      "4/4 [==============================] - 0s 2ms/step - loss: 0.0477 - accuracy: 0.9688\n",
      "Epoch 101/200\n",
      "4/4 [==============================] - 0s 2ms/step - loss: 0.0068 - accuracy: 1.0000\n",
      "Epoch 102/200\n",
      "4/4 [==============================] - 0s 2ms/step - loss: 0.0087 - accuracy: 0.9922\n",
      "Epoch 103/200\n",
      "4/4 [==============================] - 0s 2ms/step - loss: 0.0592 - accuracy: 0.9844\n",
      "Epoch 104/200\n",
      "4/4 [==============================] - 0s 2ms/step - loss: 0.0094 - accuracy: 1.0000\n",
      "Epoch 105/200\n",
      "4/4 [==============================] - 0s 2ms/step - loss: 0.0985 - accuracy: 0.9844\n",
      "Epoch 106/200\n",
      "4/4 [==============================] - 0s 2ms/step - loss: 0.0015 - accuracy: 1.0000\n",
      "Epoch 107/200\n",
      "4/4 [==============================] - 0s 2ms/step - loss: 0.0017 - accuracy: 1.0000\n",
      "Epoch 108/200\n",
      "4/4 [==============================] - 0s 2ms/step - loss: 0.0245 - accuracy: 0.9922\n",
      "Epoch 109/200\n",
      "4/4 [==============================] - 0s 2ms/step - loss: 0.0220 - accuracy: 0.9844\n",
      "Epoch 110/200\n",
      "4/4 [==============================] - 0s 2ms/step - loss: 0.0626 - accuracy: 0.9844\n",
      "Epoch 111/200\n",
      "4/4 [==============================] - 0s 2ms/step - loss: 0.0058 - accuracy: 1.0000\n",
      "Epoch 112/200\n",
      "4/4 [==============================] - 0s 2ms/step - loss: 0.0162 - accuracy: 0.9922\n",
      "Epoch 113/200\n",
      "4/4 [==============================] - 0s 2ms/step - loss: 0.0417 - accuracy: 0.9844\n",
      "Epoch 114/200\n",
      "4/4 [==============================] - 0s 2ms/step - loss: 0.0238 - accuracy: 0.9922\n",
      "Epoch 115/200\n",
      "4/4 [==============================] - 0s 2ms/step - loss: 0.0292 - accuracy: 0.9922\n",
      "Epoch 116/200\n",
      "4/4 [==============================] - 0s 2ms/step - loss: 0.0021 - accuracy: 1.0000\n",
      "Epoch 117/200\n",
      "4/4 [==============================] - 0s 2ms/step - loss: 0.0043 - accuracy: 1.0000\n",
      "Epoch 118/200\n",
      "4/4 [==============================] - 0s 2ms/step - loss: 0.0094 - accuracy: 1.0000\n",
      "Epoch 119/200\n",
      "4/4 [==============================] - 0s 2ms/step - loss: 0.0011 - accuracy: 1.0000\n",
      "Epoch 120/200\n",
      "4/4 [==============================] - 0s 2ms/step - loss: 0.0050 - accuracy: 1.0000\n",
      "Epoch 121/200\n",
      "4/4 [==============================] - 0s 2ms/step - loss: 0.0110 - accuracy: 1.0000\n",
      "Epoch 122/200\n",
      "4/4 [==============================] - 0s 2ms/step - loss: 0.0028 - accuracy: 1.0000\n",
      "Epoch 123/200\n",
      "4/4 [==============================] - 0s 2ms/step - loss: 0.0151 - accuracy: 0.9922\n",
      "Epoch 124/200\n",
      "4/4 [==============================] - 0s 1ms/step - loss: 0.0115 - accuracy: 0.9922\n",
      "Epoch 125/200\n",
      "4/4 [==============================] - 0s 2ms/step - loss: 0.0105 - accuracy: 0.9922\n",
      "Epoch 126/200\n",
      "4/4 [==============================] - 0s 2ms/step - loss: 0.0024 - accuracy: 1.0000\n",
      "Epoch 127/200\n",
      "4/4 [==============================] - 0s 2ms/step - loss: 4.9642e-04 - accuracy: 1.0000\n",
      "Epoch 128/200\n",
      "4/4 [==============================] - 0s 2ms/step - loss: 7.8765e-04 - accuracy: 1.0000\n",
      "Epoch 129/200\n",
      "4/4 [==============================] - 0s 3ms/step - loss: 0.0304 - accuracy: 0.9844\n",
      "Epoch 130/200\n",
      "4/4 [==============================] - 0s 2ms/step - loss: 0.0074 - accuracy: 1.0000\n",
      "Epoch 131/200\n",
      "4/4 [==============================] - 0s 2ms/step - loss: 7.8911e-04 - accuracy: 1.0000\n",
      "Epoch 132/200\n",
      "4/4 [==============================] - 0s 2ms/step - loss: 0.0015 - accuracy: 1.0000\n",
      "Epoch 133/200\n",
      "4/4 [==============================] - 0s 2ms/step - loss: 0.0029 - accuracy: 1.0000\n",
      "Epoch 134/200\n",
      "4/4 [==============================] - 0s 2ms/step - loss: 0.0013 - accuracy: 1.0000\n",
      "Epoch 135/200\n",
      "4/4 [==============================] - 0s 2ms/step - loss: 0.0020 - accuracy: 1.0000\n",
      "Epoch 136/200\n",
      "4/4 [==============================] - 0s 2ms/step - loss: 0.0040 - accuracy: 1.0000\n",
      "Epoch 137/200\n",
      "4/4 [==============================] - 0s 2ms/step - loss: 9.3676e-04 - accuracy: 1.0000\n",
      "Epoch 138/200\n",
      "4/4 [==============================] - 0s 2ms/step - loss: 0.0021 - accuracy: 1.0000\n",
      "Epoch 139/200\n",
      "4/4 [==============================] - 0s 1ms/step - loss: 8.9941e-04 - accuracy: 1.0000\n",
      "Epoch 140/200\n",
      "4/4 [==============================] - 0s 2ms/step - loss: 0.0166 - accuracy: 0.9922\n",
      "Epoch 141/200\n",
      "4/4 [==============================] - 0s 2ms/step - loss: 0.0237 - accuracy: 0.9922\n",
      "Epoch 142/200\n",
      "4/4 [==============================] - 0s 2ms/step - loss: 8.9154e-05 - accuracy: 1.0000\n",
      "Epoch 143/200\n",
      "4/4 [==============================] - 0s 2ms/step - loss: 2.9186e-04 - accuracy: 1.0000\n",
      "Epoch 144/200\n",
      "4/4 [==============================] - 0s 2ms/step - loss: 8.6058e-04 - accuracy: 1.0000\n",
      "Epoch 145/200\n",
      "4/4 [==============================] - 0s 2ms/step - loss: 0.0022 - accuracy: 1.0000\n",
      "Epoch 146/200\n",
      "4/4 [==============================] - 0s 2ms/step - loss: 1.0265e-04 - accuracy: 1.0000\n",
      "Epoch 147/200\n",
      "4/4 [==============================] - 0s 2ms/step - loss: 0.0013 - accuracy: 1.0000\n",
      "Epoch 148/200\n",
      "4/4 [==============================] - 0s 2ms/step - loss: 0.0106 - accuracy: 0.9922\n",
      "Epoch 149/200\n",
      "4/4 [==============================] - 0s 2ms/step - loss: 0.0022 - accuracy: 1.0000\n",
      "Epoch 150/200\n",
      "4/4 [==============================] - 0s 2ms/step - loss: 0.0030 - accuracy: 1.0000\n",
      "Epoch 151/200\n",
      "4/4 [==============================] - 0s 2ms/step - loss: 8.7040e-04 - accuracy: 1.0000\n",
      "Epoch 152/200\n",
      "4/4 [==============================] - 0s 2ms/step - loss: 0.0031 - accuracy: 1.0000\n",
      "Epoch 153/200\n",
      "4/4 [==============================] - 0s 2ms/step - loss: 6.5230e-05 - accuracy: 1.0000\n",
      "Epoch 154/200\n",
      "4/4 [==============================] - 0s 2ms/step - loss: 0.1145 - accuracy: 0.9922\n",
      "Epoch 155/200\n",
      "4/4 [==============================] - 0s 2ms/step - loss: 4.2271e-04 - accuracy: 1.0000\n",
      "Epoch 156/200\n",
      "4/4 [==============================] - 0s 2ms/step - loss: 0.0024 - accuracy: 1.0000\n",
      "Epoch 157/200\n",
      "4/4 [==============================] - 0s 2ms/step - loss: 0.0026 - accuracy: 1.0000\n",
      "Epoch 158/200\n",
      "4/4 [==============================] - 0s 2ms/step - loss: 0.0989 - accuracy: 0.9922\n",
      "Epoch 159/200\n",
      "4/4 [==============================] - 0s 2ms/step - loss: 0.0068 - accuracy: 1.0000\n",
      "Epoch 160/200\n",
      "4/4 [==============================] - 0s 2ms/step - loss: 0.0026 - accuracy: 1.0000\n",
      "Epoch 161/200\n",
      "4/4 [==============================] - 0s 2ms/step - loss: 0.0158 - accuracy: 0.9922\n",
      "Epoch 162/200\n",
      "4/4 [==============================] - 0s 2ms/step - loss: 0.0011 - accuracy: 1.0000\n",
      "Epoch 163/200\n",
      "4/4 [==============================] - 0s 2ms/step - loss: 0.0057 - accuracy: 1.0000\n",
      "Epoch 164/200\n",
      "4/4 [==============================] - 0s 2ms/step - loss: 0.0071 - accuracy: 0.9922\n",
      "Epoch 165/200\n",
      "4/4 [==============================] - 0s 2ms/step - loss: 0.0040 - accuracy: 1.0000\n",
      "Epoch 166/200\n",
      "4/4 [==============================] - 0s 2ms/step - loss: 0.0131 - accuracy: 0.9922\n",
      "Epoch 167/200\n",
      "4/4 [==============================] - 0s 2ms/step - loss: 0.0301 - accuracy: 0.9844\n",
      "Epoch 168/200\n",
      "4/4 [==============================] - 0s 2ms/step - loss: 0.0079 - accuracy: 0.9922\n",
      "Epoch 169/200\n",
      "4/4 [==============================] - 0s 2ms/step - loss: 9.4086e-04 - accuracy: 1.0000\n",
      "Epoch 170/200\n",
      "4/4 [==============================] - 0s 2ms/step - loss: 0.0054 - accuracy: 1.0000\n",
      "Epoch 171/200\n",
      "4/4 [==============================] - 0s 2ms/step - loss: 4.4378e-04 - accuracy: 1.0000\n",
      "Epoch 172/200\n",
      "4/4 [==============================] - 0s 2ms/step - loss: 0.0040 - accuracy: 1.0000\n",
      "Epoch 173/200\n",
      "4/4 [==============================] - 0s 2ms/step - loss: 0.0040 - accuracy: 1.0000\n",
      "Epoch 174/200\n",
      "4/4 [==============================] - 0s 2ms/step - loss: 0.0020 - accuracy: 1.0000\n",
      "Epoch 175/200\n",
      "4/4 [==============================] - 0s 2ms/step - loss: 0.0018 - accuracy: 1.0000\n",
      "Epoch 176/200\n",
      "4/4 [==============================] - 0s 2ms/step - loss: 0.0033 - accuracy: 1.0000\n",
      "Epoch 177/200\n",
      "4/4 [==============================] - 0s 2ms/step - loss: 1.8353e-04 - accuracy: 1.0000\n",
      "Epoch 178/200\n",
      "4/4 [==============================] - 0s 2ms/step - loss: 9.1787e-04 - accuracy: 1.0000\n",
      "Epoch 179/200\n",
      "4/4 [==============================] - 0s 2ms/step - loss: 3.3676e-04 - accuracy: 1.0000\n",
      "Epoch 180/200\n",
      "4/4 [==============================] - 0s 2ms/step - loss: 0.0083 - accuracy: 1.0000\n",
      "Epoch 181/200\n",
      "4/4 [==============================] - 0s 1ms/step - loss: 2.0829e-04 - accuracy: 1.0000\n",
      "Epoch 182/200\n",
      "4/4 [==============================] - 0s 2ms/step - loss: 0.0041 - accuracy: 1.0000\n",
      "Epoch 183/200\n",
      "4/4 [==============================] - 0s 2ms/step - loss: 8.5535e-04 - accuracy: 1.0000\n",
      "Epoch 184/200\n",
      "4/4 [==============================] - 0s 2ms/step - loss: 0.0019 - accuracy: 1.0000\n",
      "Epoch 185/200\n",
      "4/4 [==============================] - 0s 2ms/step - loss: 0.0022 - accuracy: 1.0000\n",
      "Epoch 186/200\n",
      "4/4 [==============================] - 0s 2ms/step - loss: 0.0010 - accuracy: 1.0000\n",
      "Epoch 187/200\n",
      "4/4 [==============================] - 0s 2ms/step - loss: 7.3360e-04 - accuracy: 1.0000\n",
      "Epoch 188/200\n",
      "4/4 [==============================] - 0s 2ms/step - loss: 0.0023 - accuracy: 1.0000\n",
      "Epoch 189/200\n",
      "4/4 [==============================] - 0s 2ms/step - loss: 0.0208 - accuracy: 0.9922\n",
      "Epoch 190/200\n",
      "4/4 [==============================] - 0s 2ms/step - loss: 0.0022 - accuracy: 1.0000\n",
      "Epoch 191/200\n",
      "4/4 [==============================] - 0s 2ms/step - loss: 3.2291e-04 - accuracy: 1.0000\n",
      "Epoch 192/200\n",
      "4/4 [==============================] - 0s 2ms/step - loss: 8.7058e-04 - accuracy: 1.0000\n",
      "Epoch 193/200\n",
      "4/4 [==============================] - 0s 2ms/step - loss: 1.6140e-04 - accuracy: 1.0000\n",
      "Epoch 194/200\n",
      "4/4 [==============================] - 0s 2ms/step - loss: 1.5095e-04 - accuracy: 1.0000\n",
      "Epoch 195/200\n",
      "4/4 [==============================] - 0s 2ms/step - loss: 2.2147e-04 - accuracy: 1.0000\n",
      "Epoch 196/200\n",
      "4/4 [==============================] - 0s 2ms/step - loss: 0.0251 - accuracy: 0.9922\n",
      "Epoch 197/200\n",
      "4/4 [==============================] - 0s 2ms/step - loss: 0.0171 - accuracy: 0.9922\n",
      "Epoch 198/200\n",
      "4/4 [==============================] - 0s 2ms/step - loss: 6.2665e-04 - accuracy: 1.0000\n",
      "Epoch 199/200\n",
      "4/4 [==============================] - 0s 2ms/step - loss: 0.0153 - accuracy: 0.9844\n",
      "Epoch 200/200\n",
      "4/4 [==============================] - 0s 2ms/step - loss: 5.2418e-04 - accuracy: 1.0000\n"
     ]
    },
    {
     "data": {
      "text/plain": [
       "<keras.callbacks.History at 0x1965a2d12b0>"
      ]
     },
     "execution_count": 117,
     "metadata": {},
     "output_type": "execute_result"
    }
   ],
   "source": [
    "# defining some parameters\n",
    "input_shape = (len(train_X[0]),)\n",
    "output_shape = len(train_y[0])\n",
    "epochs = 200\n",
    "\n",
    "#Clear any existing model in memory\n",
    "tf.keras.backend.clear_session()\n",
    "\n",
    "# the deep learning model\n",
    "\n",
    "#Initialize model\n",
    "model = Sequential()\n",
    "\n",
    "# Input layer \n",
    "model.add(Dense(128, input_shape=input_shape, activation=\"relu\"))\n",
    "model.add(Dropout(0.5))\n",
    "model.add(Dense(64, activation=\"relu\"))\n",
    "model.add(Dropout(0.3))\n",
    "\n",
    "#Output layer\n",
    "model.add(Dense(output_shape, activation = \"softmax\"))\n",
    "\n",
    "#Defining optimizer\n",
    "adam = tf.keras.optimizers.Adam(learning_rate=0.01, decay=1e-6)\n",
    "#Configuring the model for training\n",
    "model.compile(loss='categorical_crossentropy',\n",
    "              optimizer=adam,\n",
    "              metrics=[\"accuracy\"])\n",
    "\n",
    "# Model summary\n",
    "print(model.summary())\n",
    "\n",
    "# Training the model\n",
    "model.fit(x=train_X, y=train_y, epochs=200, verbose=1)"
   ]
  },
  {
   "cell_type": "code",
   "execution_count": 118,
   "id": "8f97157c",
   "metadata": {},
   "outputs": [],
   "source": [
    "#Functions for Chatbot Sessions\n",
    "def clean_text(text): \n",
    "  tokens = nltk.word_tokenize(text)\n",
    "  tokens = [lemmatizer.lemmatize(word) for word in tokens]\n",
    "  return tokens\n",
    "\n",
    "def bag_of_words(text, vocab): \n",
    "  tokens = clean_text(text)\n",
    "  bow = [0] * len(vocab)\n",
    "  for w in tokens: \n",
    "    for idx, word in enumerate(vocab):\n",
    "      if word == w: \n",
    "        bow[idx] = 1\n",
    "  return np.array(bow)\n",
    "\n",
    "def pred_class(text, vocab, labels): \n",
    "  bow = bag_of_words(text, vocab)\n",
    "  result = model.predict(np.array([bow]))[0]\n",
    "  thresh = 0.2\n",
    "  y_pred = [[idx, res] for idx, res in enumerate(result) if res > thresh]\n",
    "\n",
    "  y_pred.sort(key=lambda x: x[1], reverse=True)\n",
    "  return_list = []\n",
    "  for r in y_pred:\n",
    "    return_list.append(labels[r[0]])\n",
    "  return return_list\n",
    "\n",
    "def get_response(intents_list, intents_json): \n",
    "  tag = intents_list[0]\n",
    "  list_of_intents = intents_json[\"intents\"]\n",
    "  for i in list_of_intents: \n",
    "    if i[\"tag\"] == tag:\n",
    "      result = random.choice(i[\"responses\"])\n",
    "      break\n",
    "  return result"
   ]
  },
  {
   "cell_type": "code",
   "execution_count": 119,
   "id": "0dcbdf20",
   "metadata": {},
   "outputs": [
    {
     "name": "stdout",
     "output_type": "stream",
     "text": [
      "BOT : Chat with the bot[Type 'quit' to stop] !\n",
      "\n",
      "BOT : If answer is not  right[Type '*'] !\n",
      "\n",
      "\n",
      "You: Hello\n",
      "1/1 [==============================] - 0s 64ms/step\n",
      "\n",
      "BOT :  Hello! how can i help you ?\n",
      "\n",
      "\n",
      "You: I am form AIML batch\n",
      "1/1 [==============================] - 0s 28ms/step\n",
      "\n",
      "BOT :  Hello! how can i help you ?\n",
      "\n",
      "\n",
      "You: how to use olympus?\n",
      "1/1 [==============================] - 0s 14ms/step\n",
      "\n",
      "BOT :  Link: Olympus wiki\n",
      "\n",
      "\n",
      "You: who are you?\n",
      "1/1 [==============================] - 0s 14ms/step\n",
      "\n",
      "BOT :  I am your virtual learning assistant\n",
      "\n",
      "\n",
      "You: what is ML?\n",
      "1/1 [==============================] - 0s 14ms/step\n",
      "\n",
      "BOT :  Hello! how can i help you ?\n",
      "\n",
      "\n",
      "You: What is Machine Learning?\n",
      "1/1 [==============================] - 0s 7ms/step\n",
      "\n",
      "BOT :  Hello! how can i help you ?\n",
      "\n",
      "\n",
      "You: what is supervised learning\n",
      "1/1 [==============================] - 0s 14ms/step\n",
      "\n",
      "BOT :  Link: Machine Learning wiki \n",
      "\n",
      "\n",
      "You: neural network module\n",
      "1/1 [==============================] - 0s 14ms/step\n",
      "\n",
      "BOT :  Link: Neural Nets wiki\n",
      "\n",
      "\n",
      "You: what is DL?\n",
      "1/1 [==============================] - 0s 14ms/step\n",
      "\n",
      "BOT :  Hello! how can i help you ?\n",
      "\n",
      "\n",
      "You: What the hell\n",
      "1/1 [==============================] - 0s 13ms/step\n",
      "\n",
      "BOT :  Please use respectful words\n",
      "\n",
      "\n",
      "You: this was not helpful\n",
      "1/1 [==============================] - 0s 15ms/step\n",
      "\n",
      "BOT :  Tarnsferring the request to your PM\n",
      "\n",
      "\n",
      "You: thanks, bye\n",
      "1/1 [==============================] - 0s 15ms/step\n",
      "\n",
      "BOT :  I hope I was able to assist you, Good Bye\n",
      "\n",
      "\n",
      "You: quit\n"
     ]
    }
   ],
   "source": [
    "# Running the chatbot\n",
    "print(\"BOT : Chat with the bot[Type 'quit' to stop] !\")\n",
    "print(\"\\nBOT : If answer is not  right[Type '*'] !\")\n",
    "while True:\n",
    "  #Reading Input\n",
    "  message = input(\"\\n\\nYou: \")\n",
    "  #Correcting chat\n",
    "  if message.lower() == \"*\":\n",
    "    print(\"\\nBOT:Please rephrase your question and try again\")\n",
    "  #Stopping Chat\n",
    "  if message.lower() == \"quit\":\n",
    "    break\n",
    "  #Predicting and printing response  \n",
    "  intents = pred_class(message, words, classes)\n",
    "  result = get_response(intents, data)\n",
    "  print(\"\\nBOT : \", result)"
   ]
  },
  {
   "cell_type": "code",
   "execution_count": null,
   "id": "dd06f1b0",
   "metadata": {},
   "outputs": [],
   "source": []
  }
 ],
 "metadata": {
  "kernelspec": {
   "display_name": "Python 3 (ipykernel)",
   "language": "python",
   "name": "python3"
  },
  "language_info": {
   "codemirror_mode": {
    "name": "ipython",
    "version": 3
   },
   "file_extension": ".py",
   "mimetype": "text/x-python",
   "name": "python",
   "nbconvert_exporter": "python",
   "pygments_lexer": "ipython3",
   "version": "3.9.12"
  }
 },
 "nbformat": 4,
 "nbformat_minor": 5
}
