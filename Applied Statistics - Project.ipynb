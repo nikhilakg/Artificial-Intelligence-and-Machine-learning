{
 "cells": [
  {
   "cell_type": "code",
   "execution_count": 1,
   "id": "f8d7cd96",
   "metadata": {},
   "outputs": [],
   "source": [
    "#Import necessary libraries\n",
    "import numpy as np\n",
    "import pandas as pd\n",
    "import matplotlib.pyplot as plt\n",
    "import seaborn as sns\n",
    "import scipy.stats as stats\n",
    "import warnings\n",
    "warnings.filterwarnings(\"ignore\")"
   ]
  },
  {
   "cell_type": "markdown",
   "id": "9bcf5fc8",
   "metadata": {},
   "source": [
    "# Part A"
   ]
  },
  {
   "cell_type": "markdown",
   "id": "b989da7b",
   "metadata": {},
   "source": [
    "|Planned to purchase product A||Actually placed order for Product A - Yes||Actually placed order for Product A - No||Total|\n",
    "|-----------------------------||-----------------------------------------||----------------------------------------||-----|\n",
    "|            Yes              ||                 400                     ||                   100                  || 500 |\n",
    "|            No               ||                 200                     ||                  1300                  ||1500 |\n",
    "|           Total             ||                 600                     ||                  1400                  ||2000 |"
   ]
  },
  {
   "cell_type": "markdown",
   "id": "eeba698b",
   "metadata": {},
   "source": [
    "#### 1.A. The joint probability of the people who planned to purchase and actually placed an order."
   ]
  },
  {
   "cell_type": "code",
   "execution_count": 2,
   "id": "7a3fa937",
   "metadata": {},
   "outputs": [
    {
     "name": "stdout",
     "output_type": "stream",
     "text": [
      "Planned to purchase product A and actually placed order for Product A - Yes = 400\n",
      "Total = 2000\n",
      "\n",
      "Conclusion - The joint probability of the people who planned to purchase and actually placed an order: 0.2\n"
     ]
    }
   ],
   "source": [
    "print(\"Planned to purchase product A and actually placed order for Product A - Yes = 400\")\n",
    "print(\"Total = 2000\")\n",
    "\n",
    "print()\n",
    "    \n",
    "print(\"Conclusion - The joint probability of the people who planned to purchase and actually placed an order:\",(400/2000))"
   ]
  },
  {
   "cell_type": "markdown",
   "id": "e7771664",
   "metadata": {},
   "source": [
    "#### 1.B. The joint probability of the people who planned to purchase and actually placed an order, given that people planned to purchase."
   ]
  },
  {
   "cell_type": "code",
   "execution_count": 3,
   "id": "38b79819",
   "metadata": {},
   "outputs": [
    {
     "name": "stdout",
     "output_type": "stream",
     "text": [
      "Planned to purchase product A and actually placed order for Product A - Yes = 400\n",
      "Planned to purchase product A = 500\n",
      "Total = 2000\n",
      "\n",
      "Conclusion - The joint probability of the people who planned to purchase and actually placed an order,given that people planned to purchase: 0.8\n"
     ]
    }
   ],
   "source": [
    "print(\"Planned to purchase product A and actually placed order for Product A - Yes = 400\")\n",
    "print(\"Planned to purchase product A = 500\")\n",
    "print(\"Total = 2000\")\n",
    "\n",
    "print()\n",
    "\n",
    "jp = ((400/2000)/(500/2000))\n",
    "\n",
    "print(\"Conclusion - The joint probability of the people who planned to purchase and actually placed an order,given that people planned to purchase:\",jp)"
   ]
  },
  {
   "cell_type": "markdown",
   "id": "249996cc",
   "metadata": {},
   "source": [
    "-----"
   ]
  },
  {
   "cell_type": "markdown",
   "id": "0f0a049e",
   "metadata": {},
   "source": [
    "#### 2. An electrical manufacturing company conducts quality checks at specified periods on the products it manufactures. Historically, the failure rate for the manufactured item is 5%. Suppose a random sample of 10 manufactured items is selected. Answer the following questions."
   ]
  },
  {
   "cell_type": "code",
   "execution_count": 4,
   "id": "8dbd4f3d",
   "metadata": {},
   "outputs": [
    {
     "name": "stdout",
     "output_type": "stream",
     "text": [
      "This is an example of Binomial Distribution\n",
      "Sample size(n) = 10\n",
      "Failure rate(p) = 0.05\n"
     ]
    },
    {
     "data": {
      "text/plain": [
       "array([ 0,  1,  2,  3,  4,  5,  6,  7,  8,  9, 10])"
      ]
     },
     "execution_count": 4,
     "metadata": {},
     "output_type": "execute_result"
    }
   ],
   "source": [
    "#Given\n",
    "\n",
    "print(\"This is an example of Binomial Distribution\")\n",
    "\n",
    "n=10\n",
    "print(\"Sample size(n) = 10\")\n",
    "\n",
    "p=0.05\n",
    "print(\"Failure rate(p) = 0.05\")\n",
    "\n",
    "k=np.arange(0,11)\n",
    "k"
   ]
  },
  {
   "cell_type": "markdown",
   "id": "42eede22",
   "metadata": {},
   "source": [
    "#### 2.A. Probability that none of the items are defective?"
   ]
  },
  {
   "cell_type": "code",
   "execution_count": 5,
   "id": "9c499f4f",
   "metadata": {},
   "outputs": [
    {
     "name": "stdout",
     "output_type": "stream",
     "text": [
      "Conclusion - Probability that none of the items are defective: 0.5987369392383789\n"
     ]
    }
   ],
   "source": [
    "binomial_dist = stats.binom.pmf(k,n,p)\n",
    "print(\"Conclusion - Probability that none of the items are defective:\", binomial_dist[0])"
   ]
  },
  {
   "cell_type": "markdown",
   "id": "6860064e",
   "metadata": {},
   "source": [
    "#### 2.B. Probability that exactly one of the items is defective?"
   ]
  },
  {
   "cell_type": "code",
   "execution_count": 6,
   "id": "8e8a6bd9",
   "metadata": {},
   "outputs": [
    {
     "name": "stdout",
     "output_type": "stream",
     "text": [
      "Conclusion - Probability that exactly one of the items is defective: 0.31512470486230504\n"
     ]
    }
   ],
   "source": [
    "binomial_dist = stats.binom.pmf(k,n,p)\n",
    "print(\"Conclusion - Probability that exactly one of the items is defective:\", binomial_dist[1])"
   ]
  },
  {
   "cell_type": "markdown",
   "id": "3a43c717",
   "metadata": {},
   "source": [
    "#### 2.C. Probability that two or fewer of the items are defective?"
   ]
  },
  {
   "cell_type": "code",
   "execution_count": 7,
   "id": "0f0e3497",
   "metadata": {},
   "outputs": [
    {
     "name": "stdout",
     "output_type": "stream",
     "text": [
      "Conclusion - Probability that two or fewer of the items are defective: 0.9884964426207035\n"
     ]
    }
   ],
   "source": [
    "bd = binomial_dist[0]+binomial_dist[1]+binomial_dist[2]\n",
    "print(\"Conclusion - Probability that two or fewer of the items are defective:\",bd)"
   ]
  },
  {
   "cell_type": "markdown",
   "id": "328b646c",
   "metadata": {},
   "source": [
    "#### 2.D. Probability that three or more of the items are defective ?"
   ]
  },
  {
   "cell_type": "code",
   "execution_count": 8,
   "id": "d8c37742",
   "metadata": {},
   "outputs": [
    {
     "name": "stdout",
     "output_type": "stream",
     "text": [
      "Conclusion - Probability that three or more of the items are defective: 0.011503557379296536\n"
     ]
    }
   ],
   "source": [
    "bd = binomial_dist[0]+binomial_dist[1]+binomial_dist[2]\n",
    "\n",
    "bd1 = 1 - bd\n",
    "bd1\n",
    "\n",
    "print(\"Conclusion - Probability that three or more of the items are defective:\",bd1)"
   ]
  },
  {
   "cell_type": "markdown",
   "id": "0194640f",
   "metadata": {},
   "source": [
    "-----"
   ]
  },
  {
   "cell_type": "markdown",
   "id": "a0714599",
   "metadata": {},
   "source": [
    "#### 3. A car salesman sells on an average 3 cars per week."
   ]
  },
  {
   "cell_type": "code",
   "execution_count": 9,
   "id": "a99c9ea3",
   "metadata": {},
   "outputs": [
    {
     "name": "stdout",
     "output_type": "stream",
     "text": [
      "This is an example of Poisson Distribution\n",
      "cars sold/week (rate) = 3\n"
     ]
    },
    {
     "data": {
      "text/plain": [
       "array([ 0,  1,  2,  3,  4,  5,  6,  7,  8,  9, 10, 11, 12, 13, 14, 15, 16,\n",
       "       17, 18, 19, 20])"
      ]
     },
     "execution_count": 9,
     "metadata": {},
     "output_type": "execute_result"
    }
   ],
   "source": [
    "#Given\n",
    "\n",
    "print(\"This is an example of Poisson Distribution\")\n",
    "\n",
    "rate=3\n",
    "print(\"cars sold/week (rate) = 3\")\n",
    "\n",
    "n = np.arange(0,21)\n",
    "n"
   ]
  },
  {
   "cell_type": "markdown",
   "id": "8dc34431",
   "metadata": {},
   "source": [
    "#### 3.A. What is Probability that in a given week he will sell some cars?"
   ]
  },
  {
   "cell_type": "code",
   "execution_count": 10,
   "id": "f6792dd4",
   "metadata": {},
   "outputs": [
    {
     "name": "stdout",
     "output_type": "stream",
     "text": [
      "Conclusion - Probability that in a given week he will sell some cars: 0.950212931632136\n"
     ]
    }
   ],
   "source": [
    "poisson_dist = stats.poisson.pmf(n,rate)\n",
    "\n",
    "#Probability that he will sell atleast 1 car\n",
    "pois_dist = 1 - poisson_dist[0]\n",
    "print(\"Conclusion - Probability that in a given week he will sell some cars:\",pois_dist)"
   ]
  },
  {
   "cell_type": "markdown",
   "id": "f3cb092c",
   "metadata": {},
   "source": [
    "#### 3.B. What is Probability that in a given week he will sell 2 or more but less than 5 cars?"
   ]
  },
  {
   "cell_type": "code",
   "execution_count": 11,
   "id": "541d19bb",
   "metadata": {},
   "outputs": [
    {
     "name": "stdout",
     "output_type": "stream",
     "text": [
      "Conclusion - Probability that in a given week he will sell 2 or more but less than 5 cars: 0.6161149710523164\n"
     ]
    }
   ],
   "source": [
    "pd1 = poisson_dist[2]+poisson_dist[3]+poisson_dist[4]\n",
    "print(\"Conclusion - Probability that in a given week he will sell 2 or more but less than 5 cars:\", pd1)"
   ]
  },
  {
   "cell_type": "markdown",
   "id": "59d7d48a",
   "metadata": {},
   "source": [
    "#### 3.C. Plot the poisson distribution function for cumulative probability of cars sold per-week vs number of cars sold per week."
   ]
  },
  {
   "cell_type": "code",
   "execution_count": 12,
   "id": "2640f83e",
   "metadata": {},
   "outputs": [
    {
     "data": {
      "image/png": "[encoded data removed]",
      "text/plain": [
       "<Figure size 432x288 with 1 Axes>"
      ]
     },
     "metadata": {
      "needs_background": "light"
     },
     "output_type": "display_data"
    }
   ],
   "source": [
    "plt.plot(n,poisson_dist,'o-')\n",
    "plt.title(\"Poisson Distribution\")\n",
    "plt.xlabel(\"Number of cars sold per week\")\n",
    "plt.ylabel(\"Cumulative probability of cars sold per-week\")\n",
    "plt.show()"
   ]
  },
  {
   "cell_type": "markdown",
   "id": "de373a96",
   "metadata": {},
   "source": [
    "-----"
   ]
  },
  {
   "cell_type": "markdown",
   "id": "63fcd034",
   "metadata": {},
   "source": [
    "#### 4. Accuracy in understanding orders for a speech based bot at a restaurant is important for the Company X which has designed, marketed and launched the product for a contactless delivery due to the COVID-19 pandemic. Recognition accuracy that measures the percentage of orders that are taken correctly is 86.8%. Suppose that you place an order with the bot and two friends of yours independently place orders with the same bot. Answer the following questions."
   ]
  },
  {
   "cell_type": "code",
   "execution_count": 13,
   "id": "06830722",
   "metadata": {},
   "outputs": [
    {
     "name": "stdout",
     "output_type": "stream",
     "text": [
      "This is an example of Binomial Distribution\n",
      "Accuracy rate (p) = 0.868\n",
      "Sample size (n) = 3\n"
     ]
    },
    {
     "data": {
      "text/plain": [
       "array([0, 1, 2, 3])"
      ]
     },
     "execution_count": 13,
     "metadata": {},
     "output_type": "execute_result"
    }
   ],
   "source": [
    "#Given\n",
    "\n",
    "print(\"This is an example of Binomial Distribution\")\n",
    "\n",
    "p=0.868\n",
    "print(\"Accuracy rate (p) = 0.868\")\n",
    "\n",
    "n=3\n",
    "print(\"Sample size (n) = 3\")\n",
    "\n",
    "k=np.arange(0,4)\n",
    "k"
   ]
  },
  {
   "cell_type": "markdown",
   "id": "562081a5",
   "metadata": {},
   "source": [
    "#### 4.A. What is the probability that all three orders will be recognised correctly?"
   ]
  },
  {
   "cell_type": "code",
   "execution_count": 14,
   "id": "a3968c6c",
   "metadata": {},
   "outputs": [
    {
     "name": "stdout",
     "output_type": "stream",
     "text": [
      "Conclusion - probability that all three orders will be recognised correctly: 0.653972032\n"
     ]
    }
   ],
   "source": [
    "binomial_dist1 = stats.binom.pmf(k,n,p)\n",
    "print(\"Conclusion - probability that all three orders will be recognised correctly:\",binomial_dist1[3] )"
   ]
  },
  {
   "cell_type": "markdown",
   "id": "373ea2ff",
   "metadata": {},
   "source": [
    "#### 4.B. What is the probability that none of the three orders will be recognised correctly?"
   ]
  },
  {
   "cell_type": "code",
   "execution_count": 15,
   "id": "ea5435b0",
   "metadata": {},
   "outputs": [
    {
     "name": "stdout",
     "output_type": "stream",
     "text": [
      "Conclusion - probability that all three orders will be recognised correctly: 0.002299968\n"
     ]
    }
   ],
   "source": [
    "binomial_dist1 = stats.binom.pmf(k,n,p)\n",
    "print(\"Conclusion - probability that all three orders will be recognised correctly:\",binomial_dist1[0] )"
   ]
  },
  {
   "cell_type": "markdown",
   "id": "2e06dcc6",
   "metadata": {},
   "source": [
    "#### 4.C. What is the probability that at least two of the three orders will be recognised correctly?"
   ]
  },
  {
   "cell_type": "code",
   "execution_count": 16,
   "id": "bb04cbf4",
   "metadata": {},
   "outputs": [
    {
     "name": "stdout",
     "output_type": "stream",
     "text": [
      "Conclusion - probability that all three orders will be recognised correctly: 0.9523279359999999\n"
     ]
    }
   ],
   "source": [
    "binomial_dist1 = stats.binom.pmf(k,n,p)\n",
    "print(\"Conclusion - probability that all three orders will be recognised correctly:\",binomial_dist1[2] + binomial_dist1[3] )"
   ]
  },
  {
   "cell_type": "markdown",
   "id": "00e5694d",
   "metadata": {},
   "source": [
    "------"
   ]
  },
  {
   "cell_type": "markdown",
   "id": "10ce41d5",
   "metadata": {},
   "source": [
    "#### 5. Explain 1 real life industry scenario (other than the ones mentioned above) where you can use the concepts of Applied Statistics to get data driven business solution."
   ]
  },
  {
   "cell_type": "markdown",
   "id": "36b6e6ed",
   "metadata": {},
   "source": [
    "Example of real life Industry scenario where Applied statistics concept could be used to get data driven business solution - **Healthcare Industry**\n",
    "\n",
    "One of such examples could be to understand the spread of COVID-19 in India and the effective use of Vaccinations.\n",
    "\n",
    "1. Daily number of positive cases/state & Understanding the **distribution** of positive cases state-wise\n",
    "2. Death/postive case & Recovered/positive case.\n",
    "3. Understanding the **correlation** between increase in positive cases with other variables.\n",
    "4. Vaccination requirements - \n",
    " -  Number/Average of people who are fully vaccinated\n",
    " -  Number/Average of people who are partially vaccinated\n",
    "5. Time taken for Variant type to spread **(measure of spread)** -\n",
    " - Omicron\n",
    " - Delta\n",
    "6. Hospitalization -\n",
    " - People who require hospitalization(ICU) (This helps healthcare industry to prepare in advance)\n",
    " \n",
    "Particular to Healthcare Equipment Manufacturer,\n",
    "The above data could be used to understand the requirements of - \n",
    "1. CT Machines\n",
    "2. MR Machines\n",
    "3. Anaesthesia Machines\n",
    "4. Respiratory Machines\n",
    "5. Oxygen suppliers \n"
   ]
  },
  {
   "cell_type": "markdown",
   "id": "39c25ba5",
   "metadata": {},
   "source": [
    "------"
   ]
  },
  {
   "cell_type": "markdown",
   "id": "03124462",
   "metadata": {},
   "source": [
    "# Part B"
   ]
  },
  {
   "cell_type": "markdown",
   "id": "f5a6eeee",
   "metadata": {},
   "source": [
    "• **DOMAIN**: Sports\n",
    "\n",
    "• **CONTEXT**: Company X manages the men's top professional basketball division of the American league system. The dataset contains information on all the teams that have participated in all the past tournaments. It has data about how many baskets each team scored, conceded, how many times they came within the first 2 positions, how many tournaments they have qualified, their best position in the past, etc.\n",
    "\n",
    "• **DATA DESCRIPTION**: Basketball.csv - The data set contains information on all the teams so far participated in all the past tournaments.\n",
    "\n",
    "• **DATA DICTIONARY**:\n",
    "1. **Team**: Team’s name\n",
    "2. **Tournament**: Number of played tournaments.\n",
    "3. **Score**: Team’s score so far.\n",
    "4. **PlayedGames**: Games played by the team so far.\n",
    "5. **WonGames**: Games won by the team so far.\n",
    "6. **DrawnGames**: Games drawn by the team so far.\n",
    "7. **LostGames**: Games lost by the team so far.\n",
    "8. **BasketScored**: Basket scored by the team so far.\n",
    "9. **BasketGiven**: Basket scored against the team so far.\n",
    "10. **TournamentChampion**: How many times the team was a champion of the tournaments so far.\n",
    "11. **Runner-up**: How many times the team was a runners-up of the tournaments so far.\n",
    "12. **TeamLaunch**: Year the team was launched on professional basketball.\n",
    "13. **HighestPositionHeld**: Highest position held by the team amongst all the tournaments played.\n",
    "\n",
    "• **PROJECT OBJECTIVE**: Company’s management wants to invest on proposals on managing some of the best teams in the league. The analytics department has been assigned with a task of creating a report on the performance shown by the teams. Some of the older teams are already in contract with competitors. Hence Company X wants to understand which teams they can approach which will be a deal win for them.\n"
   ]
  },
  {
   "cell_type": "markdown",
   "id": "36e41400",
   "metadata": {},
   "source": [
    "#### 1. Read the data set, clean the data and prepare final dataset to be used for analysis."
   ]
  },
  {
   "cell_type": "markdown",
   "id": "aed5ae4c",
   "metadata": {},
   "source": [
    "##### Read the dataset"
   ]
  },
  {
   "cell_type": "code",
   "execution_count": 17,
   "id": "c0e00869",
   "metadata": {},
   "outputs": [],
   "source": [
    "data = pd.read_csv(\"D:/Nikhila/PGP - AIML/2. Projects/1. Applied statistics/Basketball.csv\")"
   ]
  },
  {
   "cell_type": "markdown",
   "id": "ae65774a",
   "metadata": {},
   "source": [
    "##### Understanding the dataset and cleaning the dataset"
   ]
  },
  {
   "cell_type": "code",
   "execution_count": 18,
   "id": "ed9a377d",
   "metadata": {
    "scrolled": true
   },
   "outputs": [
    {
     "data": {
      "text/plain": [
       "(61, 13)"
      ]
     },
     "execution_count": 18,
     "metadata": {},
     "output_type": "execute_result"
    }
   ],
   "source": [
    "data.shape"
   ]
  },
  {
   "cell_type": "markdown",
   "id": "ef58fa8e",
   "metadata": {},
   "source": [
    "Observation: There are 61 rows and 13 columns"
   ]
  },
  {
   "cell_type": "code",
   "execution_count": 19,
   "id": "2cc5c582",
   "metadata": {},
   "outputs": [
    {
     "data": {
      "text/html": [
       "<div>\n",
       "<style scoped>\n",
       "    .dataframe tbody tr th:only-of-type {\n",
       "        vertical-align: middle;\n",
       "    }\n",
       "\n",
       "    .dataframe tbody tr th {\n",
       "        vertical-align: top;\n",
       "    }\n",
       "\n",
       "    .dataframe thead th {\n",
       "        text-align: right;\n",
       "    }\n",
       "</style>\n",
       "<table border=\"1\" class=\"dataframe\">\n",
       "  <thead>\n",
       "    <tr style=\"text-align: right;\">\n",
       "      <th></th>\n",
       "      <th>Team</th>\n",
       "      <th>Tournament</th>\n",
       "      <th>Score</th>\n",
       "      <th>PlayedGames</th>\n",
       "      <th>WonGames</th>\n",
       "      <th>DrawnGames</th>\n",
       "      <th>LostGames</th>\n",
       "      <th>BasketScored</th>\n",
       "      <th>BasketGiven</th>\n",
       "      <th>TournamentChampion</th>\n",
       "      <th>Runner-up</th>\n",
       "      <th>TeamLaunch</th>\n",
       "      <th>HighestPositionHeld</th>\n",
       "    </tr>\n",
       "  </thead>\n",
       "  <tbody>\n",
       "    <tr>\n",
       "      <th>0</th>\n",
       "      <td>Team 1</td>\n",
       "      <td>86</td>\n",
       "      <td>4385</td>\n",
       "      <td>2762</td>\n",
       "      <td>1647</td>\n",
       "      <td>552</td>\n",
       "      <td>563</td>\n",
       "      <td>5947</td>\n",
       "      <td>3140</td>\n",
       "      <td>33</td>\n",
       "      <td>23</td>\n",
       "      <td>1929</td>\n",
       "      <td>1</td>\n",
       "    </tr>\n",
       "    <tr>\n",
       "      <th>1</th>\n",
       "      <td>Team 2</td>\n",
       "      <td>86</td>\n",
       "      <td>4262</td>\n",
       "      <td>2762</td>\n",
       "      <td>1581</td>\n",
       "      <td>573</td>\n",
       "      <td>608</td>\n",
       "      <td>5900</td>\n",
       "      <td>3114</td>\n",
       "      <td>25</td>\n",
       "      <td>25</td>\n",
       "      <td>1929</td>\n",
       "      <td>1</td>\n",
       "    </tr>\n",
       "    <tr>\n",
       "      <th>2</th>\n",
       "      <td>Team 3</td>\n",
       "      <td>80</td>\n",
       "      <td>3442</td>\n",
       "      <td>2614</td>\n",
       "      <td>1241</td>\n",
       "      <td>598</td>\n",
       "      <td>775</td>\n",
       "      <td>4534</td>\n",
       "      <td>3309</td>\n",
       "      <td>10</td>\n",
       "      <td>8</td>\n",
       "      <td>1929</td>\n",
       "      <td>1</td>\n",
       "    </tr>\n",
       "    <tr>\n",
       "      <th>3</th>\n",
       "      <td>Team 4</td>\n",
       "      <td>82</td>\n",
       "      <td>3386</td>\n",
       "      <td>2664</td>\n",
       "      <td>1187</td>\n",
       "      <td>616</td>\n",
       "      <td>861</td>\n",
       "      <td>4398</td>\n",
       "      <td>3469</td>\n",
       "      <td>6</td>\n",
       "      <td>6</td>\n",
       "      <td>1931to32</td>\n",
       "      <td>1</td>\n",
       "    </tr>\n",
       "    <tr>\n",
       "      <th>4</th>\n",
       "      <td>Team 5</td>\n",
       "      <td>86</td>\n",
       "      <td>3368</td>\n",
       "      <td>2762</td>\n",
       "      <td>1209</td>\n",
       "      <td>633</td>\n",
       "      <td>920</td>\n",
       "      <td>4631</td>\n",
       "      <td>3700</td>\n",
       "      <td>8</td>\n",
       "      <td>7</td>\n",
       "      <td>1929</td>\n",
       "      <td>1</td>\n",
       "    </tr>\n",
       "    <tr>\n",
       "      <th>5</th>\n",
       "      <td>Team 6</td>\n",
       "      <td>73</td>\n",
       "      <td>2819</td>\n",
       "      <td>2408</td>\n",
       "      <td>990</td>\n",
       "      <td>531</td>\n",
       "      <td>887</td>\n",
       "      <td>3680</td>\n",
       "      <td>3373</td>\n",
       "      <td>1</td>\n",
       "      <td>4</td>\n",
       "      <td>1934-35</td>\n",
       "      <td>1</td>\n",
       "    </tr>\n",
       "    <tr>\n",
       "      <th>6</th>\n",
       "      <td>Team 7</td>\n",
       "      <td>82</td>\n",
       "      <td>2792</td>\n",
       "      <td>2626</td>\n",
       "      <td>948</td>\n",
       "      <td>608</td>\n",
       "      <td>1070</td>\n",
       "      <td>3609</td>\n",
       "      <td>3889</td>\n",
       "      <td>-</td>\n",
       "      <td>-</td>\n",
       "      <td>1929</td>\n",
       "      <td>3</td>\n",
       "    </tr>\n",
       "    <tr>\n",
       "      <th>7</th>\n",
       "      <td>Team 8</td>\n",
       "      <td>70</td>\n",
       "      <td>2573</td>\n",
       "      <td>2302</td>\n",
       "      <td>864</td>\n",
       "      <td>577</td>\n",
       "      <td>861</td>\n",
       "      <td>3228</td>\n",
       "      <td>3230</td>\n",
       "      <td>2</td>\n",
       "      <td>3</td>\n",
       "      <td>1929</td>\n",
       "      <td>1</td>\n",
       "    </tr>\n",
       "    <tr>\n",
       "      <th>8</th>\n",
       "      <td>Team 9</td>\n",
       "      <td>58</td>\n",
       "      <td>2109</td>\n",
       "      <td>1986</td>\n",
       "      <td>698</td>\n",
       "      <td>522</td>\n",
       "      <td>766</td>\n",
       "      <td>2683</td>\n",
       "      <td>2847</td>\n",
       "      <td>-</td>\n",
       "      <td>1</td>\n",
       "      <td>1939-40</td>\n",
       "      <td>2</td>\n",
       "    </tr>\n",
       "    <tr>\n",
       "      <th>9</th>\n",
       "      <td>Team 10</td>\n",
       "      <td>51</td>\n",
       "      <td>1884</td>\n",
       "      <td>1728</td>\n",
       "      <td>606</td>\n",
       "      <td>440</td>\n",
       "      <td>682</td>\n",
       "      <td>2159</td>\n",
       "      <td>2492</td>\n",
       "      <td>1</td>\n",
       "      <td>-</td>\n",
       "      <td>1932-33</td>\n",
       "      <td>1</td>\n",
       "    </tr>\n",
       "  </tbody>\n",
       "</table>\n",
       "</div>"
      ],
      "text/plain": [
       "      Team  Tournament Score PlayedGames WonGames DrawnGames LostGames  \\\n",
       "0   Team 1          86  4385        2762     1647        552       563   \n",
       "1   Team 2          86  4262        2762     1581        573       608   \n",
       "2   Team 3          80  3442        2614     1241        598       775   \n",
       "3   Team 4          82  3386        2664     1187        616       861   \n",
       "4   Team 5          86  3368        2762     1209        633       920   \n",
       "5   Team 6          73  2819        2408      990        531       887   \n",
       "6   Team 7          82  2792        2626      948        608      1070   \n",
       "7   Team 8          70  2573        2302      864        577       861   \n",
       "8   Team 9          58  2109        1986      698        522       766   \n",
       "9  Team 10          51  1884        1728      606        440       682   \n",
       "\n",
       "  BasketScored BasketGiven TournamentChampion Runner-up TeamLaunch  \\\n",
       "0         5947        3140                 33        23       1929   \n",
       "1         5900        3114                 25        25       1929   \n",
       "2         4534        3309                 10         8       1929   \n",
       "3         4398        3469                  6         6   1931to32   \n",
       "4         4631        3700                  8         7       1929   \n",
       "5         3680        3373                  1         4    1934-35   \n",
       "6         3609        3889                  -         -       1929   \n",
       "7         3228        3230                  2         3       1929   \n",
       "8         2683        2847                  -         1    1939-40   \n",
       "9         2159        2492                  1         -    1932-33   \n",
       "\n",
       "   HighestPositionHeld  \n",
       "0                    1  \n",
       "1                    1  \n",
       "2                    1  \n",
       "3                    1  \n",
       "4                    1  \n",
       "5                    1  \n",
       "6                    3  \n",
       "7                    1  \n",
       "8                    2  \n",
       "9                    1  "
      ]
     },
     "execution_count": 19,
     "metadata": {},
     "output_type": "execute_result"
    }
   ],
   "source": [
    "data.head(10)"
   ]
  },
  {
   "cell_type": "code",
   "execution_count": 20,
   "id": "87d839ac",
   "metadata": {},
   "outputs": [
    {
     "data": {
      "text/html": [
       "<div>\n",
       "<style scoped>\n",
       "    .dataframe tbody tr th:only-of-type {\n",
       "        vertical-align: middle;\n",
       "    }\n",
       "\n",
       "    .dataframe tbody tr th {\n",
       "        vertical-align: top;\n",
       "    }\n",
       "\n",
       "    .dataframe thead th {\n",
       "        text-align: right;\n",
       "    }\n",
       "</style>\n",
       "<table border=\"1\" class=\"dataframe\">\n",
       "  <thead>\n",
       "    <tr style=\"text-align: right;\">\n",
       "      <th></th>\n",
       "      <th>Team</th>\n",
       "      <th>Tournament</th>\n",
       "      <th>Score</th>\n",
       "      <th>PlayedGames</th>\n",
       "      <th>WonGames</th>\n",
       "      <th>DrawnGames</th>\n",
       "      <th>LostGames</th>\n",
       "      <th>BasketScored</th>\n",
       "      <th>BasketGiven</th>\n",
       "      <th>TournamentChampion</th>\n",
       "      <th>Runner-up</th>\n",
       "      <th>TeamLaunch</th>\n",
       "      <th>HighestPositionHeld</th>\n",
       "    </tr>\n",
       "  </thead>\n",
       "  <tbody>\n",
       "    <tr>\n",
       "      <th>51</th>\n",
       "      <td>Team 52</td>\n",
       "      <td>4</td>\n",
       "      <td>56</td>\n",
       "      <td>72</td>\n",
       "      <td>21</td>\n",
       "      <td>14</td>\n",
       "      <td>37</td>\n",
       "      <td>153</td>\n",
       "      <td>184</td>\n",
       "      <td>-</td>\n",
       "      <td>-</td>\n",
       "      <td>1929</td>\n",
       "      <td>6</td>\n",
       "    </tr>\n",
       "    <tr>\n",
       "      <th>52</th>\n",
       "      <td>Team 53</td>\n",
       "      <td>2</td>\n",
       "      <td>52</td>\n",
       "      <td>68</td>\n",
       "      <td>17</td>\n",
       "      <td>18</td>\n",
       "      <td>33</td>\n",
       "      <td>71</td>\n",
       "      <td>116</td>\n",
       "      <td>-</td>\n",
       "      <td>-</td>\n",
       "      <td>1979-80</td>\n",
       "      <td>10</td>\n",
       "    </tr>\n",
       "    <tr>\n",
       "      <th>53</th>\n",
       "      <td>Team 54</td>\n",
       "      <td>3</td>\n",
       "      <td>42</td>\n",
       "      <td>54</td>\n",
       "      <td>18</td>\n",
       "      <td>6</td>\n",
       "      <td>30</td>\n",
       "      <td>97</td>\n",
       "      <td>131</td>\n",
       "      <td>-</td>\n",
       "      <td>-</td>\n",
       "      <td>1929</td>\n",
       "      <td>8</td>\n",
       "    </tr>\n",
       "    <tr>\n",
       "      <th>54</th>\n",
       "      <td>Team 55</td>\n",
       "      <td>2</td>\n",
       "      <td>40</td>\n",
       "      <td>68</td>\n",
       "      <td>13</td>\n",
       "      <td>14</td>\n",
       "      <td>41</td>\n",
       "      <td>70</td>\n",
       "      <td>182</td>\n",
       "      <td>-</td>\n",
       "      <td>-</td>\n",
       "      <td>1950-51</td>\n",
       "      <td>16</td>\n",
       "    </tr>\n",
       "    <tr>\n",
       "      <th>55</th>\n",
       "      <td>Team 56</td>\n",
       "      <td>1</td>\n",
       "      <td>35</td>\n",
       "      <td>38</td>\n",
       "      <td>8</td>\n",
       "      <td>11</td>\n",
       "      <td>19</td>\n",
       "      <td>36</td>\n",
       "      <td>55</td>\n",
       "      <td>-</td>\n",
       "      <td>-</td>\n",
       "      <td>2016_17</td>\n",
       "      <td>17</td>\n",
       "    </tr>\n",
       "    <tr>\n",
       "      <th>56</th>\n",
       "      <td>Team 57</td>\n",
       "      <td>1</td>\n",
       "      <td>34</td>\n",
       "      <td>38</td>\n",
       "      <td>8</td>\n",
       "      <td>10</td>\n",
       "      <td>20</td>\n",
       "      <td>38</td>\n",
       "      <td>66</td>\n",
       "      <td>-</td>\n",
       "      <td>-</td>\n",
       "      <td>2009-10</td>\n",
       "      <td>20</td>\n",
       "    </tr>\n",
       "    <tr>\n",
       "      <th>57</th>\n",
       "      <td>Team 58</td>\n",
       "      <td>1</td>\n",
       "      <td>22</td>\n",
       "      <td>30</td>\n",
       "      <td>7</td>\n",
       "      <td>8</td>\n",
       "      <td>15</td>\n",
       "      <td>37</td>\n",
       "      <td>57</td>\n",
       "      <td>-</td>\n",
       "      <td>-</td>\n",
       "      <td>1956-57</td>\n",
       "      <td>16</td>\n",
       "    </tr>\n",
       "    <tr>\n",
       "      <th>58</th>\n",
       "      <td>Team 59</td>\n",
       "      <td>1</td>\n",
       "      <td>19</td>\n",
       "      <td>30</td>\n",
       "      <td>7</td>\n",
       "      <td>5</td>\n",
       "      <td>18</td>\n",
       "      <td>51</td>\n",
       "      <td>85</td>\n",
       "      <td>-</td>\n",
       "      <td>-</td>\n",
       "      <td>1951~52</td>\n",
       "      <td>16</td>\n",
       "    </tr>\n",
       "    <tr>\n",
       "      <th>59</th>\n",
       "      <td>Team 60</td>\n",
       "      <td>1</td>\n",
       "      <td>14</td>\n",
       "      <td>30</td>\n",
       "      <td>5</td>\n",
       "      <td>4</td>\n",
       "      <td>21</td>\n",
       "      <td>34</td>\n",
       "      <td>65</td>\n",
       "      <td>-</td>\n",
       "      <td>-</td>\n",
       "      <td>1955-56</td>\n",
       "      <td>15</td>\n",
       "    </tr>\n",
       "    <tr>\n",
       "      <th>60</th>\n",
       "      <td>Team 61</td>\n",
       "      <td>1</td>\n",
       "      <td>-</td>\n",
       "      <td>-</td>\n",
       "      <td>-</td>\n",
       "      <td>-</td>\n",
       "      <td>-</td>\n",
       "      <td>-</td>\n",
       "      <td>-</td>\n",
       "      <td>-</td>\n",
       "      <td>-</td>\n",
       "      <td>2017~18</td>\n",
       "      <td>9</td>\n",
       "    </tr>\n",
       "  </tbody>\n",
       "</table>\n",
       "</div>"
      ],
      "text/plain": [
       "       Team  Tournament Score PlayedGames WonGames DrawnGames LostGames  \\\n",
       "51  Team 52           4    56          72       21         14        37   \n",
       "52  Team 53           2    52          68       17         18        33   \n",
       "53  Team 54           3    42          54       18          6        30   \n",
       "54  Team 55           2    40          68       13         14        41   \n",
       "55  Team 56           1    35          38        8         11        19   \n",
       "56  Team 57           1    34          38        8         10        20   \n",
       "57  Team 58           1    22          30        7          8        15   \n",
       "58  Team 59           1    19          30        7          5        18   \n",
       "59  Team 60           1    14          30        5          4        21   \n",
       "60  Team 61           1     -           -        -          -         -   \n",
       "\n",
       "   BasketScored BasketGiven TournamentChampion Runner-up TeamLaunch  \\\n",
       "51          153         184                  -         -       1929   \n",
       "52           71         116                  -         -    1979-80   \n",
       "53           97         131                  -         -       1929   \n",
       "54           70         182                  -         -    1950-51   \n",
       "55           36          55                  -         -    2016_17   \n",
       "56           38          66                  -         -    2009-10   \n",
       "57           37          57                  -         -    1956-57   \n",
       "58           51          85                  -         -    1951~52   \n",
       "59           34          65                  -         -    1955-56   \n",
       "60            -           -                  -         -    2017~18   \n",
       "\n",
       "    HighestPositionHeld  \n",
       "51                    6  \n",
       "52                   10  \n",
       "53                    8  \n",
       "54                   16  \n",
       "55                   17  \n",
       "56                   20  \n",
       "57                   16  \n",
       "58                   16  \n",
       "59                   15  \n",
       "60                    9  "
      ]
     },
     "execution_count": 20,
     "metadata": {},
     "output_type": "execute_result"
    }
   ],
   "source": [
    "data.tail(10)"
   ]
  },
  {
   "cell_type": "markdown",
   "id": "417ecbd9",
   "metadata": {},
   "source": [
    " Observation: \n",
    " 1. Replace \"-\" with 0\n",
    " 2. Keep the data in yyyy format (first 4 characters) in TeamLaunch Column"
   ]
  },
  {
   "cell_type": "markdown",
   "id": "40c26c06",
   "metadata": {},
   "source": [
    "##### Keep the original dataset without modification"
   ]
  },
  {
   "cell_type": "code",
   "execution_count": 21,
   "id": "9fd023d8",
   "metadata": {},
   "outputs": [],
   "source": [
    "basketball = data.copy()"
   ]
  },
  {
   "cell_type": "markdown",
   "id": "fb0680e7",
   "metadata": {},
   "source": [
    "##### 1. Replace \"-\" with 0"
   ]
  },
  {
   "cell_type": "code",
   "execution_count": 22,
   "id": "ce920c6b",
   "metadata": {},
   "outputs": [],
   "source": [
    "basketball.replace(\"-\",0, inplace=True)"
   ]
  },
  {
   "cell_type": "markdown",
   "id": "3da66484",
   "metadata": {},
   "source": [
    "##### 2. Keep the data in yyyy format (first 4 characters) in TeamLaunch Column"
   ]
  },
  {
   "cell_type": "code",
   "execution_count": 23,
   "id": "3d5d8489",
   "metadata": {},
   "outputs": [],
   "source": [
    "basketball[\"TeamLaunch\"] = basketball[\"TeamLaunch\"].apply(lambda year: str(year)[:4])"
   ]
  },
  {
   "cell_type": "markdown",
   "id": "578ed291",
   "metadata": {},
   "source": [
    "##### info()"
   ]
  },
  {
   "cell_type": "code",
   "execution_count": 24,
   "id": "e72d299a",
   "metadata": {},
   "outputs": [
    {
     "name": "stdout",
     "output_type": "stream",
     "text": [
      "<class 'pandas.core.frame.DataFrame'>\n",
      "RangeIndex: 61 entries, 0 to 60\n",
      "Data columns (total 13 columns):\n",
      " #   Column               Non-Null Count  Dtype \n",
      "---  ------               --------------  ----- \n",
      " 0   Team                 61 non-null     object\n",
      " 1   Tournament           61 non-null     int64 \n",
      " 2   Score                61 non-null     object\n",
      " 3   PlayedGames          61 non-null     object\n",
      " 4   WonGames             61 non-null     object\n",
      " 5   DrawnGames           61 non-null     object\n",
      " 6   LostGames            61 non-null     object\n",
      " 7   BasketScored         61 non-null     object\n",
      " 8   BasketGiven          61 non-null     object\n",
      " 9   TournamentChampion   61 non-null     object\n",
      " 10  Runner-up            61 non-null     object\n",
      " 11  TeamLaunch           61 non-null     object\n",
      " 12  HighestPositionHeld  61 non-null     int64 \n",
      "dtypes: int64(2), object(11)\n",
      "memory usage: 6.3+ KB\n"
     ]
    }
   ],
   "source": [
    "basketball.info()"
   ]
  },
  {
   "cell_type": "markdown",
   "id": "e0938878",
   "metadata": {},
   "source": [
    "Observation: \n",
    "- No null values are present\n",
    "\n",
    "3. Numeric data are represented as objects. We need to convert this to int"
   ]
  },
  {
   "cell_type": "code",
   "execution_count": 25,
   "id": "3bcf4c08",
   "metadata": {},
   "outputs": [
    {
     "data": {
      "text/plain": [
       "Index(['Team', 'Tournament', 'Score', 'PlayedGames', 'WonGames', 'DrawnGames',\n",
       "       'LostGames', 'BasketScored', 'BasketGiven', 'TournamentChampion',\n",
       "       'Runner-up', 'TeamLaunch', 'HighestPositionHeld'],\n",
       "      dtype='object')"
      ]
     },
     "execution_count": 25,
     "metadata": {},
     "output_type": "execute_result"
    }
   ],
   "source": [
    "basketball.columns"
   ]
  },
  {
   "cell_type": "markdown",
   "id": "a17d66a1",
   "metadata": {},
   "source": [
    "##### 3. Columns that needs to converted to int type"
   ]
  },
  {
   "cell_type": "code",
   "execution_count": 26,
   "id": "33cffd9d",
   "metadata": {},
   "outputs": [],
   "source": [
    "col_names = list((\"Score\",\"PlayedGames\",\"WonGames\",\"DrawnGames\",\"LostGames\",\"BasketScored\",\"BasketGiven\",\"TournamentChampion\",\"Runner-up\",\"TeamLaunch\"))"
   ]
  },
  {
   "cell_type": "code",
   "execution_count": 27,
   "id": "fe51d0be",
   "metadata": {},
   "outputs": [],
   "source": [
    "basketball[col_names] = basketball[col_names].astype(int)"
   ]
  },
  {
   "cell_type": "code",
   "execution_count": 28,
   "id": "5deeb1e8",
   "metadata": {
    "scrolled": false
   },
   "outputs": [
    {
     "data": {
      "text/html": [
       "<div>\n",
       "<style scoped>\n",
       "    .dataframe tbody tr th:only-of-type {\n",
       "        vertical-align: middle;\n",
       "    }\n",
       "\n",
       "    .dataframe tbody tr th {\n",
       "        vertical-align: top;\n",
       "    }\n",
       "\n",
       "    .dataframe thead th {\n",
       "        text-align: right;\n",
       "    }\n",
       "</style>\n",
       "<table border=\"1\" class=\"dataframe\">\n",
       "  <thead>\n",
       "    <tr style=\"text-align: right;\">\n",
       "      <th></th>\n",
       "      <th>Tournament</th>\n",
       "      <th>Score</th>\n",
       "      <th>PlayedGames</th>\n",
       "      <th>WonGames</th>\n",
       "      <th>DrawnGames</th>\n",
       "      <th>LostGames</th>\n",
       "      <th>BasketScored</th>\n",
       "      <th>BasketGiven</th>\n",
       "      <th>TournamentChampion</th>\n",
       "      <th>Runner-up</th>\n",
       "      <th>TeamLaunch</th>\n",
       "      <th>HighestPositionHeld</th>\n",
       "    </tr>\n",
       "  </thead>\n",
       "  <tbody>\n",
       "    <tr>\n",
       "      <th>count</th>\n",
       "      <td>61.000000</td>\n",
       "      <td>61.000000</td>\n",
       "      <td>61.000000</td>\n",
       "      <td>61.000000</td>\n",
       "      <td>61.000000</td>\n",
       "      <td>61.000000</td>\n",
       "      <td>61.000000</td>\n",
       "      <td>61.000000</td>\n",
       "      <td>61.000000</td>\n",
       "      <td>61.000000</td>\n",
       "      <td>61.000000</td>\n",
       "      <td>61.000000</td>\n",
       "    </tr>\n",
       "    <tr>\n",
       "      <th>mean</th>\n",
       "      <td>24.000000</td>\n",
       "      <td>901.426230</td>\n",
       "      <td>796.819672</td>\n",
       "      <td>303.967213</td>\n",
       "      <td>188.934426</td>\n",
       "      <td>303.754098</td>\n",
       "      <td>1140.344262</td>\n",
       "      <td>1140.229508</td>\n",
       "      <td>1.426230</td>\n",
       "      <td>1.409836</td>\n",
       "      <td>1958.918033</td>\n",
       "      <td>7.081967</td>\n",
       "    </tr>\n",
       "    <tr>\n",
       "      <th>std</th>\n",
       "      <td>26.827225</td>\n",
       "      <td>1134.899121</td>\n",
       "      <td>876.282765</td>\n",
       "      <td>406.991030</td>\n",
       "      <td>201.799477</td>\n",
       "      <td>294.708594</td>\n",
       "      <td>1506.740211</td>\n",
       "      <td>1163.710766</td>\n",
       "      <td>5.472535</td>\n",
       "      <td>4.540107</td>\n",
       "      <td>27.484114</td>\n",
       "      <td>5.276663</td>\n",
       "    </tr>\n",
       "    <tr>\n",
       "      <th>min</th>\n",
       "      <td>1.000000</td>\n",
       "      <td>0.000000</td>\n",
       "      <td>0.000000</td>\n",
       "      <td>0.000000</td>\n",
       "      <td>0.000000</td>\n",
       "      <td>0.000000</td>\n",
       "      <td>0.000000</td>\n",
       "      <td>0.000000</td>\n",
       "      <td>0.000000</td>\n",
       "      <td>0.000000</td>\n",
       "      <td>1929.000000</td>\n",
       "      <td>1.000000</td>\n",
       "    </tr>\n",
       "    <tr>\n",
       "      <th>25%</th>\n",
       "      <td>4.000000</td>\n",
       "      <td>96.000000</td>\n",
       "      <td>114.000000</td>\n",
       "      <td>34.000000</td>\n",
       "      <td>24.000000</td>\n",
       "      <td>62.000000</td>\n",
       "      <td>153.000000</td>\n",
       "      <td>221.000000</td>\n",
       "      <td>0.000000</td>\n",
       "      <td>0.000000</td>\n",
       "      <td>1935.000000</td>\n",
       "      <td>3.000000</td>\n",
       "    </tr>\n",
       "    <tr>\n",
       "      <th>50%</th>\n",
       "      <td>12.000000</td>\n",
       "      <td>375.000000</td>\n",
       "      <td>423.000000</td>\n",
       "      <td>123.000000</td>\n",
       "      <td>95.000000</td>\n",
       "      <td>197.000000</td>\n",
       "      <td>430.000000</td>\n",
       "      <td>632.000000</td>\n",
       "      <td>0.000000</td>\n",
       "      <td>0.000000</td>\n",
       "      <td>1951.000000</td>\n",
       "      <td>6.000000</td>\n",
       "    </tr>\n",
       "    <tr>\n",
       "      <th>75%</th>\n",
       "      <td>38.000000</td>\n",
       "      <td>1351.000000</td>\n",
       "      <td>1318.000000</td>\n",
       "      <td>426.000000</td>\n",
       "      <td>330.000000</td>\n",
       "      <td>563.000000</td>\n",
       "      <td>1642.000000</td>\n",
       "      <td>1951.000000</td>\n",
       "      <td>0.000000</td>\n",
       "      <td>0.000000</td>\n",
       "      <td>1978.000000</td>\n",
       "      <td>10.000000</td>\n",
       "    </tr>\n",
       "    <tr>\n",
       "      <th>max</th>\n",
       "      <td>86.000000</td>\n",
       "      <td>4385.000000</td>\n",
       "      <td>2762.000000</td>\n",
       "      <td>1647.000000</td>\n",
       "      <td>633.000000</td>\n",
       "      <td>1070.000000</td>\n",
       "      <td>5947.000000</td>\n",
       "      <td>3889.000000</td>\n",
       "      <td>33.000000</td>\n",
       "      <td>25.000000</td>\n",
       "      <td>2017.000000</td>\n",
       "      <td>20.000000</td>\n",
       "    </tr>\n",
       "  </tbody>\n",
       "</table>\n",
       "</div>"
      ],
      "text/plain": [
       "       Tournament        Score  PlayedGames     WonGames  DrawnGames  \\\n",
       "count   61.000000    61.000000    61.000000    61.000000   61.000000   \n",
       "mean    24.000000   901.426230   796.819672   303.967213  188.934426   \n",
       "std     26.827225  1134.899121   876.282765   406.991030  201.799477   \n",
       "min      1.000000     0.000000     0.000000     0.000000    0.000000   \n",
       "25%      4.000000    96.000000   114.000000    34.000000   24.000000   \n",
       "50%     12.000000   375.000000   423.000000   123.000000   95.000000   \n",
       "75%     38.000000  1351.000000  1318.000000   426.000000  330.000000   \n",
       "max     86.000000  4385.000000  2762.000000  1647.000000  633.000000   \n",
       "\n",
       "         LostGames  BasketScored  BasketGiven  TournamentChampion  Runner-up  \\\n",
       "count    61.000000     61.000000    61.000000           61.000000  61.000000   \n",
       "mean    303.754098   1140.344262  1140.229508            1.426230   1.409836   \n",
       "std     294.708594   1506.740211  1163.710766            5.472535   4.540107   \n",
       "min       0.000000      0.000000     0.000000            0.000000   0.000000   \n",
       "25%      62.000000    153.000000   221.000000            0.000000   0.000000   \n",
       "50%     197.000000    430.000000   632.000000            0.000000   0.000000   \n",
       "75%     563.000000   1642.000000  1951.000000            0.000000   0.000000   \n",
       "max    1070.000000   5947.000000  3889.000000           33.000000  25.000000   \n",
       "\n",
       "        TeamLaunch  HighestPositionHeld  \n",
       "count    61.000000            61.000000  \n",
       "mean   1958.918033             7.081967  \n",
       "std      27.484114             5.276663  \n",
       "min    1929.000000             1.000000  \n",
       "25%    1935.000000             3.000000  \n",
       "50%    1951.000000             6.000000  \n",
       "75%    1978.000000            10.000000  \n",
       "max    2017.000000            20.000000  "
      ]
     },
     "execution_count": 28,
     "metadata": {},
     "output_type": "execute_result"
    }
   ],
   "source": [
    "basketball.describe()"
   ]
  },
  {
   "cell_type": "markdown",
   "id": "bed26af5",
   "metadata": {},
   "source": [
    "##### Feature Creation"
   ]
  },
  {
   "cell_type": "markdown",
   "id": "dc4eb13c",
   "metadata": {},
   "source": [
    "###### a. Win percentage"
   ]
  },
  {
   "cell_type": "code",
   "execution_count": 29,
   "id": "2bb7e19d",
   "metadata": {},
   "outputs": [],
   "source": [
    "basketball[\"WinPercentage\"] = (basketball[\"WonGames\"]/basketball[\"PlayedGames\"])*100"
   ]
  },
  {
   "cell_type": "markdown",
   "id": "dee26e6a",
   "metadata": {},
   "source": [
    "##### b. Lossing percentage"
   ]
  },
  {
   "cell_type": "code",
   "execution_count": 30,
   "id": "7c413fc4",
   "metadata": {},
   "outputs": [],
   "source": [
    "basketball[\"LostPercentage\"] = (basketball[\"LostGames\"]/basketball[\"PlayedGames\"])*100"
   ]
  },
  {
   "cell_type": "markdown",
   "id": "8f91c6af",
   "metadata": {},
   "source": [
    "##### c. Win-loss ratio"
   ]
  },
  {
   "cell_type": "code",
   "execution_count": 31,
   "id": "ef2a0484",
   "metadata": {},
   "outputs": [],
   "source": [
    "basketball[\"Win-Loss\"] = (basketball[\"WonGames\"]/basketball[\"LostGames\"])"
   ]
  },
  {
   "cell_type": "markdown",
   "id": "7d9c384f",
   "metadata": {},
   "source": [
    "##### d. Finals"
   ]
  },
  {
   "cell_type": "code",
   "execution_count": 32,
   "id": "88a1cc3c",
   "metadata": {},
   "outputs": [],
   "source": [
    "basketball[\"Finals\"] = basketball[\"Runner-up\"] + basketball[\"TournamentChampion\"]"
   ]
  },
  {
   "cell_type": "markdown",
   "id": "0e3cf51d",
   "metadata": {},
   "source": [
    "##### e. BasketRatio"
   ]
  },
  {
   "cell_type": "code",
   "execution_count": 33,
   "id": "c2088271",
   "metadata": {},
   "outputs": [],
   "source": [
    "basketball[\"BasketRatio\"] = basketball[\"BasketScored\"]/basketball[\"BasketGiven\"]"
   ]
  },
  {
   "cell_type": "markdown",
   "id": "2bf0f8bb",
   "metadata": {},
   "source": [
    "-----"
   ]
  },
  {
   "cell_type": "markdown",
   "id": "6901d854",
   "metadata": {},
   "source": [
    "#### 2. Statistical analysis and EDA using univariate, bi-variate and multivariate EDA techniques to get data driven insights on recommending which teams they can approach which will be a deal win for them. "
   ]
  },
  {
   "cell_type": "markdown",
   "id": "e9a76d93",
   "metadata": {},
   "source": [
    "##### a. Top 10 teams with their best position"
   ]
  },
  {
   "cell_type": "code",
   "execution_count": 34,
   "id": "a9932546",
   "metadata": {
    "scrolled": false
   },
   "outputs": [
    {
     "data": {
      "text/html": [
       "<div>\n",
       "<style scoped>\n",
       "    .dataframe tbody tr th:only-of-type {\n",
       "        vertical-align: middle;\n",
       "    }\n",
       "\n",
       "    .dataframe tbody tr th {\n",
       "        vertical-align: top;\n",
       "    }\n",
       "\n",
       "    .dataframe thead th {\n",
       "        text-align: right;\n",
       "    }\n",
       "</style>\n",
       "<table border=\"1\" class=\"dataframe\">\n",
       "  <thead>\n",
       "    <tr style=\"text-align: right;\">\n",
       "      <th></th>\n",
       "      <th>Team</th>\n",
       "      <th>HighestPositionHeld</th>\n",
       "    </tr>\n",
       "  </thead>\n",
       "  <tbody>\n",
       "    <tr>\n",
       "      <th>0</th>\n",
       "      <td>Team 1</td>\n",
       "      <td>1</td>\n",
       "    </tr>\n",
       "    <tr>\n",
       "      <th>1</th>\n",
       "      <td>Team 2</td>\n",
       "      <td>1</td>\n",
       "    </tr>\n",
       "    <tr>\n",
       "      <th>2</th>\n",
       "      <td>Team 3</td>\n",
       "      <td>1</td>\n",
       "    </tr>\n",
       "    <tr>\n",
       "      <th>3</th>\n",
       "      <td>Team 4</td>\n",
       "      <td>1</td>\n",
       "    </tr>\n",
       "    <tr>\n",
       "      <th>4</th>\n",
       "      <td>Team 5</td>\n",
       "      <td>1</td>\n",
       "    </tr>\n",
       "    <tr>\n",
       "      <th>5</th>\n",
       "      <td>Team 6</td>\n",
       "      <td>1</td>\n",
       "    </tr>\n",
       "    <tr>\n",
       "      <th>7</th>\n",
       "      <td>Team 8</td>\n",
       "      <td>1</td>\n",
       "    </tr>\n",
       "    <tr>\n",
       "      <th>9</th>\n",
       "      <td>Team 10</td>\n",
       "      <td>1</td>\n",
       "    </tr>\n",
       "    <tr>\n",
       "      <th>10</th>\n",
       "      <td>Team 11</td>\n",
       "      <td>1</td>\n",
       "    </tr>\n",
       "  </tbody>\n",
       "</table>\n",
       "</div>"
      ],
      "text/plain": [
       "       Team  HighestPositionHeld\n",
       "0    Team 1                    1\n",
       "1    Team 2                    1\n",
       "2    Team 3                    1\n",
       "3    Team 4                    1\n",
       "4    Team 5                    1\n",
       "5    Team 6                    1\n",
       "7    Team 8                    1\n",
       "9   Team 10                    1\n",
       "10  Team 11                    1"
      ]
     },
     "execution_count": 34,
     "metadata": {},
     "output_type": "execute_result"
    }
   ],
   "source": [
    "best_position = basketball[basketball[\"HighestPositionHeld\"] == basketball[\"HighestPositionHeld\"].min()]\n",
    "best_position[[\"Team\",\"HighestPositionHeld\" ]]"
   ]
  },
  {
   "cell_type": "code",
   "execution_count": 35,
   "id": "05b83d95",
   "metadata": {},
   "outputs": [
    {
     "data": {
      "text/plain": [
       "<AxesSubplot:xlabel='Team', ylabel='HighestPositionHeld'>"
      ]
     },
     "execution_count": 35,
     "metadata": {},
     "output_type": "execute_result"
    },
    {
     "data": {
      "image/png": "[encoded data removed]",
      "text/plain": [
       "<Figure size 576x288 with 1 Axes>"
      ]
     },
     "metadata": {
      "needs_background": "light"
     },
     "output_type": "display_data"
    }
   ],
   "source": [
    "plt.figure(figsize=(8,4))\n",
    "best_positions = basketball[['Team','HighestPositionHeld']].sort_values(by=\"HighestPositionHeld\", ascending=True).head(10)\n",
    "sns.barplot(best_positions['Team'], best_positions['HighestPositionHeld'],color=(0.8,0.8,0.8,0.8), edgecolor='blue')"
   ]
  },
  {
   "cell_type": "markdown",
   "id": "5d34f1bb",
   "metadata": {},
   "source": [
    "##### b. Top 10 teams with the best win percentage"
   ]
  },
  {
   "cell_type": "code",
   "execution_count": 36,
   "id": "903f43a5",
   "metadata": {},
   "outputs": [
    {
     "data": {
      "text/html": [
       "<div>\n",
       "<style scoped>\n",
       "    .dataframe tbody tr th:only-of-type {\n",
       "        vertical-align: middle;\n",
       "    }\n",
       "\n",
       "    .dataframe tbody tr th {\n",
       "        vertical-align: top;\n",
       "    }\n",
       "\n",
       "    .dataframe thead th {\n",
       "        text-align: right;\n",
       "    }\n",
       "</style>\n",
       "<table border=\"1\" class=\"dataframe\">\n",
       "  <thead>\n",
       "    <tr style=\"text-align: right;\">\n",
       "      <th></th>\n",
       "      <th>Team</th>\n",
       "      <th>WinPercentage</th>\n",
       "    </tr>\n",
       "  </thead>\n",
       "  <tbody>\n",
       "    <tr>\n",
       "      <th>0</th>\n",
       "      <td>Team 1</td>\n",
       "      <td>59.630702</td>\n",
       "    </tr>\n",
       "    <tr>\n",
       "      <th>1</th>\n",
       "      <td>Team 2</td>\n",
       "      <td>57.241130</td>\n",
       "    </tr>\n",
       "    <tr>\n",
       "      <th>2</th>\n",
       "      <td>Team 3</td>\n",
       "      <td>47.475134</td>\n",
       "    </tr>\n",
       "    <tr>\n",
       "      <th>3</th>\n",
       "      <td>Team 4</td>\n",
       "      <td>44.557057</td>\n",
       "    </tr>\n",
       "    <tr>\n",
       "      <th>4</th>\n",
       "      <td>Team 5</td>\n",
       "      <td>43.772629</td>\n",
       "    </tr>\n",
       "    <tr>\n",
       "      <th>20</th>\n",
       "      <td>Team 21</td>\n",
       "      <td>41.176471</td>\n",
       "    </tr>\n",
       "    <tr>\n",
       "      <th>5</th>\n",
       "      <td>Team 6</td>\n",
       "      <td>41.112957</td>\n",
       "    </tr>\n",
       "    <tr>\n",
       "      <th>7</th>\n",
       "      <td>Team 8</td>\n",
       "      <td>37.532580</td>\n",
       "    </tr>\n",
       "    <tr>\n",
       "      <th>10</th>\n",
       "      <td>Team 11</td>\n",
       "      <td>36.797386</td>\n",
       "    </tr>\n",
       "    <tr>\n",
       "      <th>6</th>\n",
       "      <td>Team 7</td>\n",
       "      <td>36.100533</td>\n",
       "    </tr>\n",
       "  </tbody>\n",
       "</table>\n",
       "</div>"
      ],
      "text/plain": [
       "       Team  WinPercentage\n",
       "0    Team 1      59.630702\n",
       "1    Team 2      57.241130\n",
       "2    Team 3      47.475134\n",
       "3    Team 4      44.557057\n",
       "4    Team 5      43.772629\n",
       "20  Team 21      41.176471\n",
       "5    Team 6      41.112957\n",
       "7    Team 8      37.532580\n",
       "10  Team 11      36.797386\n",
       "6    Team 7      36.100533"
      ]
     },
     "execution_count": 36,
     "metadata": {},
     "output_type": "execute_result"
    }
   ],
   "source": [
    "basketball[[\"Team\",\"WinPercentage\"]].sort_values(\"WinPercentage\", ascending=False).head(10)"
   ]
  },
  {
   "cell_type": "code",
   "execution_count": 37,
   "id": "5e307c0a",
   "metadata": {
    "scrolled": true
   },
   "outputs": [
    {
     "data": {
      "text/plain": [
       "<AxesSubplot:xlabel='Team', ylabel='WinPercentage'>"
      ]
     },
     "execution_count": 37,
     "metadata": {},
     "output_type": "execute_result"
    },
    {
     "data": {
      "image/png": "[encoded data removed]",
      "text/plain": [
       "<Figure size 576x288 with 1 Axes>"
      ]
     },
     "metadata": {
      "needs_background": "light"
     },
     "output_type": "display_data"
    }
   ],
   "source": [
    "best_win_percent = basketball[[\"Team\",\"WinPercentage\"]].sort_values(\"WinPercentage\", ascending=False).head(10)\n",
    "plt.figure(figsize=(8,4))\n",
    "sns.barplot(best_win_percent[\"Team\"], best_win_percent[\"WinPercentage\"], color=(0.8,0.8,0.8,0.8),  edgecolor=\"blue\")"
   ]
  },
  {
   "cell_type": "markdown",
   "id": "f6ab7645",
   "metadata": {},
   "source": [
    "##### c. Top 10 teams with lowest winning percentage"
   ]
  },
  {
   "cell_type": "code",
   "execution_count": 38,
   "id": "89bfc146",
   "metadata": {},
   "outputs": [
    {
     "data": {
      "text/html": [
       "<div>\n",
       "<style scoped>\n",
       "    .dataframe tbody tr th:only-of-type {\n",
       "        vertical-align: middle;\n",
       "    }\n",
       "\n",
       "    .dataframe tbody tr th {\n",
       "        vertical-align: top;\n",
       "    }\n",
       "\n",
       "    .dataframe thead th {\n",
       "        text-align: right;\n",
       "    }\n",
       "</style>\n",
       "<table border=\"1\" class=\"dataframe\">\n",
       "  <thead>\n",
       "    <tr style=\"text-align: right;\">\n",
       "      <th></th>\n",
       "      <th>Team</th>\n",
       "      <th>WinPercentage</th>\n",
       "    </tr>\n",
       "  </thead>\n",
       "  <tbody>\n",
       "    <tr>\n",
       "      <th>59</th>\n",
       "      <td>Team 60</td>\n",
       "      <td>16.666667</td>\n",
       "    </tr>\n",
       "    <tr>\n",
       "      <th>54</th>\n",
       "      <td>Team 55</td>\n",
       "      <td>19.117647</td>\n",
       "    </tr>\n",
       "    <tr>\n",
       "      <th>56</th>\n",
       "      <td>Team 57</td>\n",
       "      <td>21.052632</td>\n",
       "    </tr>\n",
       "    <tr>\n",
       "      <th>55</th>\n",
       "      <td>Team 56</td>\n",
       "      <td>21.052632</td>\n",
       "    </tr>\n",
       "    <tr>\n",
       "      <th>45</th>\n",
       "      <td>Team 46</td>\n",
       "      <td>22.807018</td>\n",
       "    </tr>\n",
       "    <tr>\n",
       "      <th>32</th>\n",
       "      <td>Team 33</td>\n",
       "      <td>23.214286</td>\n",
       "    </tr>\n",
       "    <tr>\n",
       "      <th>57</th>\n",
       "      <td>Team 58</td>\n",
       "      <td>23.333333</td>\n",
       "    </tr>\n",
       "    <tr>\n",
       "      <th>58</th>\n",
       "      <td>Team 59</td>\n",
       "      <td>23.333333</td>\n",
       "    </tr>\n",
       "    <tr>\n",
       "      <th>48</th>\n",
       "      <td>Team 49</td>\n",
       "      <td>23.750000</td>\n",
       "    </tr>\n",
       "    <tr>\n",
       "      <th>42</th>\n",
       "      <td>Team 43</td>\n",
       "      <td>24.342105</td>\n",
       "    </tr>\n",
       "  </tbody>\n",
       "</table>\n",
       "</div>"
      ],
      "text/plain": [
       "       Team  WinPercentage\n",
       "59  Team 60      16.666667\n",
       "54  Team 55      19.117647\n",
       "56  Team 57      21.052632\n",
       "55  Team 56      21.052632\n",
       "45  Team 46      22.807018\n",
       "32  Team 33      23.214286\n",
       "57  Team 58      23.333333\n",
       "58  Team 59      23.333333\n",
       "48  Team 49      23.750000\n",
       "42  Team 43      24.342105"
      ]
     },
     "execution_count": 38,
     "metadata": {},
     "output_type": "execute_result"
    }
   ],
   "source": [
    "basketball[[\"Team\",\"WinPercentage\"]].sort_values(\"WinPercentage\", ascending=True).head(10)"
   ]
  },
  {
   "cell_type": "code",
   "execution_count": 39,
   "id": "4a8c6d1d",
   "metadata": {},
   "outputs": [
    {
     "data": {
      "text/plain": [
       "<AxesSubplot:xlabel='Team', ylabel='WinPercentage'>"
      ]
     },
     "execution_count": 39,
     "metadata": {},
     "output_type": "execute_result"
    },
    {
     "data": {
      "image/png": "[encoded data removed]",
      "text/plain": [
       "<Figure size 576x288 with 1 Axes>"
      ]
     },
     "metadata": {
      "needs_background": "light"
     },
     "output_type": "display_data"
    }
   ],
   "source": [
    "least_win_percent = basketball[[\"Team\",\"WinPercentage\"]].sort_values(\"WinPercentage\", ascending=True).head(10)\n",
    "plt.figure(figsize=(8,4))\n",
    "sns.barplot(least_win_percent[\"Team\"], least_win_percent[\"WinPercentage\"], color=(0.8,0.8,0.8,0.8),  edgecolor=\"blue\")"
   ]
  },
  {
   "cell_type": "markdown",
   "id": "ae5f0545",
   "metadata": {},
   "source": [
    "##### d. Top 10 teams with highest lossing percentage"
   ]
  },
  {
   "cell_type": "code",
   "execution_count": 40,
   "id": "99bda316",
   "metadata": {
    "scrolled": true
   },
   "outputs": [
    {
     "data": {
      "text/html": [
       "<div>\n",
       "<style scoped>\n",
       "    .dataframe tbody tr th:only-of-type {\n",
       "        vertical-align: middle;\n",
       "    }\n",
       "\n",
       "    .dataframe tbody tr th {\n",
       "        vertical-align: top;\n",
       "    }\n",
       "\n",
       "    .dataframe thead th {\n",
       "        text-align: right;\n",
       "    }\n",
       "</style>\n",
       "<table border=\"1\" class=\"dataframe\">\n",
       "  <thead>\n",
       "    <tr style=\"text-align: right;\">\n",
       "      <th></th>\n",
       "      <th>Team</th>\n",
       "      <th>LostPercentage</th>\n",
       "    </tr>\n",
       "  </thead>\n",
       "  <tbody>\n",
       "    <tr>\n",
       "      <th>59</th>\n",
       "      <td>Team 60</td>\n",
       "      <td>70.000000</td>\n",
       "    </tr>\n",
       "    <tr>\n",
       "      <th>54</th>\n",
       "      <td>Team 55</td>\n",
       "      <td>60.294118</td>\n",
       "    </tr>\n",
       "    <tr>\n",
       "      <th>58</th>\n",
       "      <td>Team 59</td>\n",
       "      <td>60.000000</td>\n",
       "    </tr>\n",
       "    <tr>\n",
       "      <th>49</th>\n",
       "      <td>Team 50</td>\n",
       "      <td>57.407407</td>\n",
       "    </tr>\n",
       "    <tr>\n",
       "      <th>46</th>\n",
       "      <td>Team 47</td>\n",
       "      <td>56.896552</td>\n",
       "    </tr>\n",
       "    <tr>\n",
       "      <th>53</th>\n",
       "      <td>Team 54</td>\n",
       "      <td>55.555556</td>\n",
       "    </tr>\n",
       "    <tr>\n",
       "      <th>50</th>\n",
       "      <td>Team 51</td>\n",
       "      <td>53.333333</td>\n",
       "    </tr>\n",
       "    <tr>\n",
       "      <th>56</th>\n",
       "      <td>Team 57</td>\n",
       "      <td>52.631579</td>\n",
       "    </tr>\n",
       "    <tr>\n",
       "      <th>51</th>\n",
       "      <td>Team 52</td>\n",
       "      <td>51.388889</td>\n",
       "    </tr>\n",
       "    <tr>\n",
       "      <th>42</th>\n",
       "      <td>Team 43</td>\n",
       "      <td>51.315789</td>\n",
       "    </tr>\n",
       "  </tbody>\n",
       "</table>\n",
       "</div>"
      ],
      "text/plain": [
       "       Team  LostPercentage\n",
       "59  Team 60       70.000000\n",
       "54  Team 55       60.294118\n",
       "58  Team 59       60.000000\n",
       "49  Team 50       57.407407\n",
       "46  Team 47       56.896552\n",
       "53  Team 54       55.555556\n",
       "50  Team 51       53.333333\n",
       "56  Team 57       52.631579\n",
       "51  Team 52       51.388889\n",
       "42  Team 43       51.315789"
      ]
     },
     "execution_count": 40,
     "metadata": {},
     "output_type": "execute_result"
    }
   ],
   "source": [
    "basketball[[\"Team\",\"LostPercentage\"]].sort_values(\"LostPercentage\", ascending=False).head(10)"
   ]
  },
  {
   "cell_type": "code",
   "execution_count": 41,
   "id": "e505d6c1",
   "metadata": {},
   "outputs": [
    {
     "data": {
      "text/plain": [
       "<AxesSubplot:xlabel='Team', ylabel='LostPercentage'>"
      ]
     },
     "execution_count": 41,
     "metadata": {},
     "output_type": "execute_result"
    },
    {
     "data": {
      "image/png": "[encoded data removed]",
      "text/plain": [
       "<Figure size 576x288 with 1 Axes>"
      ]
     },
     "metadata": {
      "needs_background": "light"
     },
     "output_type": "display_data"
    }
   ],
   "source": [
    "high_loss_percent = basketball[[\"Team\",\"LostPercentage\"]].sort_values(\"LostPercentage\", ascending=False).head(10)\n",
    "plt.figure(figsize=(8,4))\n",
    "sns.barplot(high_loss_percent[\"Team\"], high_loss_percent[\"LostPercentage\"], color=(0.8,0.8,0.8,0.8), edgecolor=\"blue\")"
   ]
  },
  {
   "cell_type": "markdown",
   "id": "762067cd",
   "metadata": {},
   "source": [
    "##### e. Top 10 teams with highest number of played tournament"
   ]
  },
  {
   "cell_type": "code",
   "execution_count": 42,
   "id": "08c17825",
   "metadata": {},
   "outputs": [
    {
     "data": {
      "text/html": [
       "<div>\n",
       "<style scoped>\n",
       "    .dataframe tbody tr th:only-of-type {\n",
       "        vertical-align: middle;\n",
       "    }\n",
       "\n",
       "    .dataframe tbody tr th {\n",
       "        vertical-align: top;\n",
       "    }\n",
       "\n",
       "    .dataframe thead th {\n",
       "        text-align: right;\n",
       "    }\n",
       "</style>\n",
       "<table border=\"1\" class=\"dataframe\">\n",
       "  <thead>\n",
       "    <tr style=\"text-align: right;\">\n",
       "      <th></th>\n",
       "      <th>Team</th>\n",
       "      <th>Tournament</th>\n",
       "    </tr>\n",
       "  </thead>\n",
       "  <tbody>\n",
       "    <tr>\n",
       "      <th>0</th>\n",
       "      <td>Team 1</td>\n",
       "      <td>86</td>\n",
       "    </tr>\n",
       "    <tr>\n",
       "      <th>4</th>\n",
       "      <td>Team 5</td>\n",
       "      <td>86</td>\n",
       "    </tr>\n",
       "    <tr>\n",
       "      <th>1</th>\n",
       "      <td>Team 2</td>\n",
       "      <td>86</td>\n",
       "    </tr>\n",
       "    <tr>\n",
       "      <th>3</th>\n",
       "      <td>Team 4</td>\n",
       "      <td>82</td>\n",
       "    </tr>\n",
       "    <tr>\n",
       "      <th>6</th>\n",
       "      <td>Team 7</td>\n",
       "      <td>82</td>\n",
       "    </tr>\n",
       "    <tr>\n",
       "      <th>2</th>\n",
       "      <td>Team 3</td>\n",
       "      <td>80</td>\n",
       "    </tr>\n",
       "    <tr>\n",
       "      <th>5</th>\n",
       "      <td>Team 6</td>\n",
       "      <td>73</td>\n",
       "    </tr>\n",
       "    <tr>\n",
       "      <th>7</th>\n",
       "      <td>Team 8</td>\n",
       "      <td>70</td>\n",
       "    </tr>\n",
       "    <tr>\n",
       "      <th>8</th>\n",
       "      <td>Team 9</td>\n",
       "      <td>58</td>\n",
       "    </tr>\n",
       "    <tr>\n",
       "      <th>9</th>\n",
       "      <td>Team 10</td>\n",
       "      <td>51</td>\n",
       "    </tr>\n",
       "  </tbody>\n",
       "</table>\n",
       "</div>"
      ],
      "text/plain": [
       "      Team  Tournament\n",
       "0   Team 1          86\n",
       "4   Team 5          86\n",
       "1   Team 2          86\n",
       "3   Team 4          82\n",
       "6   Team 7          82\n",
       "2   Team 3          80\n",
       "5   Team 6          73\n",
       "7   Team 8          70\n",
       "8   Team 9          58\n",
       "9  Team 10          51"
      ]
     },
     "execution_count": 42,
     "metadata": {},
     "output_type": "execute_result"
    }
   ],
   "source": [
    "basketball[[\"Team\",\"Tournament\"]].sort_values(\"Tournament\", ascending=False).head(10)"
   ]
  },
  {
   "cell_type": "code",
   "execution_count": 43,
   "id": "208ec198",
   "metadata": {},
   "outputs": [
    {
     "data": {
      "text/plain": [
       "<AxesSubplot:xlabel='Team', ylabel='Tournament'>"
      ]
     },
     "execution_count": 43,
     "metadata": {},
     "output_type": "execute_result"
    },
    {
     "data": {
      "image/png": "[encoded data removed]",
      "text/plain": [
       "<Figure size 576x288 with 1 Axes>"
      ]
     },
     "metadata": {
      "needs_background": "light"
     },
     "output_type": "display_data"
    }
   ],
   "source": [
    "high_tournament = basketball[[\"Team\",\"Tournament\"]].sort_values(\"Tournament\", ascending=False).head(10)\n",
    "plt.figure(figsize=(8,4))\n",
    "sns.barplot(high_tournament[\"Team\"], high_tournament[\"Tournament\"], color=(0.8,0.8,0.8,0.8), edgecolor=\"blue\")"
   ]
  },
  {
   "cell_type": "markdown",
   "id": "fa4daa1d",
   "metadata": {},
   "source": [
    "##### f. Oldest teams"
   ]
  },
  {
   "cell_type": "code",
   "execution_count": 44,
   "id": "b2bdd778",
   "metadata": {
    "scrolled": true
   },
   "outputs": [
    {
     "data": {
      "text/html": [
       "<div>\n",
       "<style scoped>\n",
       "    .dataframe tbody tr th:only-of-type {\n",
       "        vertical-align: middle;\n",
       "    }\n",
       "\n",
       "    .dataframe tbody tr th {\n",
       "        vertical-align: top;\n",
       "    }\n",
       "\n",
       "    .dataframe thead th {\n",
       "        text-align: right;\n",
       "    }\n",
       "</style>\n",
       "<table border=\"1\" class=\"dataframe\">\n",
       "  <thead>\n",
       "    <tr style=\"text-align: right;\">\n",
       "      <th></th>\n",
       "      <th>Team</th>\n",
       "      <th>TeamLaunch</th>\n",
       "    </tr>\n",
       "  </thead>\n",
       "  <tbody>\n",
       "    <tr>\n",
       "      <th>0</th>\n",
       "      <td>Team 1</td>\n",
       "      <td>1929</td>\n",
       "    </tr>\n",
       "    <tr>\n",
       "      <th>1</th>\n",
       "      <td>Team 2</td>\n",
       "      <td>1929</td>\n",
       "    </tr>\n",
       "    <tr>\n",
       "      <th>2</th>\n",
       "      <td>Team 3</td>\n",
       "      <td>1929</td>\n",
       "    </tr>\n",
       "    <tr>\n",
       "      <th>4</th>\n",
       "      <td>Team 5</td>\n",
       "      <td>1929</td>\n",
       "    </tr>\n",
       "    <tr>\n",
       "      <th>6</th>\n",
       "      <td>Team 7</td>\n",
       "      <td>1929</td>\n",
       "    </tr>\n",
       "    <tr>\n",
       "      <th>7</th>\n",
       "      <td>Team 8</td>\n",
       "      <td>1929</td>\n",
       "    </tr>\n",
       "    <tr>\n",
       "      <th>13</th>\n",
       "      <td>Team 14</td>\n",
       "      <td>1929</td>\n",
       "    </tr>\n",
       "    <tr>\n",
       "      <th>44</th>\n",
       "      <td>Team 45</td>\n",
       "      <td>1929</td>\n",
       "    </tr>\n",
       "    <tr>\n",
       "      <th>51</th>\n",
       "      <td>Team 52</td>\n",
       "      <td>1929</td>\n",
       "    </tr>\n",
       "    <tr>\n",
       "      <th>53</th>\n",
       "      <td>Team 54</td>\n",
       "      <td>1929</td>\n",
       "    </tr>\n",
       "  </tbody>\n",
       "</table>\n",
       "</div>"
      ],
      "text/plain": [
       "       Team  TeamLaunch\n",
       "0    Team 1        1929\n",
       "1    Team 2        1929\n",
       "2    Team 3        1929\n",
       "4    Team 5        1929\n",
       "6    Team 7        1929\n",
       "7    Team 8        1929\n",
       "13  Team 14        1929\n",
       "44  Team 45        1929\n",
       "51  Team 52        1929\n",
       "53  Team 54        1929"
      ]
     },
     "execution_count": 44,
     "metadata": {},
     "output_type": "execute_result"
    }
   ],
   "source": [
    "oldest_teams = basketball[basketball[\"TeamLaunch\"] == basketball[\"TeamLaunch\"].min()]\n",
    "oldest_teams[[\"Team\",\"TeamLaunch\"]]"
   ]
  },
  {
   "cell_type": "markdown",
   "id": "7a5d8de8",
   "metadata": {},
   "source": [
    "##### g. Top 10 Youngest teams"
   ]
  },
  {
   "cell_type": "code",
   "execution_count": 45,
   "id": "b9235f15",
   "metadata": {
    "scrolled": true
   },
   "outputs": [
    {
     "data": {
      "text/html": [
       "<div>\n",
       "<style scoped>\n",
       "    .dataframe tbody tr th:only-of-type {\n",
       "        vertical-align: middle;\n",
       "    }\n",
       "\n",
       "    .dataframe tbody tr th {\n",
       "        vertical-align: top;\n",
       "    }\n",
       "\n",
       "    .dataframe thead th {\n",
       "        text-align: right;\n",
       "    }\n",
       "</style>\n",
       "<table border=\"1\" class=\"dataframe\">\n",
       "  <thead>\n",
       "    <tr style=\"text-align: right;\">\n",
       "      <th></th>\n",
       "      <th>Team</th>\n",
       "      <th>TeamLaunch</th>\n",
       "    </tr>\n",
       "  </thead>\n",
       "  <tbody>\n",
       "    <tr>\n",
       "      <th>60</th>\n",
       "      <td>Team 61</td>\n",
       "      <td>2017</td>\n",
       "    </tr>\n",
       "    <tr>\n",
       "      <th>55</th>\n",
       "      <td>Team 56</td>\n",
       "      <td>2016</td>\n",
       "    </tr>\n",
       "    <tr>\n",
       "      <th>43</th>\n",
       "      <td>Team 44</td>\n",
       "      <td>2014</td>\n",
       "    </tr>\n",
       "    <tr>\n",
       "      <th>56</th>\n",
       "      <td>Team 57</td>\n",
       "      <td>2009</td>\n",
       "    </tr>\n",
       "    <tr>\n",
       "      <th>36</th>\n",
       "      <td>Team 37</td>\n",
       "      <td>2007</td>\n",
       "    </tr>\n",
       "    <tr>\n",
       "      <th>24</th>\n",
       "      <td>Team 25</td>\n",
       "      <td>2004</td>\n",
       "    </tr>\n",
       "    <tr>\n",
       "      <th>42</th>\n",
       "      <td>Team 43</td>\n",
       "      <td>1999</td>\n",
       "    </tr>\n",
       "    <tr>\n",
       "      <th>20</th>\n",
       "      <td>Team 21</td>\n",
       "      <td>1998</td>\n",
       "    </tr>\n",
       "    <tr>\n",
       "      <th>47</th>\n",
       "      <td>Team 48</td>\n",
       "      <td>1996</td>\n",
       "    </tr>\n",
       "    <tr>\n",
       "      <th>48</th>\n",
       "      <td>Team 49</td>\n",
       "      <td>1995</td>\n",
       "    </tr>\n",
       "  </tbody>\n",
       "</table>\n",
       "</div>"
      ],
      "text/plain": [
       "       Team  TeamLaunch\n",
       "60  Team 61        2017\n",
       "55  Team 56        2016\n",
       "43  Team 44        2014\n",
       "56  Team 57        2009\n",
       "36  Team 37        2007\n",
       "24  Team 25        2004\n",
       "42  Team 43        1999\n",
       "20  Team 21        1998\n",
       "47  Team 48        1996\n",
       "48  Team 49        1995"
      ]
     },
     "execution_count": 45,
     "metadata": {},
     "output_type": "execute_result"
    }
   ],
   "source": [
    "basketball[[\"Team\",\"TeamLaunch\"]].sort_values(\"TeamLaunch\", ascending=False).head(10)"
   ]
  },
  {
   "cell_type": "code",
   "execution_count": 46,
   "id": "824a3e4f",
   "metadata": {},
   "outputs": [],
   "source": [
    "basketball[\"TeamCategory\"] = (pd.qcut(basketball[\"TeamLaunch\"], 2, labels=[\"Old\",\"New\"]));"
   ]
  },
  {
   "cell_type": "code",
   "execution_count": 47,
   "id": "4b70bfc2",
   "metadata": {
    "scrolled": true
   },
   "outputs": [
    {
     "data": {
      "image/png": "[encoded data removed]",
      "text/plain": [
       "<Figure size 1800x360 with 1 Axes>"
      ]
     },
     "metadata": {
      "needs_background": "light"
     },
     "output_type": "display_data"
    }
   ],
   "source": [
    "plt.figure(figsize=(25,5))\n",
    "sns.countplot(x=\"TeamLaunch\",hue=\"TeamCategory\",data = basketball)\n",
    "plt.show()"
   ]
  },
  {
   "cell_type": "markdown",
   "id": "83f69f41",
   "metadata": {},
   "source": [
    "##### h. Old team with least winPercentage"
   ]
  },
  {
   "cell_type": "code",
   "execution_count": 48,
   "id": "d8791baa",
   "metadata": {
    "scrolled": true
   },
   "outputs": [
    {
     "data": {
      "text/html": [
       "<div>\n",
       "<style scoped>\n",
       "    .dataframe tbody tr th:only-of-type {\n",
       "        vertical-align: middle;\n",
       "    }\n",
       "\n",
       "    .dataframe tbody tr th {\n",
       "        vertical-align: top;\n",
       "    }\n",
       "\n",
       "    .dataframe thead th {\n",
       "        text-align: right;\n",
       "    }\n",
       "</style>\n",
       "<table border=\"1\" class=\"dataframe\">\n",
       "  <thead>\n",
       "    <tr style=\"text-align: right;\">\n",
       "      <th></th>\n",
       "      <th>Team</th>\n",
       "      <th>TeamCategory</th>\n",
       "      <th>WinPercentage</th>\n",
       "    </tr>\n",
       "  </thead>\n",
       "  <tbody>\n",
       "    <tr>\n",
       "      <th>54</th>\n",
       "      <td>Team 55</td>\n",
       "      <td>Old</td>\n",
       "      <td>19.117647</td>\n",
       "    </tr>\n",
       "    <tr>\n",
       "      <th>58</th>\n",
       "      <td>Team 59</td>\n",
       "      <td>Old</td>\n",
       "      <td>23.333333</td>\n",
       "    </tr>\n",
       "    <tr>\n",
       "      <th>27</th>\n",
       "      <td>Team 28</td>\n",
       "      <td>Old</td>\n",
       "      <td>24.744027</td>\n",
       "    </tr>\n",
       "    <tr>\n",
       "      <th>49</th>\n",
       "      <td>Team 50</td>\n",
       "      <td>Old</td>\n",
       "      <td>27.777778</td>\n",
       "    </tr>\n",
       "    <tr>\n",
       "      <th>51</th>\n",
       "      <td>Team 52</td>\n",
       "      <td>Old</td>\n",
       "      <td>29.166667</td>\n",
       "    </tr>\n",
       "    <tr>\n",
       "      <th>25</th>\n",
       "      <td>Team 26</td>\n",
       "      <td>Old</td>\n",
       "      <td>29.299363</td>\n",
       "    </tr>\n",
       "    <tr>\n",
       "      <th>46</th>\n",
       "      <td>Team 47</td>\n",
       "      <td>Old</td>\n",
       "      <td>29.310345</td>\n",
       "    </tr>\n",
       "    <tr>\n",
       "      <th>21</th>\n",
       "      <td>Team 22</td>\n",
       "      <td>Old</td>\n",
       "      <td>29.380054</td>\n",
       "    </tr>\n",
       "    <tr>\n",
       "      <th>31</th>\n",
       "      <td>Team 32</td>\n",
       "      <td>Old</td>\n",
       "      <td>30.281690</td>\n",
       "    </tr>\n",
       "    <tr>\n",
       "      <th>34</th>\n",
       "      <td>Team 35</td>\n",
       "      <td>Old</td>\n",
       "      <td>30.838323</td>\n",
       "    </tr>\n",
       "  </tbody>\n",
       "</table>\n",
       "</div>"
      ],
      "text/plain": [
       "       Team TeamCategory  WinPercentage\n",
       "54  Team 55          Old      19.117647\n",
       "58  Team 59          Old      23.333333\n",
       "27  Team 28          Old      24.744027\n",
       "49  Team 50          Old      27.777778\n",
       "51  Team 52          Old      29.166667\n",
       "25  Team 26          Old      29.299363\n",
       "46  Team 47          Old      29.310345\n",
       "21  Team 22          Old      29.380054\n",
       "31  Team 32          Old      30.281690\n",
       "34  Team 35          Old      30.838323"
      ]
     },
     "execution_count": 48,
     "metadata": {},
     "output_type": "execute_result"
    }
   ],
   "source": [
    "old_team = basketball.loc[basketball[\"TeamCategory\"]=='Old'].sort_values([\"WinPercentage\"],ascending=[True])\n",
    "old_team[[\"Team\",\"TeamCategory\",\"WinPercentage\"]].head(10)"
   ]
  },
  {
   "cell_type": "markdown",
   "id": "04ca15c9",
   "metadata": {},
   "source": [
    "##### i. Top 10 teams with highest win ratio"
   ]
  },
  {
   "cell_type": "code",
   "execution_count": 49,
   "id": "c13bc2b8",
   "metadata": {},
   "outputs": [
    {
     "data": {
      "text/html": [
       "<div>\n",
       "<style scoped>\n",
       "    .dataframe tbody tr th:only-of-type {\n",
       "        vertical-align: middle;\n",
       "    }\n",
       "\n",
       "    .dataframe tbody tr th {\n",
       "        vertical-align: top;\n",
       "    }\n",
       "\n",
       "    .dataframe thead th {\n",
       "        text-align: right;\n",
       "    }\n",
       "</style>\n",
       "<table border=\"1\" class=\"dataframe\">\n",
       "  <thead>\n",
       "    <tr style=\"text-align: right;\">\n",
       "      <th></th>\n",
       "      <th>Team</th>\n",
       "      <th>TeamCategory</th>\n",
       "      <th>Win-Loss</th>\n",
       "    </tr>\n",
       "  </thead>\n",
       "  <tbody>\n",
       "    <tr>\n",
       "      <th>0</th>\n",
       "      <td>Team 1</td>\n",
       "      <td>Old</td>\n",
       "      <td>2.925400</td>\n",
       "    </tr>\n",
       "    <tr>\n",
       "      <th>1</th>\n",
       "      <td>Team 2</td>\n",
       "      <td>Old</td>\n",
       "      <td>2.600329</td>\n",
       "    </tr>\n",
       "    <tr>\n",
       "      <th>2</th>\n",
       "      <td>Team 3</td>\n",
       "      <td>Old</td>\n",
       "      <td>1.601290</td>\n",
       "    </tr>\n",
       "    <tr>\n",
       "      <th>3</th>\n",
       "      <td>Team 4</td>\n",
       "      <td>Old</td>\n",
       "      <td>1.378630</td>\n",
       "    </tr>\n",
       "    <tr>\n",
       "      <th>4</th>\n",
       "      <td>Team 5</td>\n",
       "      <td>Old</td>\n",
       "      <td>1.314130</td>\n",
       "    </tr>\n",
       "    <tr>\n",
       "      <th>20</th>\n",
       "      <td>Team 21</td>\n",
       "      <td>New</td>\n",
       "      <td>1.278846</td>\n",
       "    </tr>\n",
       "    <tr>\n",
       "      <th>5</th>\n",
       "      <td>Team 6</td>\n",
       "      <td>Old</td>\n",
       "      <td>1.116122</td>\n",
       "    </tr>\n",
       "    <tr>\n",
       "      <th>7</th>\n",
       "      <td>Team 8</td>\n",
       "      <td>Old</td>\n",
       "      <td>1.003484</td>\n",
       "    </tr>\n",
       "    <tr>\n",
       "      <th>10</th>\n",
       "      <td>Team 11</td>\n",
       "      <td>Old</td>\n",
       "      <td>0.979130</td>\n",
       "    </tr>\n",
       "    <tr>\n",
       "      <th>8</th>\n",
       "      <td>Team 9</td>\n",
       "      <td>Old</td>\n",
       "      <td>0.911227</td>\n",
       "    </tr>\n",
       "  </tbody>\n",
       "</table>\n",
       "</div>"
      ],
      "text/plain": [
       "       Team TeamCategory  Win-Loss\n",
       "0    Team 1          Old  2.925400\n",
       "1    Team 2          Old  2.600329\n",
       "2    Team 3          Old  1.601290\n",
       "3    Team 4          Old  1.378630\n",
       "4    Team 5          Old  1.314130\n",
       "20  Team 21          New  1.278846\n",
       "5    Team 6          Old  1.116122\n",
       "7    Team 8          Old  1.003484\n",
       "10  Team 11          Old  0.979130\n",
       "8    Team 9          Old  0.911227"
      ]
     },
     "execution_count": 49,
     "metadata": {},
     "output_type": "execute_result"
    }
   ],
   "source": [
    "basketball[[\"Team\",\"TeamCategory\",\"Win-Loss\"]].sort_values(\"Win-Loss\", ascending=False).head(10)"
   ]
  },
  {
   "cell_type": "markdown",
   "id": "478e28af",
   "metadata": {},
   "source": [
    "##### j. Top 10 teams with the least win ratio"
   ]
  },
  {
   "cell_type": "code",
   "execution_count": 50,
   "id": "cb67795c",
   "metadata": {},
   "outputs": [
    {
     "data": {
      "text/html": [
       "<div>\n",
       "<style scoped>\n",
       "    .dataframe tbody tr th:only-of-type {\n",
       "        vertical-align: middle;\n",
       "    }\n",
       "\n",
       "    .dataframe tbody tr th {\n",
       "        vertical-align: top;\n",
       "    }\n",
       "\n",
       "    .dataframe thead th {\n",
       "        text-align: right;\n",
       "    }\n",
       "</style>\n",
       "<table border=\"1\" class=\"dataframe\">\n",
       "  <thead>\n",
       "    <tr style=\"text-align: right;\">\n",
       "      <th></th>\n",
       "      <th>Team</th>\n",
       "      <th>TeamCategory</th>\n",
       "      <th>Win-Loss</th>\n",
       "    </tr>\n",
       "  </thead>\n",
       "  <tbody>\n",
       "    <tr>\n",
       "      <th>59</th>\n",
       "      <td>Team 60</td>\n",
       "      <td>New</td>\n",
       "      <td>0.238095</td>\n",
       "    </tr>\n",
       "    <tr>\n",
       "      <th>54</th>\n",
       "      <td>Team 55</td>\n",
       "      <td>Old</td>\n",
       "      <td>0.317073</td>\n",
       "    </tr>\n",
       "    <tr>\n",
       "      <th>58</th>\n",
       "      <td>Team 59</td>\n",
       "      <td>Old</td>\n",
       "      <td>0.388889</td>\n",
       "    </tr>\n",
       "    <tr>\n",
       "      <th>56</th>\n",
       "      <td>Team 57</td>\n",
       "      <td>New</td>\n",
       "      <td>0.400000</td>\n",
       "    </tr>\n",
       "    <tr>\n",
       "      <th>55</th>\n",
       "      <td>Team 56</td>\n",
       "      <td>New</td>\n",
       "      <td>0.421053</td>\n",
       "    </tr>\n",
       "    <tr>\n",
       "      <th>57</th>\n",
       "      <td>Team 58</td>\n",
       "      <td>New</td>\n",
       "      <td>0.466667</td>\n",
       "    </tr>\n",
       "    <tr>\n",
       "      <th>42</th>\n",
       "      <td>Team 43</td>\n",
       "      <td>New</td>\n",
       "      <td>0.474359</td>\n",
       "    </tr>\n",
       "    <tr>\n",
       "      <th>32</th>\n",
       "      <td>Team 33</td>\n",
       "      <td>New</td>\n",
       "      <td>0.479263</td>\n",
       "    </tr>\n",
       "    <tr>\n",
       "      <th>49</th>\n",
       "      <td>Team 50</td>\n",
       "      <td>Old</td>\n",
       "      <td>0.483871</td>\n",
       "    </tr>\n",
       "    <tr>\n",
       "      <th>27</th>\n",
       "      <td>Team 28</td>\n",
       "      <td>Old</td>\n",
       "      <td>0.486577</td>\n",
       "    </tr>\n",
       "  </tbody>\n",
       "</table>\n",
       "</div>"
      ],
      "text/plain": [
       "       Team TeamCategory  Win-Loss\n",
       "59  Team 60          New  0.238095\n",
       "54  Team 55          Old  0.317073\n",
       "58  Team 59          Old  0.388889\n",
       "56  Team 57          New  0.400000\n",
       "55  Team 56          New  0.421053\n",
       "57  Team 58          New  0.466667\n",
       "42  Team 43          New  0.474359\n",
       "32  Team 33          New  0.479263\n",
       "49  Team 50          Old  0.483871\n",
       "27  Team 28          Old  0.486577"
      ]
     },
     "execution_count": 50,
     "metadata": {},
     "output_type": "execute_result"
    }
   ],
   "source": [
    "basketball[[\"Team\",\"TeamCategory\",\"Win-Loss\"]].sort_values(\"Win-Loss\", ascending=True).head(10)"
   ]
  },
  {
   "cell_type": "markdown",
   "id": "ee179734",
   "metadata": {},
   "source": [
    "##### k. Top 10 teams which have reached Finals"
   ]
  },
  {
   "cell_type": "code",
   "execution_count": 51,
   "id": "d68c64ce",
   "metadata": {
    "scrolled": true
   },
   "outputs": [
    {
     "data": {
      "text/html": [
       "<div>\n",
       "<style scoped>\n",
       "    .dataframe tbody tr th:only-of-type {\n",
       "        vertical-align: middle;\n",
       "    }\n",
       "\n",
       "    .dataframe tbody tr th {\n",
       "        vertical-align: top;\n",
       "    }\n",
       "\n",
       "    .dataframe thead th {\n",
       "        text-align: right;\n",
       "    }\n",
       "</style>\n",
       "<table border=\"1\" class=\"dataframe\">\n",
       "  <thead>\n",
       "    <tr style=\"text-align: right;\">\n",
       "      <th></th>\n",
       "      <th>Team</th>\n",
       "      <th>TeamCategory</th>\n",
       "      <th>Finals</th>\n",
       "    </tr>\n",
       "  </thead>\n",
       "  <tbody>\n",
       "    <tr>\n",
       "      <th>0</th>\n",
       "      <td>Team 1</td>\n",
       "      <td>Old</td>\n",
       "      <td>56</td>\n",
       "    </tr>\n",
       "    <tr>\n",
       "      <th>1</th>\n",
       "      <td>Team 2</td>\n",
       "      <td>Old</td>\n",
       "      <td>50</td>\n",
       "    </tr>\n",
       "    <tr>\n",
       "      <th>2</th>\n",
       "      <td>Team 3</td>\n",
       "      <td>Old</td>\n",
       "      <td>18</td>\n",
       "    </tr>\n",
       "    <tr>\n",
       "      <th>4</th>\n",
       "      <td>Team 5</td>\n",
       "      <td>Old</td>\n",
       "      <td>15</td>\n",
       "    </tr>\n",
       "    <tr>\n",
       "      <th>3</th>\n",
       "      <td>Team 4</td>\n",
       "      <td>Old</td>\n",
       "      <td>12</td>\n",
       "    </tr>\n",
       "    <tr>\n",
       "      <th>10</th>\n",
       "      <td>Team 11</td>\n",
       "      <td>Old</td>\n",
       "      <td>6</td>\n",
       "    </tr>\n",
       "    <tr>\n",
       "      <th>5</th>\n",
       "      <td>Team 6</td>\n",
       "      <td>Old</td>\n",
       "      <td>5</td>\n",
       "    </tr>\n",
       "    <tr>\n",
       "      <th>7</th>\n",
       "      <td>Team 8</td>\n",
       "      <td>Old</td>\n",
       "      <td>5</td>\n",
       "    </tr>\n",
       "    <tr>\n",
       "      <th>20</th>\n",
       "      <td>Team 21</td>\n",
       "      <td>New</td>\n",
       "      <td>1</td>\n",
       "    </tr>\n",
       "    <tr>\n",
       "      <th>19</th>\n",
       "      <td>Team 20</td>\n",
       "      <td>Old</td>\n",
       "      <td>1</td>\n",
       "    </tr>\n",
       "  </tbody>\n",
       "</table>\n",
       "</div>"
      ],
      "text/plain": [
       "       Team TeamCategory  Finals\n",
       "0    Team 1          Old      56\n",
       "1    Team 2          Old      50\n",
       "2    Team 3          Old      18\n",
       "4    Team 5          Old      15\n",
       "3    Team 4          Old      12\n",
       "10  Team 11          Old       6\n",
       "5    Team 6          Old       5\n",
       "7    Team 8          Old       5\n",
       "20  Team 21          New       1\n",
       "19  Team 20          Old       1"
      ]
     },
     "execution_count": 51,
     "metadata": {},
     "output_type": "execute_result"
    }
   ],
   "source": [
    "basketball[[\"Team\",\"TeamCategory\",\"Finals\"]].sort_values(\"Finals\", ascending=False).head(10)"
   ]
  },
  {
   "cell_type": "code",
   "execution_count": 52,
   "id": "4ef0f0a2",
   "metadata": {},
   "outputs": [
    {
     "data": {
      "text/plain": [
       "<AxesSubplot:xlabel='Team', ylabel='Finals'>"
      ]
     },
     "execution_count": 52,
     "metadata": {},
     "output_type": "execute_result"
    },
    {
     "data": {
      "image/png": "[encoded data removed]",
      "text/plain": [
       "<Figure size 576x288 with 1 Axes>"
      ]
     },
     "metadata": {
      "needs_background": "light"
     },
     "output_type": "display_data"
    }
   ],
   "source": [
    "reached_finals = basketball[[\"Team\",\"Finals\"]].sort_values(\"Finals\", ascending=False).head(10)\n",
    "plt.figure(figsize=(8,4))\n",
    "sns.barplot(reached_finals[\"Team\"], reached_finals[\"Finals\"], color=(0.8,0.8,0.8,0.8), edgecolor=\"blue\")"
   ]
  },
  {
   "cell_type": "markdown",
   "id": "79c29f89",
   "metadata": {},
   "source": [
    "##### l. Top 10 teams with highest Basket ratio"
   ]
  },
  {
   "cell_type": "code",
   "execution_count": 53,
   "id": "26a06e93",
   "metadata": {
    "scrolled": false
   },
   "outputs": [
    {
     "data": {
      "text/html": [
       "<div>\n",
       "<style scoped>\n",
       "    .dataframe tbody tr th:only-of-type {\n",
       "        vertical-align: middle;\n",
       "    }\n",
       "\n",
       "    .dataframe tbody tr th {\n",
       "        vertical-align: top;\n",
       "    }\n",
       "\n",
       "    .dataframe thead th {\n",
       "        text-align: right;\n",
       "    }\n",
       "</style>\n",
       "<table border=\"1\" class=\"dataframe\">\n",
       "  <thead>\n",
       "    <tr style=\"text-align: right;\">\n",
       "      <th></th>\n",
       "      <th>Team</th>\n",
       "      <th>TeamCategory</th>\n",
       "      <th>BasketRatio</th>\n",
       "    </tr>\n",
       "  </thead>\n",
       "  <tbody>\n",
       "    <tr>\n",
       "      <th>1</th>\n",
       "      <td>Team 2</td>\n",
       "      <td>Old</td>\n",
       "      <td>1.894669</td>\n",
       "    </tr>\n",
       "    <tr>\n",
       "      <th>0</th>\n",
       "      <td>Team 1</td>\n",
       "      <td>Old</td>\n",
       "      <td>1.893949</td>\n",
       "    </tr>\n",
       "    <tr>\n",
       "      <th>2</th>\n",
       "      <td>Team 3</td>\n",
       "      <td>Old</td>\n",
       "      <td>1.370202</td>\n",
       "    </tr>\n",
       "    <tr>\n",
       "      <th>3</th>\n",
       "      <td>Team 4</td>\n",
       "      <td>Old</td>\n",
       "      <td>1.267801</td>\n",
       "    </tr>\n",
       "    <tr>\n",
       "      <th>4</th>\n",
       "      <td>Team 5</td>\n",
       "      <td>Old</td>\n",
       "      <td>1.251622</td>\n",
       "    </tr>\n",
       "    <tr>\n",
       "      <th>20</th>\n",
       "      <td>Team 21</td>\n",
       "      <td>New</td>\n",
       "      <td>1.130545</td>\n",
       "    </tr>\n",
       "    <tr>\n",
       "      <th>5</th>\n",
       "      <td>Team 6</td>\n",
       "      <td>Old</td>\n",
       "      <td>1.091017</td>\n",
       "    </tr>\n",
       "    <tr>\n",
       "      <th>7</th>\n",
       "      <td>Team 8</td>\n",
       "      <td>Old</td>\n",
       "      <td>0.999381</td>\n",
       "    </tr>\n",
       "    <tr>\n",
       "      <th>8</th>\n",
       "      <td>Team 9</td>\n",
       "      <td>Old</td>\n",
       "      <td>0.942396</td>\n",
       "    </tr>\n",
       "    <tr>\n",
       "      <th>10</th>\n",
       "      <td>Team 11</td>\n",
       "      <td>Old</td>\n",
       "      <td>0.937843</td>\n",
       "    </tr>\n",
       "  </tbody>\n",
       "</table>\n",
       "</div>"
      ],
      "text/plain": [
       "       Team TeamCategory  BasketRatio\n",
       "1    Team 2          Old     1.894669\n",
       "0    Team 1          Old     1.893949\n",
       "2    Team 3          Old     1.370202\n",
       "3    Team 4          Old     1.267801\n",
       "4    Team 5          Old     1.251622\n",
       "20  Team 21          New     1.130545\n",
       "5    Team 6          Old     1.091017\n",
       "7    Team 8          Old     0.999381\n",
       "8    Team 9          Old     0.942396\n",
       "10  Team 11          Old     0.937843"
      ]
     },
     "execution_count": 53,
     "metadata": {},
     "output_type": "execute_result"
    }
   ],
   "source": [
    "basketball[[\"Team\",\"TeamCategory\",\"BasketRatio\"]].sort_values(\"BasketRatio\", ascending=False).head(10)"
   ]
  },
  {
   "cell_type": "code",
   "execution_count": 54,
   "id": "cd6df91f",
   "metadata": {
    "scrolled": true
   },
   "outputs": [
    {
     "data": {
      "image/png": "[encoded data removed]",
      "text/plain": [
       "<Figure size 864x864 with 11 Axes>"
      ]
     },
     "metadata": {
      "needs_background": "light"
     },
     "output_type": "display_data"
    }
   ],
   "source": [
    "#To understand the skewness\n",
    "\n",
    "Colmn = [\"Tournament\",\"Score\",\"PlayedGames\",\"WonGames\",\"DrawnGames\",\"LostGames\",\"BasketScored\",\"BasketGiven\",\"TournamentChampion\",\"Runner-up\",\"HighestPositionHeld\"]\n",
    "\n",
    "plt.figure(figsize=(12,12))\n",
    "index = 1\n",
    "\n",
    "for col in basketball[Colmn]:\n",
    "    plt.subplot(4,3,index)\n",
    "    sns.distplot(basketball[col], rug=True, kde=True,\n",
    "                 rug_kws={\"color\": \"b\"},\n",
    "                 kde_kws={\"color\": \"g\"},\n",
    "                 hist_kws={\"color\": \"c\"})\n",
    "    index += 1"
   ]
  },
  {
   "cell_type": "markdown",
   "id": "d9cf1724",
   "metadata": {},
   "source": [
    "Observation: It is positively skewed or Right Skewed"
   ]
  },
  {
   "cell_type": "code",
   "execution_count": 55,
   "id": "91b2c768",
   "metadata": {
    "scrolled": true
   },
   "outputs": [
    {
     "data": {
      "image/png": "[encoded data removed]",
      "text/plain": [
       "<Figure size 648x360 with 1 Axes>"
      ]
     },
     "metadata": {
      "needs_background": "light"
     },
     "output_type": "display_data"
    }
   ],
   "source": [
    "#To understand the the data distribution for scores\n",
    "\n",
    "plt.figure(figsize=(9,5))\n",
    "plt.hist(basketball.Score, color=\"grey\")\n",
    "plt.axvline(basketball.Score.mean(), color=\"r\", linewidth=2,)\n",
    "plt.axvline(basketball.Score.median(), color=\"b\", linestyle=\"solid\", linewidth=2)\n",
    "plt.axvline(basketball.Score.mode()[0], color=\"c\", linestyle=\"solid\", linewidth=2);"
   ]
  },
  {
   "cell_type": "markdown",
   "id": "5a6df1bf",
   "metadata": {},
   "source": [
    "Observation: \n",
    "\n",
    "    - Most of the teams have scores between 0 -500\n",
    "    - There are no teams with score between 3500 - 4000"
   ]
  },
  {
   "cell_type": "code",
   "execution_count": 56,
   "id": "b60380cd",
   "metadata": {},
   "outputs": [
    {
     "data": {
      "text/html": [
       "<div>\n",
       "<style scoped>\n",
       "    .dataframe tbody tr th:only-of-type {\n",
       "        vertical-align: middle;\n",
       "    }\n",
       "\n",
       "    .dataframe tbody tr th {\n",
       "        vertical-align: top;\n",
       "    }\n",
       "\n",
       "    .dataframe thead th {\n",
       "        text-align: right;\n",
       "    }\n",
       "</style>\n",
       "<table border=\"1\" class=\"dataframe\">\n",
       "  <thead>\n",
       "    <tr style=\"text-align: right;\">\n",
       "      <th></th>\n",
       "      <th>Tournament</th>\n",
       "      <th>Score</th>\n",
       "      <th>PlayedGames</th>\n",
       "      <th>WonGames</th>\n",
       "      <th>DrawnGames</th>\n",
       "      <th>LostGames</th>\n",
       "      <th>BasketScored</th>\n",
       "      <th>BasketGiven</th>\n",
       "      <th>TournamentChampion</th>\n",
       "      <th>Runner-up</th>\n",
       "      <th>TeamLaunch</th>\n",
       "      <th>HighestPositionHeld</th>\n",
       "      <th>WinPercentage</th>\n",
       "      <th>LostPercentage</th>\n",
       "      <th>Win-Loss</th>\n",
       "      <th>Finals</th>\n",
       "      <th>BasketRatio</th>\n",
       "    </tr>\n",
       "  </thead>\n",
       "  <tbody>\n",
       "    <tr>\n",
       "      <th>Tournament</th>\n",
       "      <td>1.000000</td>\n",
       "      <td>0.981441</td>\n",
       "      <td>0.998677</td>\n",
       "      <td>0.971954</td>\n",
       "      <td>0.989387</td>\n",
       "      <td>0.949863</td>\n",
       "      <td>0.975059</td>\n",
       "      <td>0.987828</td>\n",
       "      <td>0.589072</td>\n",
       "      <td>0.645876</td>\n",
       "      <td>-0.603151</td>\n",
       "      <td>-0.708071</td>\n",
       "      <td>0.819559</td>\n",
       "      <td>-0.761297</td>\n",
       "      <td>0.763787</td>\n",
       "      <td>0.619210</td>\n",
       "      <td>0.807163</td>\n",
       "    </tr>\n",
       "    <tr>\n",
       "      <th>Score</th>\n",
       "      <td>0.981441</td>\n",
       "      <td>1.000000</td>\n",
       "      <td>0.979824</td>\n",
       "      <td>0.997240</td>\n",
       "      <td>0.958452</td>\n",
       "      <td>0.880040</td>\n",
       "      <td>0.996656</td>\n",
       "      <td>0.944263</td>\n",
       "      <td>0.714280</td>\n",
       "      <td>0.764278</td>\n",
       "      <td>-0.543432</td>\n",
       "      <td>-0.669775</td>\n",
       "      <td>0.877385</td>\n",
       "      <td>-0.809566</td>\n",
       "      <td>0.861685</td>\n",
       "      <td>0.742202</td>\n",
       "      <td>0.890528</td>\n",
       "    </tr>\n",
       "    <tr>\n",
       "      <th>PlayedGames</th>\n",
       "      <td>0.998677</td>\n",
       "      <td>0.979824</td>\n",
       "      <td>1.000000</td>\n",
       "      <td>0.967641</td>\n",
       "      <td>0.994053</td>\n",
       "      <td>0.956503</td>\n",
       "      <td>0.970127</td>\n",
       "      <td>0.990129</td>\n",
       "      <td>0.574716</td>\n",
       "      <td>0.632921</td>\n",
       "      <td>-0.587451</td>\n",
       "      <td>-0.710876</td>\n",
       "      <td>0.813179</td>\n",
       "      <td>-0.767913</td>\n",
       "      <td>0.757107</td>\n",
       "      <td>0.605392</td>\n",
       "      <td>0.801258</td>\n",
       "    </tr>\n",
       "    <tr>\n",
       "      <th>WonGames</th>\n",
       "      <td>0.971954</td>\n",
       "      <td>0.997240</td>\n",
       "      <td>0.967641</td>\n",
       "      <td>1.000000</td>\n",
       "      <td>0.939844</td>\n",
       "      <td>0.852785</td>\n",
       "      <td>0.999318</td>\n",
       "      <td>0.926234</td>\n",
       "      <td>0.752204</td>\n",
       "      <td>0.797350</td>\n",
       "      <td>-0.543854</td>\n",
       "      <td>-0.648628</td>\n",
       "      <td>0.884278</td>\n",
       "      <td>-0.802821</td>\n",
       "      <td>0.879755</td>\n",
       "      <td>0.778181</td>\n",
       "      <td>0.902893</td>\n",
       "    </tr>\n",
       "    <tr>\n",
       "      <th>DrawnGames</th>\n",
       "      <td>0.989387</td>\n",
       "      <td>0.958452</td>\n",
       "      <td>0.994053</td>\n",
       "      <td>0.939844</td>\n",
       "      <td>1.000000</td>\n",
       "      <td>0.973156</td>\n",
       "      <td>0.942668</td>\n",
       "      <td>0.992579</td>\n",
       "      <td>0.503472</td>\n",
       "      <td>0.566269</td>\n",
       "      <td>-0.577616</td>\n",
       "      <td>-0.719845</td>\n",
       "      <td>0.774416</td>\n",
       "      <td>-0.757461</td>\n",
       "      <td>0.705724</td>\n",
       "      <td>0.535737</td>\n",
       "      <td>0.757930</td>\n",
       "    </tr>\n",
       "    <tr>\n",
       "      <th>LostGames</th>\n",
       "      <td>0.949863</td>\n",
       "      <td>0.880040</td>\n",
       "      <td>0.956503</td>\n",
       "      <td>0.852785</td>\n",
       "      <td>0.973156</td>\n",
       "      <td>1.000000</td>\n",
       "      <td>0.859169</td>\n",
       "      <td>0.985275</td>\n",
       "      <td>0.325462</td>\n",
       "      <td>0.393211</td>\n",
       "      <td>-0.600513</td>\n",
       "      <td>-0.725149</td>\n",
       "      <td>0.665366</td>\n",
       "      <td>-0.655055</td>\n",
       "      <td>0.551702</td>\n",
       "      <td>0.358720</td>\n",
       "      <td>0.615386</td>\n",
       "    </tr>\n",
       "    <tr>\n",
       "      <th>BasketScored</th>\n",
       "      <td>0.975059</td>\n",
       "      <td>0.996656</td>\n",
       "      <td>0.970127</td>\n",
       "      <td>0.999318</td>\n",
       "      <td>0.942668</td>\n",
       "      <td>0.859169</td>\n",
       "      <td>1.000000</td>\n",
       "      <td>0.931548</td>\n",
       "      <td>0.743144</td>\n",
       "      <td>0.790532</td>\n",
       "      <td>-0.553453</td>\n",
       "      <td>-0.649455</td>\n",
       "      <td>0.879124</td>\n",
       "      <td>-0.795043</td>\n",
       "      <td>0.870959</td>\n",
       "      <td>0.770080</td>\n",
       "      <td>0.897178</td>\n",
       "    </tr>\n",
       "    <tr>\n",
       "      <th>BasketGiven</th>\n",
       "      <td>0.987828</td>\n",
       "      <td>0.944263</td>\n",
       "      <td>0.990129</td>\n",
       "      <td>0.926234</td>\n",
       "      <td>0.992579</td>\n",
       "      <td>0.985275</td>\n",
       "      <td>0.931548</td>\n",
       "      <td>1.000000</td>\n",
       "      <td>0.471824</td>\n",
       "      <td>0.533814</td>\n",
       "      <td>-0.615715</td>\n",
       "      <td>-0.726610</td>\n",
       "      <td>0.757279</td>\n",
       "      <td>-0.717092</td>\n",
       "      <td>0.672901</td>\n",
       "      <td>0.503495</td>\n",
       "      <td>0.724377</td>\n",
       "    </tr>\n",
       "    <tr>\n",
       "      <th>TournamentChampion</th>\n",
       "      <td>0.589072</td>\n",
       "      <td>0.714280</td>\n",
       "      <td>0.574716</td>\n",
       "      <td>0.752204</td>\n",
       "      <td>0.503472</td>\n",
       "      <td>0.325462</td>\n",
       "      <td>0.743144</td>\n",
       "      <td>0.471824</td>\n",
       "      <td>1.000000</td>\n",
       "      <td>0.971552</td>\n",
       "      <td>-0.284878</td>\n",
       "      <td>-0.305397</td>\n",
       "      <td>0.765351</td>\n",
       "      <td>-0.638581</td>\n",
       "      <td>0.917776</td>\n",
       "      <td>0.994134</td>\n",
       "      <td>0.856027</td>\n",
       "    </tr>\n",
       "    <tr>\n",
       "      <th>Runner-up</th>\n",
       "      <td>0.645876</td>\n",
       "      <td>0.764278</td>\n",
       "      <td>0.632921</td>\n",
       "      <td>0.797350</td>\n",
       "      <td>0.566269</td>\n",
       "      <td>0.393211</td>\n",
       "      <td>0.790532</td>\n",
       "      <td>0.533814</td>\n",
       "      <td>0.971552</td>\n",
       "      <td>1.000000</td>\n",
       "      <td>-0.315881</td>\n",
       "      <td>-0.360408</td>\n",
       "      <td>0.801247</td>\n",
       "      <td>-0.677121</td>\n",
       "      <td>0.932008</td>\n",
       "      <td>0.991466</td>\n",
       "      <td>0.889180</td>\n",
       "    </tr>\n",
       "    <tr>\n",
       "      <th>TeamLaunch</th>\n",
       "      <td>-0.603151</td>\n",
       "      <td>-0.543432</td>\n",
       "      <td>-0.587451</td>\n",
       "      <td>-0.543854</td>\n",
       "      <td>-0.577616</td>\n",
       "      <td>-0.600513</td>\n",
       "      <td>-0.553453</td>\n",
       "      <td>-0.615715</td>\n",
       "      <td>-0.284878</td>\n",
       "      <td>-0.315881</td>\n",
       "      <td>1.000000</td>\n",
       "      <td>0.588914</td>\n",
       "      <td>-0.491259</td>\n",
       "      <td>0.201751</td>\n",
       "      <td>-0.361126</td>\n",
       "      <td>-0.301066</td>\n",
       "      <td>-0.381367</td>\n",
       "    </tr>\n",
       "    <tr>\n",
       "      <th>HighestPositionHeld</th>\n",
       "      <td>-0.708071</td>\n",
       "      <td>-0.669775</td>\n",
       "      <td>-0.710876</td>\n",
       "      <td>-0.648628</td>\n",
       "      <td>-0.719845</td>\n",
       "      <td>-0.725149</td>\n",
       "      <td>-0.649455</td>\n",
       "      <td>-0.726610</td>\n",
       "      <td>-0.305397</td>\n",
       "      <td>-0.360408</td>\n",
       "      <td>0.588914</td>\n",
       "      <td>1.000000</td>\n",
       "      <td>-0.737288</td>\n",
       "      <td>0.661382</td>\n",
       "      <td>-0.571122</td>\n",
       "      <td>-0.332695</td>\n",
       "      <td>-0.621877</td>\n",
       "    </tr>\n",
       "    <tr>\n",
       "      <th>WinPercentage</th>\n",
       "      <td>0.819559</td>\n",
       "      <td>0.877385</td>\n",
       "      <td>0.813179</td>\n",
       "      <td>0.884278</td>\n",
       "      <td>0.774416</td>\n",
       "      <td>0.665366</td>\n",
       "      <td>0.879124</td>\n",
       "      <td>0.757279</td>\n",
       "      <td>0.765351</td>\n",
       "      <td>0.801247</td>\n",
       "      <td>-0.491259</td>\n",
       "      <td>-0.737288</td>\n",
       "      <td>1.000000</td>\n",
       "      <td>-0.851444</td>\n",
       "      <td>0.940757</td>\n",
       "      <td>0.787199</td>\n",
       "      <td>0.950213</td>\n",
       "    </tr>\n",
       "    <tr>\n",
       "      <th>LostPercentage</th>\n",
       "      <td>-0.761297</td>\n",
       "      <td>-0.809566</td>\n",
       "      <td>-0.767913</td>\n",
       "      <td>-0.802821</td>\n",
       "      <td>-0.757461</td>\n",
       "      <td>-0.655055</td>\n",
       "      <td>-0.795043</td>\n",
       "      <td>-0.717092</td>\n",
       "      <td>-0.638581</td>\n",
       "      <td>-0.677121</td>\n",
       "      <td>0.201751</td>\n",
       "      <td>0.661382</td>\n",
       "      <td>-0.851444</td>\n",
       "      <td>1.000000</td>\n",
       "      <td>-0.852218</td>\n",
       "      <td>-0.660733</td>\n",
       "      <td>-0.865963</td>\n",
       "    </tr>\n",
       "    <tr>\n",
       "      <th>Win-Loss</th>\n",
       "      <td>0.763787</td>\n",
       "      <td>0.861685</td>\n",
       "      <td>0.757107</td>\n",
       "      <td>0.879755</td>\n",
       "      <td>0.705724</td>\n",
       "      <td>0.551702</td>\n",
       "      <td>0.870959</td>\n",
       "      <td>0.672901</td>\n",
       "      <td>0.917776</td>\n",
       "      <td>0.932008</td>\n",
       "      <td>-0.361126</td>\n",
       "      <td>-0.571122</td>\n",
       "      <td>0.940757</td>\n",
       "      <td>-0.852218</td>\n",
       "      <td>1.000000</td>\n",
       "      <td>0.930818</td>\n",
       "      <td>0.976042</td>\n",
       "    </tr>\n",
       "    <tr>\n",
       "      <th>Finals</th>\n",
       "      <td>0.619210</td>\n",
       "      <td>0.742202</td>\n",
       "      <td>0.605392</td>\n",
       "      <td>0.778181</td>\n",
       "      <td>0.535737</td>\n",
       "      <td>0.358720</td>\n",
       "      <td>0.770080</td>\n",
       "      <td>0.503495</td>\n",
       "      <td>0.994134</td>\n",
       "      <td>0.991466</td>\n",
       "      <td>-0.301066</td>\n",
       "      <td>-0.332695</td>\n",
       "      <td>0.787199</td>\n",
       "      <td>-0.660733</td>\n",
       "      <td>0.930818</td>\n",
       "      <td>1.000000</td>\n",
       "      <td>0.877269</td>\n",
       "    </tr>\n",
       "    <tr>\n",
       "      <th>BasketRatio</th>\n",
       "      <td>0.807163</td>\n",
       "      <td>0.890528</td>\n",
       "      <td>0.801258</td>\n",
       "      <td>0.902893</td>\n",
       "      <td>0.757930</td>\n",
       "      <td>0.615386</td>\n",
       "      <td>0.897178</td>\n",
       "      <td>0.724377</td>\n",
       "      <td>0.856027</td>\n",
       "      <td>0.889180</td>\n",
       "      <td>-0.381367</td>\n",
       "      <td>-0.621877</td>\n",
       "      <td>0.950213</td>\n",
       "      <td>-0.865963</td>\n",
       "      <td>0.976042</td>\n",
       "      <td>0.877269</td>\n",
       "      <td>1.000000</td>\n",
       "    </tr>\n",
       "  </tbody>\n",
       "</table>\n",
       "</div>"
      ],
      "text/plain": [
       "                     Tournament     Score  PlayedGames  WonGames  DrawnGames  \\\n",
       "Tournament             1.000000  0.981441     0.998677  0.971954    0.989387   \n",
       "Score                  0.981441  1.000000     0.979824  0.997240    0.958452   \n",
       "PlayedGames            0.998677  0.979824     1.000000  0.967641    0.994053   \n",
       "WonGames               0.971954  0.997240     0.967641  1.000000    0.939844   \n",
       "DrawnGames             0.989387  0.958452     0.994053  0.939844    1.000000   \n",
       "LostGames              0.949863  0.880040     0.956503  0.852785    0.973156   \n",
       "BasketScored           0.975059  0.996656     0.970127  0.999318    0.942668   \n",
       "BasketGiven            0.987828  0.944263     0.990129  0.926234    0.992579   \n",
       "TournamentChampion     0.589072  0.714280     0.574716  0.752204    0.503472   \n",
       "Runner-up              0.645876  0.764278     0.632921  0.797350    0.566269   \n",
       "TeamLaunch            -0.603151 -0.543432    -0.587451 -0.543854   -0.577616   \n",
       "HighestPositionHeld   -0.708071 -0.669775    -0.710876 -0.648628   -0.719845   \n",
       "WinPercentage          0.819559  0.877385     0.813179  0.884278    0.774416   \n",
       "LostPercentage        -0.761297 -0.809566    -0.767913 -0.802821   -0.757461   \n",
       "Win-Loss               0.763787  0.861685     0.757107  0.879755    0.705724   \n",
       "Finals                 0.619210  0.742202     0.605392  0.778181    0.535737   \n",
       "BasketRatio            0.807163  0.890528     0.801258  0.902893    0.757930   \n",
       "\n",
       "                     LostGames  BasketScored  BasketGiven  TournamentChampion  \\\n",
       "Tournament            0.949863      0.975059     0.987828            0.589072   \n",
       "Score                 0.880040      0.996656     0.944263            0.714280   \n",
       "PlayedGames           0.956503      0.970127     0.990129            0.574716   \n",
       "WonGames              0.852785      0.999318     0.926234            0.752204   \n",
       "DrawnGames            0.973156      0.942668     0.992579            0.503472   \n",
       "LostGames             1.000000      0.859169     0.985275            0.325462   \n",
       "BasketScored          0.859169      1.000000     0.931548            0.743144   \n",
       "BasketGiven           0.985275      0.931548     1.000000            0.471824   \n",
       "TournamentChampion    0.325462      0.743144     0.471824            1.000000   \n",
       "Runner-up             0.393211      0.790532     0.533814            0.971552   \n",
       "TeamLaunch           -0.600513     -0.553453    -0.615715           -0.284878   \n",
       "HighestPositionHeld  -0.725149     -0.649455    -0.726610           -0.305397   \n",
       "WinPercentage         0.665366      0.879124     0.757279            0.765351   \n",
       "LostPercentage       -0.655055     -0.795043    -0.717092           -0.638581   \n",
       "Win-Loss              0.551702      0.870959     0.672901            0.917776   \n",
       "Finals                0.358720      0.770080     0.503495            0.994134   \n",
       "BasketRatio           0.615386      0.897178     0.724377            0.856027   \n",
       "\n",
       "                     Runner-up  TeamLaunch  HighestPositionHeld  \\\n",
       "Tournament            0.645876   -0.603151            -0.708071   \n",
       "Score                 0.764278   -0.543432            -0.669775   \n",
       "PlayedGames           0.632921   -0.587451            -0.710876   \n",
       "WonGames              0.797350   -0.543854            -0.648628   \n",
       "DrawnGames            0.566269   -0.577616            -0.719845   \n",
       "LostGames             0.393211   -0.600513            -0.725149   \n",
       "BasketScored          0.790532   -0.553453            -0.649455   \n",
       "BasketGiven           0.533814   -0.615715            -0.726610   \n",
       "TournamentChampion    0.971552   -0.284878            -0.305397   \n",
       "Runner-up             1.000000   -0.315881            -0.360408   \n",
       "TeamLaunch           -0.315881    1.000000             0.588914   \n",
       "HighestPositionHeld  -0.360408    0.588914             1.000000   \n",
       "WinPercentage         0.801247   -0.491259            -0.737288   \n",
       "LostPercentage       -0.677121    0.201751             0.661382   \n",
       "Win-Loss              0.932008   -0.361126            -0.571122   \n",
       "Finals                0.991466   -0.301066            -0.332695   \n",
       "BasketRatio           0.889180   -0.381367            -0.621877   \n",
       "\n",
       "                     WinPercentage  LostPercentage  Win-Loss    Finals  \\\n",
       "Tournament                0.819559       -0.761297  0.763787  0.619210   \n",
       "Score                     0.877385       -0.809566  0.861685  0.742202   \n",
       "PlayedGames               0.813179       -0.767913  0.757107  0.605392   \n",
       "WonGames                  0.884278       -0.802821  0.879755  0.778181   \n",
       "DrawnGames                0.774416       -0.757461  0.705724  0.535737   \n",
       "LostGames                 0.665366       -0.655055  0.551702  0.358720   \n",
       "BasketScored              0.879124       -0.795043  0.870959  0.770080   \n",
       "BasketGiven               0.757279       -0.717092  0.672901  0.503495   \n",
       "TournamentChampion        0.765351       -0.638581  0.917776  0.994134   \n",
       "Runner-up                 0.801247       -0.677121  0.932008  0.991466   \n",
       "TeamLaunch               -0.491259        0.201751 -0.361126 -0.301066   \n",
       "HighestPositionHeld      -0.737288        0.661382 -0.571122 -0.332695   \n",
       "WinPercentage             1.000000       -0.851444  0.940757  0.787199   \n",
       "LostPercentage           -0.851444        1.000000 -0.852218 -0.660733   \n",
       "Win-Loss                  0.940757       -0.852218  1.000000  0.930818   \n",
       "Finals                    0.787199       -0.660733  0.930818  1.000000   \n",
       "BasketRatio               0.950213       -0.865963  0.976042  0.877269   \n",
       "\n",
       "                     BasketRatio  \n",
       "Tournament              0.807163  \n",
       "Score                   0.890528  \n",
       "PlayedGames             0.801258  \n",
       "WonGames                0.902893  \n",
       "DrawnGames              0.757930  \n",
       "LostGames               0.615386  \n",
       "BasketScored            0.897178  \n",
       "BasketGiven             0.724377  \n",
       "TournamentChampion      0.856027  \n",
       "Runner-up               0.889180  \n",
       "TeamLaunch             -0.381367  \n",
       "HighestPositionHeld    -0.621877  \n",
       "WinPercentage           0.950213  \n",
       "LostPercentage         -0.865963  \n",
       "Win-Loss                0.976042  \n",
       "Finals                  0.877269  \n",
       "BasketRatio             1.000000  "
      ]
     },
     "execution_count": 56,
     "metadata": {},
     "output_type": "execute_result"
    }
   ],
   "source": [
    "basketball.corr()"
   ]
  },
  {
   "cell_type": "code",
   "execution_count": 57,
   "id": "7888f90f",
   "metadata": {},
   "outputs": [
    {
     "data": {
      "image/png": "[encoded data removed]",
      "text/plain": [
       "<Figure size 720x360 with 2 Axes>"
      ]
     },
     "metadata": {
      "needs_background": "light"
     },
     "output_type": "display_data"
    }
   ],
   "source": [
    "plt.figure(figsize=(10,5))\n",
    "corrmat = basketball.corr(method=\"pearson\")\n",
    "sns.heatmap(corrmat, cmap=\"YlGnBu\", fmt='.2f',annot=True)\n",
    "plt.show();"
   ]
  },
  {
   "cell_type": "markdown",
   "id": "282c7999",
   "metadata": {},
   "source": [
    "Observation : Highly correlated data"
   ]
  },
  {
   "cell_type": "code",
   "execution_count": 58,
   "id": "e6627d88",
   "metadata": {
    "scrolled": true
   },
   "outputs": [
    {
     "data": {
      "text/plain": [
       "<Figure size 720x360 with 0 Axes>"
      ]
     },
     "metadata": {},
     "output_type": "display_data"
    },
    {
     "data": {
      "image/png": "[encoded data removed]",
      "text/plain": [
       "<Figure size 1800x1800 with 110 Axes>"
      ]
     },
     "metadata": {
      "needs_background": "light"
     },
     "output_type": "display_data"
    }
   ],
   "source": [
    "plt.figure(figsize=(10,5))\n",
    "sns.pairplot(basketball[[\"Score\", \"PlayedGames\", \"WonGames\",\"LostGames\",\"BasketScored\",\"WinPercentage\",\"LostPercentage\",\"Win-Loss\",\"Finals\",\"BasketRatio\"]])\n",
    "plt.show()"
   ]
  },
  {
   "cell_type": "markdown",
   "id": "aa38eeda",
   "metadata": {},
   "source": [
    "#### Report of the performace - Which helps Company X in decision making"
   ]
  },
  {
   "cell_type": "code",
   "execution_count": 59,
   "id": "59f3ed2f",
   "metadata": {
    "scrolled": true
   },
   "outputs": [
    {
     "data": {
      "text/html": [
       "<div>\n",
       "<style scoped>\n",
       "    .dataframe tbody tr th:only-of-type {\n",
       "        vertical-align: middle;\n",
       "    }\n",
       "\n",
       "    .dataframe tbody tr th {\n",
       "        vertical-align: top;\n",
       "    }\n",
       "\n",
       "    .dataframe thead th {\n",
       "        text-align: right;\n",
       "    }\n",
       "</style>\n",
       "<table border=\"1\" class=\"dataframe\">\n",
       "  <thead>\n",
       "    <tr style=\"text-align: right;\">\n",
       "      <th></th>\n",
       "      <th>Team</th>\n",
       "      <th>TeamCategory</th>\n",
       "      <th>WinPercentage</th>\n",
       "      <th>LostPercentage</th>\n",
       "      <th>Win-Loss</th>\n",
       "      <th>BasketRatio</th>\n",
       "      <th>Finals</th>\n",
       "      <th>HighestPositionHeld</th>\n",
       "    </tr>\n",
       "  </thead>\n",
       "  <tbody>\n",
       "    <tr>\n",
       "      <th>0</th>\n",
       "      <td>Team 1</td>\n",
       "      <td>Old</td>\n",
       "      <td>59.630702</td>\n",
       "      <td>20.383780</td>\n",
       "      <td>2.925400</td>\n",
       "      <td>1.893949</td>\n",
       "      <td>56</td>\n",
       "      <td>1</td>\n",
       "    </tr>\n",
       "    <tr>\n",
       "      <th>1</th>\n",
       "      <td>Team 2</td>\n",
       "      <td>Old</td>\n",
       "      <td>57.241130</td>\n",
       "      <td>22.013034</td>\n",
       "      <td>2.600329</td>\n",
       "      <td>1.894669</td>\n",
       "      <td>50</td>\n",
       "      <td>1</td>\n",
       "    </tr>\n",
       "    <tr>\n",
       "      <th>2</th>\n",
       "      <td>Team 3</td>\n",
       "      <td>Old</td>\n",
       "      <td>47.475134</td>\n",
       "      <td>29.648049</td>\n",
       "      <td>1.601290</td>\n",
       "      <td>1.370202</td>\n",
       "      <td>18</td>\n",
       "      <td>1</td>\n",
       "    </tr>\n",
       "    <tr>\n",
       "      <th>3</th>\n",
       "      <td>Team 4</td>\n",
       "      <td>Old</td>\n",
       "      <td>44.557057</td>\n",
       "      <td>32.319820</td>\n",
       "      <td>1.378630</td>\n",
       "      <td>1.267801</td>\n",
       "      <td>12</td>\n",
       "      <td>1</td>\n",
       "    </tr>\n",
       "    <tr>\n",
       "      <th>4</th>\n",
       "      <td>Team 5</td>\n",
       "      <td>Old</td>\n",
       "      <td>43.772629</td>\n",
       "      <td>33.309196</td>\n",
       "      <td>1.314130</td>\n",
       "      <td>1.251622</td>\n",
       "      <td>15</td>\n",
       "      <td>1</td>\n",
       "    </tr>\n",
       "    <tr>\n",
       "      <th>5</th>\n",
       "      <td>Team 6</td>\n",
       "      <td>Old</td>\n",
       "      <td>41.112957</td>\n",
       "      <td>36.835548</td>\n",
       "      <td>1.116122</td>\n",
       "      <td>1.091017</td>\n",
       "      <td>5</td>\n",
       "      <td>1</td>\n",
       "    </tr>\n",
       "    <tr>\n",
       "      <th>6</th>\n",
       "      <td>Team 7</td>\n",
       "      <td>Old</td>\n",
       "      <td>36.100533</td>\n",
       "      <td>40.746382</td>\n",
       "      <td>0.885981</td>\n",
       "      <td>0.928002</td>\n",
       "      <td>0</td>\n",
       "      <td>3</td>\n",
       "    </tr>\n",
       "    <tr>\n",
       "      <th>7</th>\n",
       "      <td>Team 8</td>\n",
       "      <td>Old</td>\n",
       "      <td>37.532580</td>\n",
       "      <td>37.402259</td>\n",
       "      <td>1.003484</td>\n",
       "      <td>0.999381</td>\n",
       "      <td>5</td>\n",
       "      <td>1</td>\n",
       "    </tr>\n",
       "    <tr>\n",
       "      <th>8</th>\n",
       "      <td>Team 9</td>\n",
       "      <td>Old</td>\n",
       "      <td>35.146022</td>\n",
       "      <td>38.569990</td>\n",
       "      <td>0.911227</td>\n",
       "      <td>0.942396</td>\n",
       "      <td>1</td>\n",
       "      <td>2</td>\n",
       "    </tr>\n",
       "    <tr>\n",
       "      <th>9</th>\n",
       "      <td>Team 10</td>\n",
       "      <td>Old</td>\n",
       "      <td>35.069444</td>\n",
       "      <td>39.467593</td>\n",
       "      <td>0.888563</td>\n",
       "      <td>0.866372</td>\n",
       "      <td>1</td>\n",
       "      <td>1</td>\n",
       "    </tr>\n",
       "  </tbody>\n",
       "</table>\n",
       "</div>"
      ],
      "text/plain": [
       "      Team TeamCategory  WinPercentage  LostPercentage  Win-Loss  BasketRatio  \\\n",
       "0   Team 1          Old      59.630702       20.383780  2.925400     1.893949   \n",
       "1   Team 2          Old      57.241130       22.013034  2.600329     1.894669   \n",
       "2   Team 3          Old      47.475134       29.648049  1.601290     1.370202   \n",
       "3   Team 4          Old      44.557057       32.319820  1.378630     1.267801   \n",
       "4   Team 5          Old      43.772629       33.309196  1.314130     1.251622   \n",
       "5   Team 6          Old      41.112957       36.835548  1.116122     1.091017   \n",
       "6   Team 7          Old      36.100533       40.746382  0.885981     0.928002   \n",
       "7   Team 8          Old      37.532580       37.402259  1.003484     0.999381   \n",
       "8   Team 9          Old      35.146022       38.569990  0.911227     0.942396   \n",
       "9  Team 10          Old      35.069444       39.467593  0.888563     0.866372   \n",
       "\n",
       "   Finals  HighestPositionHeld  \n",
       "0      56                    1  \n",
       "1      50                    1  \n",
       "2      18                    1  \n",
       "3      12                    1  \n",
       "4      15                    1  \n",
       "5       5                    1  \n",
       "6       0                    3  \n",
       "7       5                    1  \n",
       "8       1                    2  \n",
       "9       1                    1  "
      ]
     },
     "execution_count": 59,
     "metadata": {},
     "output_type": "execute_result"
    }
   ],
   "source": [
    "report = basketball[[\"Team\",\"TeamCategory\", \"WinPercentage\", \"LostPercentage\" , \"Win-Loss\", \"BasketRatio\", \"Finals\", \"HighestPositionHeld\"]]\n",
    "report.head(10)"
   ]
  },
  {
   "cell_type": "code",
   "execution_count": 60,
   "id": "5126c948",
   "metadata": {},
   "outputs": [
    {
     "data": {
      "text/html": [
       "<div>\n",
       "<style scoped>\n",
       "    .dataframe tbody tr th:only-of-type {\n",
       "        vertical-align: middle;\n",
       "    }\n",
       "\n",
       "    .dataframe tbody tr th {\n",
       "        vertical-align: top;\n",
       "    }\n",
       "\n",
       "    .dataframe thead th {\n",
       "        text-align: right;\n",
       "    }\n",
       "</style>\n",
       "<table border=\"1\" class=\"dataframe\">\n",
       "  <thead>\n",
       "    <tr style=\"text-align: right;\">\n",
       "      <th></th>\n",
       "      <th>Team</th>\n",
       "      <th>TeamCategory</th>\n",
       "      <th>WinPercentage</th>\n",
       "      <th>LostPercentage</th>\n",
       "      <th>Win-Loss</th>\n",
       "      <th>BasketRatio</th>\n",
       "      <th>Finals</th>\n",
       "      <th>HighestPositionHeld</th>\n",
       "    </tr>\n",
       "  </thead>\n",
       "  <tbody>\n",
       "    <tr>\n",
       "      <th>51</th>\n",
       "      <td>Team 52</td>\n",
       "      <td>Old</td>\n",
       "      <td>29.166667</td>\n",
       "      <td>51.388889</td>\n",
       "      <td>0.567568</td>\n",
       "      <td>0.831522</td>\n",
       "      <td>0</td>\n",
       "      <td>6</td>\n",
       "    </tr>\n",
       "    <tr>\n",
       "      <th>52</th>\n",
       "      <td>Team 53</td>\n",
       "      <td>New</td>\n",
       "      <td>25.000000</td>\n",
       "      <td>48.529412</td>\n",
       "      <td>0.515152</td>\n",
       "      <td>0.612069</td>\n",
       "      <td>0</td>\n",
       "      <td>10</td>\n",
       "    </tr>\n",
       "    <tr>\n",
       "      <th>53</th>\n",
       "      <td>Team 54</td>\n",
       "      <td>Old</td>\n",
       "      <td>33.333333</td>\n",
       "      <td>55.555556</td>\n",
       "      <td>0.600000</td>\n",
       "      <td>0.740458</td>\n",
       "      <td>0</td>\n",
       "      <td>8</td>\n",
       "    </tr>\n",
       "    <tr>\n",
       "      <th>54</th>\n",
       "      <td>Team 55</td>\n",
       "      <td>Old</td>\n",
       "      <td>19.117647</td>\n",
       "      <td>60.294118</td>\n",
       "      <td>0.317073</td>\n",
       "      <td>0.384615</td>\n",
       "      <td>0</td>\n",
       "      <td>16</td>\n",
       "    </tr>\n",
       "    <tr>\n",
       "      <th>55</th>\n",
       "      <td>Team 56</td>\n",
       "      <td>New</td>\n",
       "      <td>21.052632</td>\n",
       "      <td>50.000000</td>\n",
       "      <td>0.421053</td>\n",
       "      <td>0.654545</td>\n",
       "      <td>0</td>\n",
       "      <td>17</td>\n",
       "    </tr>\n",
       "    <tr>\n",
       "      <th>56</th>\n",
       "      <td>Team 57</td>\n",
       "      <td>New</td>\n",
       "      <td>21.052632</td>\n",
       "      <td>52.631579</td>\n",
       "      <td>0.400000</td>\n",
       "      <td>0.575758</td>\n",
       "      <td>0</td>\n",
       "      <td>20</td>\n",
       "    </tr>\n",
       "    <tr>\n",
       "      <th>57</th>\n",
       "      <td>Team 58</td>\n",
       "      <td>New</td>\n",
       "      <td>23.333333</td>\n",
       "      <td>50.000000</td>\n",
       "      <td>0.466667</td>\n",
       "      <td>0.649123</td>\n",
       "      <td>0</td>\n",
       "      <td>16</td>\n",
       "    </tr>\n",
       "    <tr>\n",
       "      <th>58</th>\n",
       "      <td>Team 59</td>\n",
       "      <td>Old</td>\n",
       "      <td>23.333333</td>\n",
       "      <td>60.000000</td>\n",
       "      <td>0.388889</td>\n",
       "      <td>0.600000</td>\n",
       "      <td>0</td>\n",
       "      <td>16</td>\n",
       "    </tr>\n",
       "    <tr>\n",
       "      <th>59</th>\n",
       "      <td>Team 60</td>\n",
       "      <td>New</td>\n",
       "      <td>16.666667</td>\n",
       "      <td>70.000000</td>\n",
       "      <td>0.238095</td>\n",
       "      <td>0.523077</td>\n",
       "      <td>0</td>\n",
       "      <td>15</td>\n",
       "    </tr>\n",
       "    <tr>\n",
       "      <th>60</th>\n",
       "      <td>Team 61</td>\n",
       "      <td>New</td>\n",
       "      <td>NaN</td>\n",
       "      <td>NaN</td>\n",
       "      <td>NaN</td>\n",
       "      <td>NaN</td>\n",
       "      <td>0</td>\n",
       "      <td>9</td>\n",
       "    </tr>\n",
       "  </tbody>\n",
       "</table>\n",
       "</div>"
      ],
      "text/plain": [
       "       Team TeamCategory  WinPercentage  LostPercentage  Win-Loss  \\\n",
       "51  Team 52          Old      29.166667       51.388889  0.567568   \n",
       "52  Team 53          New      25.000000       48.529412  0.515152   \n",
       "53  Team 54          Old      33.333333       55.555556  0.600000   \n",
       "54  Team 55          Old      19.117647       60.294118  0.317073   \n",
       "55  Team 56          New      21.052632       50.000000  0.421053   \n",
       "56  Team 57          New      21.052632       52.631579  0.400000   \n",
       "57  Team 58          New      23.333333       50.000000  0.466667   \n",
       "58  Team 59          Old      23.333333       60.000000  0.388889   \n",
       "59  Team 60          New      16.666667       70.000000  0.238095   \n",
       "60  Team 61          New            NaN             NaN       NaN   \n",
       "\n",
       "    BasketRatio  Finals  HighestPositionHeld  \n",
       "51     0.831522       0                    6  \n",
       "52     0.612069       0                   10  \n",
       "53     0.740458       0                    8  \n",
       "54     0.384615       0                   16  \n",
       "55     0.654545       0                   17  \n",
       "56     0.575758       0                   20  \n",
       "57     0.649123       0                   16  \n",
       "58     0.600000       0                   16  \n",
       "59     0.523077       0                   15  \n",
       "60          NaN       0                    9  "
      ]
     },
     "execution_count": 60,
     "metadata": {},
     "output_type": "execute_result"
    }
   ],
   "source": [
    "report.tail(10)"
   ]
  },
  {
   "cell_type": "markdown",
   "id": "28132938",
   "metadata": {},
   "source": [
    "Comment -  Considered both Oldest and Youngest team as some of the Oldest team are in contract with the competitor"
   ]
  },
  {
   "cell_type": "markdown",
   "id": "115bd9ad",
   "metadata": {},
   "source": [
    "------"
   ]
  },
  {
   "cell_type": "markdown",
   "id": "265cb9b8",
   "metadata": {},
   "source": [
    "#### 3. Improvements or suggestions to the association management on quality, quantity, variety, velocity, veracity etc. on the data points collected by the association to perform a better data analysis in future."
   ]
  },
  {
   "cell_type": "markdown",
   "id": "69d89441",
   "metadata": {},
   "source": [
    "**Quality** - Incomplete data \n",
    "1. More information could be provided about player to understand the performance\n",
    "2. Information about number of times HighestPositionHeld for particular team is not provided\n",
    "3. Certain datapoints are missing. Example - Team61.\n",
    "4. Dataset is highly correlated. \n",
    "\n",
    "**Quantity** \n",
    "\n",
    "5. We just have 61 rows and 13 columns. \n",
    "\n",
    "**Variety** - We could add more information related to\n",
    "\n",
    "6. Investment plans on teams/players\n",
    "7. Training facilities.\n",
    "8. Hours spent on training.\n",
    "9. Age of the player.\n",
    "10. Is the team still active? Example Team52 & Team54 are old teams but played very less number of games."
   ]
  },
  {
   "cell_type": "markdown",
   "id": "edbed8ea",
   "metadata": {},
   "source": [
    "-------"
   ]
  },
  {
   "cell_type": "markdown",
   "id": "e641d2ee",
   "metadata": {},
   "source": [
    "# Part C"
   ]
  },
  {
   "cell_type": "markdown",
   "id": "c39bc6a5",
   "metadata": {},
   "source": [
    "• **DOMAIN**: Startup ecosystem\n",
    "    \n",
    "• **CONTEXT**: Company X is a EU online publisher focusing on the startups industry. The company specifically reports on the business related to\n",
    "technology news, analysis of emerging trends and profiling of new tech businesses and products. Their event i.e. Startup Battlefield is the world’s\n",
    "pre-eminent startup competition. Startup Battlefield features 15-30 top early stage startups pitching top judges in front of a vast live audience,\n",
    "present in person and online.\n",
    "\n",
    "• **DATA DESCRIPTION**: CompanyX_EU.csv - Each row in the dataset is a Start-up company and the columns describe the company.\n",
    "    \n",
    "• **DATA DICTIONARY**:\n",
    "1. **Startup**: Name of the company\n",
    "2. **Product**: Actual product\n",
    "3. **Funding**: Funds raised by the company in USD\n",
    "4. **Event**: The event the company participated in\n",
    "5. **Result**: Described by Contestant, Finalist, Audience choice, Winner or Runner up\n",
    "6. **OperatingState**: Current status of the company, Operating ,Closed, Acquired or IPO\n",
    "    \n",
    "**Dataset has been downloaded from the internet. All the credit for the dataset goes to the original creator of the data.**\n",
    "\n",
    "• **PROJECT OBJECTIVE**: Analyse the data of the various companies from the given dataset and perform the tasks that are specified in the below\n",
    "steps. Draw insights from the various attributes that are present in the dataset, plot distributions, state hypotheses and draw conclusions from\n",
    "the dataset."
   ]
  },
  {
   "cell_type": "markdown",
   "id": "827468d1",
   "metadata": {},
   "source": [
    "#### 1. Read the CSV file"
   ]
  },
  {
   "cell_type": "code",
   "execution_count": 61,
   "id": "bc3fdb23",
   "metadata": {},
   "outputs": [],
   "source": [
    "data = pd.read_csv(\"D:/Nikhila/PGP - AIML/2. Projects/1. Applied statistics/CompanyX_EU.csv\")"
   ]
  },
  {
   "cell_type": "code",
   "execution_count": 62,
   "id": "a3d9aca8",
   "metadata": {},
   "outputs": [
    {
     "data": {
      "text/plain": [
       "(662, 6)"
      ]
     },
     "execution_count": 62,
     "metadata": {},
     "output_type": "execute_result"
    }
   ],
   "source": [
    "data.shape"
   ]
  },
  {
   "cell_type": "code",
   "execution_count": 63,
   "id": "d8308b76",
   "metadata": {},
   "outputs": [
    {
     "data": {
      "text/html": [
       "<div>\n",
       "<style scoped>\n",
       "    .dataframe tbody tr th:only-of-type {\n",
       "        vertical-align: middle;\n",
       "    }\n",
       "\n",
       "    .dataframe tbody tr th {\n",
       "        vertical-align: top;\n",
       "    }\n",
       "\n",
       "    .dataframe thead th {\n",
       "        text-align: right;\n",
       "    }\n",
       "</style>\n",
       "<table border=\"1\" class=\"dataframe\">\n",
       "  <thead>\n",
       "    <tr style=\"text-align: right;\">\n",
       "      <th></th>\n",
       "      <th>Startup</th>\n",
       "      <th>Product</th>\n",
       "      <th>Funding</th>\n",
       "      <th>Event</th>\n",
       "      <th>Result</th>\n",
       "      <th>OperatingState</th>\n",
       "    </tr>\n",
       "  </thead>\n",
       "  <tbody>\n",
       "    <tr>\n",
       "      <th>0</th>\n",
       "      <td>2600Hz</td>\n",
       "      <td>2600hz.com</td>\n",
       "      <td>NaN</td>\n",
       "      <td>Disrupt SF 2013</td>\n",
       "      <td>Contestant</td>\n",
       "      <td>Operating</td>\n",
       "    </tr>\n",
       "    <tr>\n",
       "      <th>1</th>\n",
       "      <td>3DLT</td>\n",
       "      <td>3dlt.com</td>\n",
       "      <td>$630K</td>\n",
       "      <td>Disrupt NYC 2013</td>\n",
       "      <td>Contestant</td>\n",
       "      <td>Closed</td>\n",
       "    </tr>\n",
       "    <tr>\n",
       "      <th>2</th>\n",
       "      <td>3DPrinterOS</td>\n",
       "      <td>3dprinteros.com</td>\n",
       "      <td>NaN</td>\n",
       "      <td>Disrupt SF 2016</td>\n",
       "      <td>Contestant</td>\n",
       "      <td>Operating</td>\n",
       "    </tr>\n",
       "    <tr>\n",
       "      <th>3</th>\n",
       "      <td>3Dprintler</td>\n",
       "      <td>3dprintler.com</td>\n",
       "      <td>$1M</td>\n",
       "      <td>Disrupt NY 2016</td>\n",
       "      <td>Audience choice</td>\n",
       "      <td>Operating</td>\n",
       "    </tr>\n",
       "    <tr>\n",
       "      <th>4</th>\n",
       "      <td>42 Technologies</td>\n",
       "      <td>42technologies.com</td>\n",
       "      <td>NaN</td>\n",
       "      <td>Disrupt NYC 2013</td>\n",
       "      <td>Contestant</td>\n",
       "      <td>Operating</td>\n",
       "    </tr>\n",
       "  </tbody>\n",
       "</table>\n",
       "</div>"
      ],
      "text/plain": [
       "           Startup             Product Funding             Event  \\\n",
       "0           2600Hz          2600hz.com     NaN   Disrupt SF 2013   \n",
       "1             3DLT            3dlt.com   $630K  Disrupt NYC 2013   \n",
       "2      3DPrinterOS     3dprinteros.com     NaN   Disrupt SF 2016   \n",
       "3       3Dprintler      3dprintler.com     $1M   Disrupt NY 2016   \n",
       "4  42 Technologies  42technologies.com     NaN  Disrupt NYC 2013   \n",
       "\n",
       "            Result OperatingState  \n",
       "0       Contestant      Operating  \n",
       "1       Contestant         Closed  \n",
       "2       Contestant      Operating  \n",
       "3  Audience choice      Operating  \n",
       "4       Contestant      Operating  "
      ]
     },
     "execution_count": 63,
     "metadata": {},
     "output_type": "execute_result"
    }
   ],
   "source": [
    "data.head()"
   ]
  },
  {
   "cell_type": "code",
   "execution_count": 64,
   "id": "7e6c2964",
   "metadata": {},
   "outputs": [
    {
     "data": {
      "text/html": [
       "<div>\n",
       "<style scoped>\n",
       "    .dataframe tbody tr th:only-of-type {\n",
       "        vertical-align: middle;\n",
       "    }\n",
       "\n",
       "    .dataframe tbody tr th {\n",
       "        vertical-align: top;\n",
       "    }\n",
       "\n",
       "    .dataframe thead th {\n",
       "        text-align: right;\n",
       "    }\n",
       "</style>\n",
       "<table border=\"1\" class=\"dataframe\">\n",
       "  <thead>\n",
       "    <tr style=\"text-align: right;\">\n",
       "      <th></th>\n",
       "      <th>Startup</th>\n",
       "      <th>Product</th>\n",
       "      <th>Funding</th>\n",
       "      <th>Event</th>\n",
       "      <th>Result</th>\n",
       "      <th>OperatingState</th>\n",
       "    </tr>\n",
       "  </thead>\n",
       "  <tbody>\n",
       "    <tr>\n",
       "      <th>count</th>\n",
       "      <td>662</td>\n",
       "      <td>656</td>\n",
       "      <td>448</td>\n",
       "      <td>662</td>\n",
       "      <td>662</td>\n",
       "      <td>662</td>\n",
       "    </tr>\n",
       "    <tr>\n",
       "      <th>unique</th>\n",
       "      <td>662</td>\n",
       "      <td>656</td>\n",
       "      <td>240</td>\n",
       "      <td>26</td>\n",
       "      <td>5</td>\n",
       "      <td>4</td>\n",
       "    </tr>\n",
       "    <tr>\n",
       "      <th>top</th>\n",
       "      <td>Tailor Brands</td>\n",
       "      <td>breinify.com</td>\n",
       "      <td>$1M</td>\n",
       "      <td>TC50 2008</td>\n",
       "      <td>Contestant</td>\n",
       "      <td>Operating</td>\n",
       "    </tr>\n",
       "    <tr>\n",
       "      <th>freq</th>\n",
       "      <td>1</td>\n",
       "      <td>1</td>\n",
       "      <td>17</td>\n",
       "      <td>52</td>\n",
       "      <td>488</td>\n",
       "      <td>465</td>\n",
       "    </tr>\n",
       "  </tbody>\n",
       "</table>\n",
       "</div>"
      ],
      "text/plain": [
       "              Startup       Product Funding      Event      Result  \\\n",
       "count             662           656     448        662         662   \n",
       "unique            662           656     240         26           5   \n",
       "top     Tailor Brands  breinify.com     $1M  TC50 2008  Contestant   \n",
       "freq                1             1      17         52         488   \n",
       "\n",
       "       OperatingState  \n",
       "count             662  \n",
       "unique              4  \n",
       "top         Operating  \n",
       "freq              465  "
      ]
     },
     "execution_count": 64,
     "metadata": {},
     "output_type": "execute_result"
    }
   ],
   "source": [
    "data.describe()"
   ]
  },
  {
   "cell_type": "markdown",
   "id": "e6ad0729",
   "metadata": {},
   "source": [
    "#### 2. Data Exploration"
   ]
  },
  {
   "cell_type": "markdown",
   "id": "916cbb72",
   "metadata": {},
   "source": [
    "#### A. Check the datatypes of each attribute"
   ]
  },
  {
   "cell_type": "code",
   "execution_count": 65,
   "id": "394b7835",
   "metadata": {},
   "outputs": [
    {
     "name": "stdout",
     "output_type": "stream",
     "text": [
      "<class 'pandas.core.frame.DataFrame'>\n",
      "RangeIndex: 662 entries, 0 to 661\n",
      "Data columns (total 6 columns):\n",
      " #   Column          Non-Null Count  Dtype \n",
      "---  ------          --------------  ----- \n",
      " 0   Startup         662 non-null    object\n",
      " 1   Product         656 non-null    object\n",
      " 2   Funding         448 non-null    object\n",
      " 3   Event           662 non-null    object\n",
      " 4   Result          662 non-null    object\n",
      " 5   OperatingState  662 non-null    object\n",
      "dtypes: object(6)\n",
      "memory usage: 31.2+ KB\n"
     ]
    }
   ],
   "source": [
    "data.info()"
   ]
  },
  {
   "cell_type": "markdown",
   "id": "c276fc36",
   "metadata": {},
   "source": [
    "#### B. Check for null values in the attributes."
   ]
  },
  {
   "cell_type": "code",
   "execution_count": 66,
   "id": "dceb53f5",
   "metadata": {},
   "outputs": [
    {
     "data": {
      "text/plain": [
       "Startup             0\n",
       "Product             6\n",
       "Funding           214\n",
       "Event               0\n",
       "Result              0\n",
       "OperatingState      0\n",
       "dtype: int64"
      ]
     },
     "execution_count": 66,
     "metadata": {},
     "output_type": "execute_result"
    }
   ],
   "source": [
    "data.isnull().sum()"
   ]
  },
  {
   "cell_type": "markdown",
   "id": "fb61f2e9",
   "metadata": {},
   "source": [
    "Comment - There are 214 null values in Funding & 6 null values in Product"
   ]
  },
  {
   "cell_type": "markdown",
   "id": "9917e231",
   "metadata": {},
   "source": [
    "#### 3. Data preprocessing & visualisation."
   ]
  },
  {
   "cell_type": "markdown",
   "id": "fa0e9c37",
   "metadata": {},
   "source": [
    "##### Keep the original dataset without modification"
   ]
  },
  {
   "cell_type": "code",
   "execution_count": 67,
   "id": "0d63b882",
   "metadata": {},
   "outputs": [],
   "source": [
    "startup = data.copy()"
   ]
  },
  {
   "cell_type": "markdown",
   "id": "d1812937",
   "metadata": {},
   "source": [
    "#### A. Drop the null values.\n"
   ]
  },
  {
   "cell_type": "code",
   "execution_count": 68,
   "id": "ac4a99e3",
   "metadata": {},
   "outputs": [],
   "source": [
    "startup = startup.dropna()"
   ]
  },
  {
   "cell_type": "markdown",
   "id": "2a7bb6db",
   "metadata": {},
   "source": [
    "#### B. Convert the ‘Funding’ features to a numerical value"
   ]
  },
  {
   "cell_type": "code",
   "execution_count": 69,
   "id": "cc658a5f",
   "metadata": {},
   "outputs": [],
   "source": [
    "startup.loc[:,\"Funds_in_million\"] = startup[\"Funding\"].apply(lambda x: float(x[1:-1])/1000 if x[-1] == 'K' else (float(x[1:-1])*1000 if x[-1] == 'B' else float(x[1:-1])))\n",
    "startup = startup.drop([\"Funding\"], axis=1)"
   ]
  },
  {
   "cell_type": "markdown",
   "id": "b60ee8f1",
   "metadata": {},
   "source": [
    "#### C. Plot box plot for funds in million."
   ]
  },
  {
   "cell_type": "code",
   "execution_count": 70,
   "id": "cd63cd49",
   "metadata": {},
   "outputs": [
    {
     "data": {
      "image/png": "[encoded data removed]",
      "text/plain": [
       "<Figure size 432x432 with 1 Axes>"
      ]
     },
     "metadata": {
      "needs_background": "light"
     },
     "output_type": "display_data"
    }
   ],
   "source": [
    "plt.figure(figsize=(6,6))\n",
    "box_plot = plt.boxplot(startup.Funds_in_million)\n",
    "plt.title(\"Boxplot for Funds\")\n",
    "plt.ylabel(\"Funds in Million\")\n",
    "\n",
    "plt.show()"
   ]
  },
  {
   "cell_type": "markdown",
   "id": "2c122808",
   "metadata": {},
   "source": [
    "#### D. Check the number of outliers greater than the upper fence."
   ]
  },
  {
   "cell_type": "code",
   "execution_count": 71,
   "id": "391cb763",
   "metadata": {},
   "outputs": [],
   "source": [
    "def outlier(col):\n",
    "    \n",
    "    #Extract quartiles\n",
    "    q75, q25 = np.percentile(startup[col], [75 ,25])\n",
    "    print(\"Q3=\",q75)\n",
    "    print(\"Q1=\",q25)\n",
    "    \n",
    "    print()\n",
    "    \n",
    "    #Calculate IQR\n",
    "    iqr = q75 - q25\n",
    "    print(\"IQR=\",iqr)\n",
    "    \n",
    "    print()\n",
    "    \n",
    "    #Calculate inner and outer fence\n",
    "    lower_fence = q25 - (iqr*1.5)\n",
    "    upper_fence = q75 + (iqr*1.5)\n",
    "    print(\"Lower Fence=\",lower_fence)\n",
    "    print(\"Upper Fence=\",upper_fence)"
   ]
  },
  {
   "cell_type": "code",
   "execution_count": 72,
   "id": "9fa3380a",
   "metadata": {
    "scrolled": false
   },
   "outputs": [
    {
     "name": "stdout",
     "output_type": "stream",
     "text": [
      "Q3= 9.475\n",
      "Q1= 0.74525\n",
      "\n",
      "IQR= 8.72975\n",
      "\n",
      "Lower Fence= -12.349374999999998\n",
      "Upper Fence= 22.569625\n"
     ]
    }
   ],
   "source": [
    "outlier(\"Funds_in_million\")"
   ]
  },
  {
   "cell_type": "code",
   "execution_count": 73,
   "id": "4446c6fc",
   "metadata": {},
   "outputs": [
    {
     "data": {
      "text/plain": [
       "60"
      ]
     },
     "execution_count": 73,
     "metadata": {},
     "output_type": "execute_result"
    }
   ],
   "source": [
    "sum(startup[\"Funds_in_million\"]>22.569625)"
   ]
  },
  {
   "cell_type": "markdown",
   "id": "0bf4910c",
   "metadata": {},
   "source": [
    "Comment - There are 60 records greater than the upper fence."
   ]
  },
  {
   "cell_type": "markdown",
   "id": "7ae7aa81",
   "metadata": {},
   "source": [
    "We will not remove the 60 records because we dont have lot of data available for further analysis. "
   ]
  },
  {
   "cell_type": "markdown",
   "id": "9de454c5",
   "metadata": {},
   "source": [
    "#### E. Check frequency of the OperatingState features classes."
   ]
  },
  {
   "cell_type": "code",
   "execution_count": 74,
   "id": "5484b9f7",
   "metadata": {
    "scrolled": true
   },
   "outputs": [
    {
     "data": {
      "text/plain": [
       "Operating    319\n",
       "Acquired      66\n",
       "Closed        57\n",
       "Ipo            4\n",
       "Name: OperatingState, dtype: int64"
      ]
     },
     "execution_count": 74,
     "metadata": {},
     "output_type": "execute_result"
    }
   ],
   "source": [
    "startup.OperatingState.value_counts()"
   ]
  },
  {
   "cell_type": "code",
   "execution_count": 75,
   "id": "dd653caf",
   "metadata": {},
   "outputs": [
    {
     "data": {
      "text/plain": [
       "<AxesSubplot:title={'center':'Count of OperatingState'}>"
      ]
     },
     "execution_count": 75,
     "metadata": {},
     "output_type": "execute_result"
    },
    {
     "data": {
      "image/png": "[encoded data removed]",
      "text/plain": [
       "<Figure size 432x288 with 1 Axes>"
      ]
     },
     "metadata": {
      "needs_background": "light"
     },
     "output_type": "display_data"
    }
   ],
   "source": [
    "plt.subplots(figsize=(6,4))\n",
    "plt.title(\"Count of OperatingState\")\n",
    "startup.OperatingState.hist()"
   ]
  },
  {
   "cell_type": "markdown",
   "id": "8ce934dd",
   "metadata": {},
   "source": [
    "#### 4. Statistical Analysis"
   ]
  },
  {
   "cell_type": "markdown",
   "id": "c548f25d",
   "metadata": {},
   "source": [
    "#### Is there any significant difference between Funds raised by companies that are still operating vs companies that closed down?"
   ]
  },
  {
   "cell_type": "markdown",
   "id": "cf2ca920",
   "metadata": {},
   "source": [
    "#### A. Write the null hypothesis and alternative hypothesis."
   ]
  },
  {
   "cell_type": "markdown",
   "id": "a67e3555",
   "metadata": {},
   "source": [
    "**Null hypothesis(Ho)** =  There is no significant difference between the means of Funds raised by companies that are still operating and Funds raised by companies that are closed. (same mean)\n",
    "\n",
    "**Alternate hypothesis(Ha)** = There is significant difference between the means of Funds raised by companies that are still operating and Funds raised by companies that are closed. (different mean)"
   ]
  },
  {
   "cell_type": "markdown",
   "id": "a42eacf3",
   "metadata": {},
   "source": [
    "#### B. Test for significance"
   ]
  },
  {
   "cell_type": "code",
   "execution_count": 76,
   "id": "e68a47e7",
   "metadata": {},
   "outputs": [],
   "source": [
    "# GroupA = Funds raised by companies that are operating\n",
    "operating = startup.loc[startup.OperatingState == \"Operating\", \"Funds_in_million\"]\n",
    "\n",
    "# GroupA = Funds raised by companies that are Closed down\n",
    "closed = startup.loc[startup.OperatingState == \"Closed\", \"Funds_in_million\"]"
   ]
  },
  {
   "cell_type": "code",
   "execution_count": 77,
   "id": "5da8bb5d",
   "metadata": {},
   "outputs": [],
   "source": [
    "#Assumption\n",
    "\n",
    "#level of significance\n",
    "alpha=0.05 "
   ]
  },
  {
   "cell_type": "code",
   "execution_count": 78,
   "id": "821a4889",
   "metadata": {},
   "outputs": [],
   "source": [
    "#Import necessary libraries\n",
    "\n",
    "from scipy.stats import ttest_ind\n",
    "from statsmodels.stats.weightstats import ztest"
   ]
  },
  {
   "cell_type": "markdown",
   "id": "33c3568f",
   "metadata": {},
   "source": [
    "We can Compare the differences in the means by 2 sample \n",
    "1. T test\n",
    "2.  Z test"
   ]
  },
  {
   "cell_type": "markdown",
   "id": "b7126dc4",
   "metadata": {},
   "source": [
    "##### 1. T test"
   ]
  },
  {
   "cell_type": "code",
   "execution_count": 79,
   "id": "febbccc4",
   "metadata": {},
   "outputs": [
    {
     "name": "stdout",
     "output_type": "stream",
     "text": [
      "T-Statistic value = 1.1382924515740138\n",
      "P-Value = 0.25572701885629406\n",
      "\n",
      "Since p-value is greater than alpha, We fail to reject Null Hypothesis\n"
     ]
    }
   ],
   "source": [
    "t_stat, p_value = ttest_ind(operating, closed)\n",
    "print(\"T-Statistic value =\",t_stat)\n",
    "print(\"P-Value =\",p_value)\n",
    "\n",
    "print()\n",
    "\n",
    "if p_value>alpha:\n",
    "    print(\"Since p-value is greater than alpha, We fail to reject Null Hypothesis\")\n",
    "else:\n",
    "    print(\"Since p-value is less than alpha, We reject Null Hypothesis\")"
   ]
  },
  {
   "cell_type": "markdown",
   "id": "84cf7295",
   "metadata": {},
   "source": [
    "##### 2. Z test"
   ]
  },
  {
   "cell_type": "code",
   "execution_count": 80,
   "id": "6aef2dce",
   "metadata": {},
   "outputs": [
    {
     "name": "stdout",
     "output_type": "stream",
     "text": [
      "T-Statistic value = 1.1382924515740138\n",
      "P-Value = 0.25499838490589677\n",
      "\n",
      "Since p-value is greater than alpha, We fail to reject Null Hypothesis.\n"
     ]
    }
   ],
   "source": [
    "t_stat, p_value = ztest(operating, closed)\n",
    "print(\"T-Statistic value =\",t_stat)\n",
    "print(\"P-Value =\",p_value)\n",
    "\n",
    "print()\n",
    "\n",
    "if p_value>alpha:\n",
    "    print(\"Since p-value is greater than alpha, We fail to reject Null Hypothesis.\")\n",
    "else:\n",
    "    print(\"Since p-value is less than alpha, We reject Null Hypothesis.\")"
   ]
  },
  {
   "cell_type": "markdown",
   "id": "15eb9cf8",
   "metadata": {},
   "source": [
    "#### C. Conclusion = There is no significant difference between Funds raised by companies that are still operating vs companies that are closed."
   ]
  },
  {
   "cell_type": "markdown",
   "id": "b3109df1",
   "metadata": {},
   "source": [
    "#### D. Make a copy of the original data frame."
   ]
  },
  {
   "cell_type": "code",
   "execution_count": 81,
   "id": "07717c4f",
   "metadata": {},
   "outputs": [],
   "source": [
    "startup_new = data.copy(deep=True)"
   ]
  },
  {
   "cell_type": "code",
   "execution_count": 82,
   "id": "3dbe694a",
   "metadata": {
    "scrolled": true
   },
   "outputs": [
    {
     "data": {
      "text/plain": [
       "(662, 6)"
      ]
     },
     "execution_count": 82,
     "metadata": {},
     "output_type": "execute_result"
    }
   ],
   "source": [
    "startup_new.shape"
   ]
  },
  {
   "cell_type": "markdown",
   "id": "55f61b08",
   "metadata": {},
   "source": [
    "#### E. Check frequency distribution of Result variables."
   ]
  },
  {
   "cell_type": "code",
   "execution_count": 83,
   "id": "3db69e79",
   "metadata": {},
   "outputs": [
    {
     "data": {
      "text/plain": [
       "Contestant         488\n",
       "Finalist            84\n",
       "Audience choice     41\n",
       "Winner              26\n",
       "Runner up           23\n",
       "Name: Result, dtype: int64"
      ]
     },
     "execution_count": 83,
     "metadata": {},
     "output_type": "execute_result"
    }
   ],
   "source": [
    "startup_new.Result.value_counts()"
   ]
  },
  {
   "cell_type": "code",
   "execution_count": 84,
   "id": "0ccd8589",
   "metadata": {},
   "outputs": [
    {
     "data": {
      "text/plain": [
       "<AxesSubplot:title={'center':'Count of Results'}>"
      ]
     },
     "execution_count": 84,
     "metadata": {},
     "output_type": "execute_result"
    },
    {
     "data": {
      "image/png": "[encoded data removed]",
      "text/plain": [
       "<Figure size 432x288 with 1 Axes>"
      ]
     },
     "metadata": {
      "needs_background": "light"
     },
     "output_type": "display_data"
    }
   ],
   "source": [
    "plt.subplots(figsize=(6,4))\n",
    "plt.title(\"Count of Results\")\n",
    "startup.Result.hist()"
   ]
  },
  {
   "cell_type": "markdown",
   "id": "1f06e483",
   "metadata": {},
   "source": [
    "#### F. Calculate percentage of winners that are still operating and percentage of contestants that are still operating"
   ]
  },
  {
   "cell_type": "code",
   "execution_count": 85,
   "id": "086afb96",
   "metadata": {},
   "outputs": [
    {
     "name": "stdout",
     "output_type": "stream",
     "text": [
      "Percentage of winners that are still operating is: 76.4367816091954\n"
     ]
    }
   ],
   "source": [
    "still_opearting = startup_new[startup_new[\"OperatingState\"]==\"Operating\"]\n",
    "\n",
    "Winner = startup_new[\"Result\"].value_counts()[1:].sum()\n",
    "Winner_operating = still_opearting.Result.value_counts()[1:].sum()\n",
    "\n",
    "print(\"Percentage of winners that are still operating is:\",((Winner_operating/Winner)*100))"
   ]
  },
  {
   "cell_type": "code",
   "execution_count": 86,
   "id": "8f77fbff",
   "metadata": {},
   "outputs": [
    {
     "name": "stdout",
     "output_type": "stream",
     "text": [
      "Percentage of contestants that are still operating is: 68.0327868852459\n"
     ]
    }
   ],
   "source": [
    "Contestant = startup_new[\"Result\"].value_counts()[\"Contestant\"]\n",
    "Contestant_operating = still_opearting.Result.value_counts()[\"Contestant\"]\n",
    "\n",
    "print(\"Percentage of contestants that are still operating is:\",((Contestant_operating/Contestant)*100))"
   ]
  },
  {
   "cell_type": "markdown",
   "id": "3d1a6b07",
   "metadata": {},
   "source": [
    "#### G. Hypothesis comparing the proportion of companies that are operating between winners and contestants:"
   ]
  },
  {
   "cell_type": "markdown",
   "id": "81ea7ea4",
   "metadata": {},
   "source": [
    "**Null hypothesis(Ho)** =  There is no significant difference between the proportion of companies that are operating between winners and contestants. (same proportion)\n",
    "\n",
    "**Alternate hypothesis(Ha)** = There is a significant difference between the proportion of companies that are operating between winners and contestants. (different proportion)"
   ]
  },
  {
   "cell_type": "markdown",
   "id": "484cb49d",
   "metadata": {},
   "source": [
    "#### H. Test for significance and conclusion"
   ]
  },
  {
   "cell_type": "code",
   "execution_count": 87,
   "id": "b85a9af5",
   "metadata": {},
   "outputs": [],
   "source": [
    "#Assumption\n",
    "\n",
    "#level of significance\n",
    "alpha=0.05"
   ]
  },
  {
   "cell_type": "code",
   "execution_count": 88,
   "id": "88bf9453",
   "metadata": {},
   "outputs": [],
   "source": [
    "#Import necessary libraries\n",
    "from statsmodels.stats.proportion import proportions_ztest"
   ]
  },
  {
   "cell_type": "markdown",
   "id": "e56633f3",
   "metadata": {},
   "source": [
    "We can compare the proportions by perfoming z-test for proportions"
   ]
  },
  {
   "cell_type": "code",
   "execution_count": 89,
   "id": "77141706",
   "metadata": {},
   "outputs": [
    {
     "name": "stdout",
     "output_type": "stream",
     "text": [
      "T-Statistic value = -2.0818033900737642\n",
      "P-Value = 0.037360431984547006\n",
      "\n",
      "Since p-value is less than alpha, We reject Null Hypothesis.\n"
     ]
    }
   ],
   "source": [
    "t_stat, p_value = proportions_ztest([Contestant_operating,Winner_operating],[Contestant,Winner])\n",
    "print(\"T-Statistic value =\",t_stat)\n",
    "print(\"P-Value =\",p_value)\n",
    "\n",
    "print()\n",
    "\n",
    "if p_value>alpha:\n",
    "    print(\"Since p-value is greater than alpha, We fail to reject Null Hypothesis.\")\n",
    "else:\n",
    "    print(\"Since p-value is less than alpha, We reject Null Hypothesis.\")"
   ]
  },
  {
   "cell_type": "markdown",
   "id": "7051a8d0",
   "metadata": {},
   "source": [
    "#### Conclusion = There is a significant difference between the proportion of companies that are operating between winners and contestants."
   ]
  },
  {
   "cell_type": "markdown",
   "id": "2a90c692",
   "metadata": {},
   "source": [
    "#### I. Select only the Event that has ‘disrupt’ keyword from 2013 onwards."
   ]
  },
  {
   "cell_type": "code",
   "execution_count": 90,
   "id": "f1c787e9",
   "metadata": {},
   "outputs": [
    {
     "data": {
      "text/plain": [
       "276"
      ]
     },
     "execution_count": 90,
     "metadata": {},
     "output_type": "execute_result"
    }
   ],
   "source": [
    "disrupt_keyword = startup_new[startup_new.Event.apply(lambda x: \"Disrupt\" in x and int(x[-4:]) >= 2013)].Event\n",
    "disrupt_keyword.count()"
   ]
  },
  {
   "cell_type": "code",
   "execution_count": 91,
   "id": "cc66f37d",
   "metadata": {},
   "outputs": [
    {
     "data": {
      "text/plain": [
       "Disrupt NYC 2013       31\n",
       "Disrupt SF 2013        31\n",
       "Disrupt SF 2014        28\n",
       "Disrupt SF 2015        27\n",
       "Disrupt NYC 2014       27\n",
       "Disrupt NY 2015        26\n",
       "Disrupt SF 2016        26\n",
       "Disrupt NY 2016        22\n",
       "Disrupt London 2015    15\n",
       "Disrupt EU 2013        15\n",
       "Disrupt EU 2014        15\n",
       "Disrupt London 2016    13\n",
       "Name: Event, dtype: int64"
      ]
     },
     "execution_count": 91,
     "metadata": {},
     "output_type": "execute_result"
    }
   ],
   "source": [
    "disrupt_keyword.value_counts()"
   ]
  },
  {
   "cell_type": "markdown",
   "id": "e389af94",
   "metadata": {},
   "source": [
    "-----"
   ]
  }
 ],
 "metadata": {
  "kernelspec": {
   "display_name": "Python 3",
   "language": "python",
   "name": "python3"
  },
  "language_info": {
   "codemirror_mode": {
    "name": "ipython",
    "version": 3
   },
   "file_extension": ".py",
   "mimetype": "text/x-python",
   "name": "python",
   "nbconvert_exporter": "python",
   "pygments_lexer": "ipython3",
   "version": "3.8.8"
  }
 },
 "nbformat": 4,
 "nbformat_minor": 5
}
